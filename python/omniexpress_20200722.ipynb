{
 "cells": [
  {
   "cell_type": "markdown",
   "metadata": {
    "collapsed": true,
    "pycharm": {
     "name": "#%% md\n"
    }
   },
   "source": [
    "# Pooling-imputation performance from real bead chip data with high density markers\n",
    "\n",
    "Performs pooling simulation and imputation on data from the chromosome 20 of 1000GP.\n",
    "Markers have been chosen as the intersection between the real bead chip Illumina Infinium OmniExpress2.5 - 8 Kit\n",
    " (https://support.illumina.com/array/array_kits/humanomniexpress2.5-8-beadchip-kit/downloads.html) \n",
    " and the chr20 1000GP data. The samples are randomly assigned to the reference panel or the study population.\n",
    "\n",
    "Apply pooling simulation on this data, and imputation with Beagle: \n",
    "**pool and impute bead chip markers only, compute metrics and plot statistics** \n",
    "Phasing + imputation are run per sample for trying to get rid of the biased genetic structure in the study population\n",
    "that seems to strongly impact clustered genotypes"
   ]
  },
  {
   "cell_type": "code",
   "execution_count": 1,
   "outputs": [],
   "source": [
    "import os\n",
    "\n",
    "try:\n",
    "    os.mkdir('/home/camille/PoolImpHuman/data/20200722')\n",
    "except FileExistsError:\n",
    "    pass\n",
    "os.chdir('/home/camille/PoolImpHuman/data/20200722')"
   ],
   "metadata": {
    "collapsed": false,
    "pycharm": {
     "name": "#%%\n",
     "is_executing": false
    }
   }
  },
  {
   "cell_type": "code",
   "execution_count": 2,
   "outputs": [
    {
     "data": {
      "text/plain": "[\"ln: failed to create symbolic link './InfiniumOmniExpress-chr20-CHROM-POS.txt': File exists\"]"
     },
     "metadata": {},
     "output_type": "execute_result",
     "execution_count": 2
    }
   ],
   "source": [
    "print('Configure directory')\n",
    "%sx ln -s ~/1000Genomes/scripts/VCFPooling/python/omniexpress_20200722.ipynb ./\n",
    "%sx ln -s ../omniexpress8/InfiniumOmniExpress-chr20-CHROM-POS.txt ./"
   ],
   "metadata": {
    "collapsed": false,
    "pycharm": {
     "name": "#%%\n",
     "is_executing": false
    }
   }
  },
  {
   "cell_type": "markdown",
   "source": [
    "### Prepare experimental VCF file\n",
    "\n",
    "IMP.chr20.pooled.snps and REF files are identical to 20200709 (imputation with default parameters)\n",
    "IMP.imputed from per-sample processing on UPPMAX"
   ],
   "metadata": {
    "collapsed": false,
    "pycharm": {
     "name": "#%% md\n"
    }
   }
  },
  {
   "cell_type": "code",
   "execution_count": 3,
   "outputs": [
    {
     "name": "stdout",
     "text": [
      "Impute missing genotypes in the pooled file\n"
     ],
     "output_type": "stream"
    }
   ],
   "source": [
    "print('Impute missing genotypes in the pooled file')"
   ],
   "metadata": {
    "collapsed": false,
    "pycharm": {
     "name": "#%%\n",
     "is_executing": false
    }
   }
  },
  {
   "cell_type": "code",
   "execution_count": 4,
   "outputs": [
    {
     "name": "stdout",
     "text": [
      "Plotting results with bcftools stats\n"
     ],
     "output_type": "stream"
    },
    {
     "data": {
      "text/plain": "['Parsing bcftools stats output: filestats.vchk',\n 'Warning: Possible version mismatch, the definition line differs',\n '\\texpected: # PSC\\t[2]id\\t[3]sample\\t[4]nRefHom\\t[5]nNonRefHom\\t[6]nHets\\t[7]nTransitions\\t[8]nTransversions\\t[9]nIndels\\t[10]average depth\\t[11]nSingletons',\n '\\tfound:    # PSC\\t[2]id\\t[3]sample\\t[4]nRefHom\\t[5]nNonRefHom\\t[6]nHets\\t[7]nTransitions\\t[8]nTransversions\\t[9]nIndels\\t[10]average depth\\t[11]nSingletons\\t[12]nHapRef\\t[13]nHapAlt\\t[14]nMissing',\n 'Plotting graphs: python plot.py',\n 'plot.py:208: UserWarning: Attempted to set non-positive left xlim on a log-scaled axis.',\n 'Invalid limit will be ignored.',\n '  ax1.set_xlim(0,1.01)',\n 'plot.py:230: UserWarning: Attempted to set non-positive left xlim on a log-scaled axis.',\n 'Invalid limit will be ignored.',\n '  ax1.set_xlim(0,1.01)',\n 'Creating PDF: pdflatex summary.tex >plot-vcfstats.log 2>&1',\n 'Finished: bcftoolstats/summary.pdf']"
     },
     "metadata": {},
     "output_type": "execute_result",
     "execution_count": 4
    }
   ],
   "source": [
    "print('Plotting results with bcftools stats')\n",
    "%sx deactivate\n",
    "# bcftools stats needs python 2.7\n",
    "%sx ln -s /home/camille/PoolImpHuman/data/20200709/study.population\n",
    "%sx bcftools stats --af-bins 0.01,0.02,0.04,0.08,0.1,0.2,0.3,0.4,0.5,0.6,0.7,0.8,0.9,0.98 --collapse snps -S study.population IMP.chr20.pooled.imputed.vcf.gz IMP.chr20.snps.gt.vcf.gz > filestats.vchk\n",
    "%sx plot-vcfstats -p bcftoolstats -s filestats.vchk"
   ],
   "metadata": {
    "collapsed": false,
    "pycharm": {
     "name": "#%%\n",
     "is_executing": false
    }
   }
  },
  {
   "cell_type": "markdown",
   "source": [
    "### Compute results with customized metrics"
   ],
   "metadata": {
    "collapsed": false,
    "pycharm": {
     "name": "#%% md\n"
    }
   }
  },
  {
   "cell_type": "code",
   "execution_count": 5,
   "outputs": [],
   "source": [
    "paths = {'beaglegt': {\n",
    "    'true': '/home/camille/PoolImpHuman/data/20200722/IMP.chr20.snps.gt.vcf.gz',\n",
    "    'imputed': '/home/camille/PoolImpHuman/data/20200722/IMP.chr20.pooled.imputed.vcf.gz'},\n",
    "         'beaglegl': {\n",
    "     'true': '/home/camille/PoolImpHuman/data/20200722/IMP.chr20.snps.gl.vcf.gz',\n",
    "     'imputed': '/home/camille/PoolImpHuman/data/20200722/IMP.chr20.pooled.imputed.vcf.gz'},\n",
    "}"
   ],
   "metadata": {
    "collapsed": false,
    "pycharm": {
     "name": "#%%\n",
     "is_executing": false
    }
   }
  },
  {
   "cell_type": "code",
   "execution_count": 6,
   "outputs": [],
   "source": [
    "import subprocess\n",
    "\n",
    "convertgtgl = True\n",
    "if convertgtgl:\n",
    "    cmd = 'bash ~/PoolImpHuman/bin/bash-scripts/gt_to_gl.sh {} {}'.format(paths['beaglegt']['true'], paths['beaglegl']['true'])\n",
    "    subprocess.run(cmd, shell=True,)"
   ],
   "metadata": {
    "collapsed": false,
    "pycharm": {
     "name": "#%%\n",
     "is_executing": false
    }
   }
  },
  {
   "cell_type": "code",
   "execution_count": 9,
   "outputs": [],
   "source": [
    "import sys\n",
    "sys.path.insert(0, '/home/camille/1000Genomes/scripts/')\n",
    "import pandas as pd\n",
    "import numpy as np\n",
    "from VCFPooling.poolSNPs.metrics import quality"
   ],
   "metadata": {
    "collapsed": false,
    "pycharm": {
     "name": "#%%\n",
     "is_executing": false
    }
   }
  },
  {
   "cell_type": "code",
   "execution_count": 10,
   "outputs": [],
   "source": [
    "qbeaglegt = quality.QualityGT(*paths['beaglegt'].values(), 0, idx='id')"
   ],
   "metadata": {
    "collapsed": false,
    "pycharm": {
     "name": "#%%\n",
     "is_executing": false
    }
   }
  },
  {
   "cell_type": "code",
   "execution_count": 11,
   "outputs": [],
   "source": [
    "qbeaglegl = quality.QualityGL(paths['beaglegl']['true'], paths['beaglegl']['imputed'], 0, idx='id')\n",
    "messbeagle = qbeaglegl.cross_entropy"
   ],
   "metadata": {
    "collapsed": false,
    "pycharm": {
     "name": "#%% \n",
     "is_executing": false
    }
   }
  },
  {
   "cell_type": "code",
   "execution_count": 12,
   "outputs": [],
   "source": [
    "#qbeaglegl = quality.QualityGT(*paths['beaglegt'].values(), 0, idx='id')\n",
    "tabbeaglegl = pd.concat([qbeaglegt.concordance(),\n",
    "                       qbeaglegt.trueobj.af_info,\n",
    "                       qbeaglegt.pearsoncorrelation(),\n",
    "                       qbeaglegt.precision,\n",
    "                       qbeaglegt.accuracy,\n",
    "                       qbeaglegt.recall,\n",
    "                       qbeaglegt.f1_score,\n",
    "                        qbeaglegl.cross_entropy], axis=1)\n",
    "dosbeaglegl = qbeaglegt.alleledosage()\n"
   ],
   "metadata": {
    "collapsed": false,
    "pycharm": {
     "name": "#%%\n",
     "is_executing": false
    }
   }
  },
  {
   "cell_type": "code",
   "execution_count": 13,
   "outputs": [
    {
     "data": {
      "text/plain": "            concordance   af_info  r_squared  precision_score  accuracy_score  \\\nvariants                                                                        \nrs76553454     0.991667  0.005791   0.000071         0.983333        0.983333   \nrs6076506      0.450000  0.130990   0.007830         0.679497        0.512500   \nrs6139074      0.345833  0.218251   0.009508         0.466407        0.416667   \nrs1418258      0.350000  0.439497   0.043936         0.480784        0.479167   \nrs6086616      0.220833  0.571286   0.012636         0.326716        0.320833   \n\n            recall_score  f1_score  cross_entropy  \nvariants                                           \nrs76553454      0.983333  0.983333       0.041667  \nrs6076506       0.512500  0.575496       1.895833  \nrs6139074       0.416667  0.429820       2.541667  \nrs1418258       0.479167  0.462711       2.854167  \nrs6086616       0.320833  0.322118       3.104167  ",
      "text/html": "<div>\n<style scoped>\n    .dataframe tbody tr th:only-of-type {\n        vertical-align: middle;\n    }\n\n    .dataframe tbody tr th {\n        vertical-align: top;\n    }\n\n    .dataframe thead th {\n        text-align: right;\n    }\n</style>\n<table border=\"1\" class=\"dataframe\">\n  <thead>\n    <tr style=\"text-align: right;\">\n      <th></th>\n      <th>concordance</th>\n      <th>af_info</th>\n      <th>r_squared</th>\n      <th>precision_score</th>\n      <th>accuracy_score</th>\n      <th>recall_score</th>\n      <th>f1_score</th>\n      <th>cross_entropy</th>\n    </tr>\n    <tr>\n      <th>variants</th>\n      <th></th>\n      <th></th>\n      <th></th>\n      <th></th>\n      <th></th>\n      <th></th>\n      <th></th>\n      <th></th>\n    </tr>\n  </thead>\n  <tbody>\n    <tr>\n      <th>rs76553454</th>\n      <td>0.991667</td>\n      <td>0.005791</td>\n      <td>0.000071</td>\n      <td>0.983333</td>\n      <td>0.983333</td>\n      <td>0.983333</td>\n      <td>0.983333</td>\n      <td>0.041667</td>\n    </tr>\n    <tr>\n      <th>rs6076506</th>\n      <td>0.450000</td>\n      <td>0.130990</td>\n      <td>0.007830</td>\n      <td>0.679497</td>\n      <td>0.512500</td>\n      <td>0.512500</td>\n      <td>0.575496</td>\n      <td>1.895833</td>\n    </tr>\n    <tr>\n      <th>rs6139074</th>\n      <td>0.345833</td>\n      <td>0.218251</td>\n      <td>0.009508</td>\n      <td>0.466407</td>\n      <td>0.416667</td>\n      <td>0.416667</td>\n      <td>0.429820</td>\n      <td>2.541667</td>\n    </tr>\n    <tr>\n      <th>rs1418258</th>\n      <td>0.350000</td>\n      <td>0.439497</td>\n      <td>0.043936</td>\n      <td>0.480784</td>\n      <td>0.479167</td>\n      <td>0.479167</td>\n      <td>0.462711</td>\n      <td>2.854167</td>\n    </tr>\n    <tr>\n      <th>rs6086616</th>\n      <td>0.220833</td>\n      <td>0.571286</td>\n      <td>0.012636</td>\n      <td>0.326716</td>\n      <td>0.320833</td>\n      <td>0.320833</td>\n      <td>0.322118</td>\n      <td>3.104167</td>\n    </tr>\n  </tbody>\n</table>\n</div>"
     },
     "metadata": {},
     "output_type": "execute_result",
     "execution_count": 13
    }
   ],
   "source": [
    "tabbeaglegl.head()"
   ],
   "metadata": {
    "collapsed": false,
    "pycharm": {
     "name": "#%%\n",
     "is_executing": false
    }
   }
  },
  {
   "cell_type": "code",
   "execution_count": 14,
   "outputs": [
    {
     "data": {
      "text/plain": "<Figure size 2000x800 with 8 Axes>"
     },
     "metadata": {},
     "output_type": "display_data"
    }
   ],
   "source": [
    "import matplotlib.pyplot as plt\n",
    "\n",
    "plt.rcParams[\"figure.figsize\"] = [5*4, 4*2]\n",
    "fig, axes = plt.subplots(2, 4)\n",
    "\n",
    "tabbeaglegl.plot.scatter('af_info', 'precision_score', ax=axes[0, 0], s=0.7, label='beaglegl')\n",
    "axes[0, 0].set_ylim(0.0, 1.0)\n",
    "tabbeaglegl.plot.scatter('af_info', 'accuracy_score', ax=axes[0, 1], s=0.7, label='beaglegl')\n",
    "axes[0, 1].set_ylim(0.0, 1.0)\n",
    "tabbeaglegl.plot.scatter('af_info', 'concordance', ax=axes[0, 2], s=0.7, label='beaglegl')\n",
    "axes[0, 2].set_ylim(0.0, 1.0)\n",
    "tabbeaglegl.plot.scatter('af_info', 'f1_score', ax=axes[0, 3], s=0.7, label='beaglegl')\n",
    "axes[0, 3].set_ylim(0.0, 1.0)\n",
    "tabbeaglegl.plot.scatter('af_info', 'r_squared', ax=axes[1, 0], s=0.7, label='beaglegl')\n",
    "axes[1, 0].set_ylim(-0.2, 1.0)\n",
    "tabbeaglegl.plot.scatter('af_info', 'cross_entropy', ax=axes[1, 1], s=0.7, label='beaglegl')\n",
    "axes[1, 1].set_ylim(-0.5, 5.0)\n",
    "axes[1, 2].scatter(dosbeaglegl[0], dosbeaglegl[1], s=0.7, label='beaglegl')\n",
    "axes[1, 2].set_xlabel('true allele dosage')\n",
    "axes[1, 2].set_ylabel('imputed allele dosage')\n",
    "axes[1, 2].set_ylim(0.0, 2.0)\n",
    "\n",
    "for ax in axes.flatten()[:-2]:\n",
    "    # cast color to white 'w' if dark background\n",
    "    ax.set_xlabel('true alternate allele frequency', color='w')\n",
    "    ax.set_ylabel(ax.get_ylabel(), color='w')\n",
    "plt.savefig(os.path.join(os.path.dirname(paths['beaglegt']['imputed']), 'imputation_quality_gtgl.png'))\n",
    "plt.show()"
   ],
   "metadata": {
    "collapsed": false,
    "pycharm": {
     "name": "#%%\n",
     "is_executing": false
    }
   }
  }
 ],
 "metadata": {
  "kernelspec": {
   "display_name": "Python 3",
   "language": "python",
   "name": "python3"
  },
  "language_info": {
   "codemirror_mode": {
    "name": "ipython",
    "version": 2
   },
   "file_extension": ".py",
   "mimetype": "text/x-python",
   "name": "python",
   "nbconvert_exporter": "python",
   "pygments_lexer": "ipython2",
   "version": "2.7.6"
  },
  "pycharm": {
   "stem_cell": {
    "cell_type": "raw",
    "source": [],
    "metadata": {
     "collapsed": false
    }
   }
  }
 },
 "nbformat": 4,
 "nbformat_minor": 0
}