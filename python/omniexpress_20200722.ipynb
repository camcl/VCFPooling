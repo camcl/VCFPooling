{
 "cells": [
  {
   "cell_type": "markdown",
   "metadata": {
    "collapsed": true,
    "pycharm": {
     "name": "#%% md\n"
    }
   },
   "source": [
    "# Pooling-imputation performance from real bead chip data with high density markers\n",
    "\n",
    "Performs pooling simulation and imputation on data from the chromosome 20 of 1000GP.\n",
    "Markers have been chosen as the intersection between the real bead chip Illumina Infinium OmniExpress2.5 - 8 Kit\n",
    " (https://support.illumina.com/array/array_kits/humanomniexpress2.5-8-beadchip-kit/downloads.html) \n",
    " and the chr20 1000GP data. The samples are randomly assigned to the reference panel or the study population.\n",
    "\n",
    "Apply pooling simulation on this data, and imputation with Beagle: \n",
    "**pool and impute bead chip markers only, compute metrics and plot statistics** \n",
    "Phasing + imputation are run per sample for trying to get rid of the biased genetic structure in the study population\n",
    "that seems to strongly impact clustered genotypes"
   ]
  },
  {
   "cell_type": "code",
   "execution_count": 3,
   "outputs": [],
   "source": [
    "import os\n",
    "\n",
    "try:\n",
    "    os.mkdir('/home/camille/PoolImpHuman/data/20200722')\n",
    "except FileExistsError:\n",
    "    pass\n",
    "os.chdir('/home/camille/PoolImpHuman/data/20200722')"
   ],
   "metadata": {
    "collapsed": false,
    "pycharm": {
     "name": "#%%\n",
     "is_executing": false
    }
   }
  },
  {
   "cell_type": "code",
   "execution_count": 2,
   "outputs": [
    {
     "data": {
      "text/plain": "[\"ln: failed to create symbolic link './InfiniumOmniExpress-chr20-CHROM-POS.txt': File exists\"]"
     },
     "metadata": {},
     "output_type": "execute_result",
     "execution_count": 2
    }
   ],
   "source": [
    "print('Configure directory')\n",
    "%sx ln -s ~/1000Genomes/scripts/VCFPooling/python/omniexpress_20200722.ipynb ./\n",
    "%sx ln -s ../omniexpress8/InfiniumOmniExpress-chr20-CHROM-POS.txt ./"
   ],
   "metadata": {
    "collapsed": false,
    "pycharm": {
     "name": "#%%\n",
     "is_executing": false
    }
   }
  },
  {
   "cell_type": "markdown",
   "source": [
    "### Prepare experimental VCF file\n",
    "\n",
    "IMP.chr20.pooled.snps and REF files are identical to 20200709 (imputation with default parameters)\n",
    "IMP.imputed from per-sample processing on UPPMAX"
   ],
   "metadata": {
    "collapsed": false,
    "pycharm": {
     "name": "#%% md\n"
    }
   }
  },
  {
   "cell_type": "code",
   "execution_count": 3,
   "outputs": [
    {
     "name": "stdout",
     "text": [
      "Impute missing genotypes in the pooled file\n"
     ],
     "output_type": "stream"
    }
   ],
   "source": [
    "print('Impute missing genotypes in the pooled file')\n",
    "# Reindex file\n",
    "%sx bcftools index -f IMP.chr20.pooled.imputed.vcf.gz"
   ],
   "metadata": {
    "collapsed": false,
    "pycharm": {
     "name": "#%%\n",
     "is_executing": false
    }
   }
  },
  {
   "cell_type": "code",
   "execution_count": 2,
   "outputs": [
    {
     "name": "stdout",
     "text": [
      "Plotting results with bcftools stats\n"
     ],
     "output_type": "stream"
    },
    {
     "data": {
      "text/plain": "['Parsing bcftools stats output: filestats.vchk',\n 'Warning: Possible version mismatch, the definition line differs',\n '\\texpected: # PSC\\t[2]id\\t[3]sample\\t[4]nRefHom\\t[5]nNonRefHom\\t[6]nHets\\t[7]nTransitions\\t[8]nTransversions\\t[9]nIndels\\t[10]average depth\\t[11]nSingletons',\n '\\tfound:    # PSC\\t[2]id\\t[3]sample\\t[4]nRefHom\\t[5]nNonRefHom\\t[6]nHets\\t[7]nTransitions\\t[8]nTransversions\\t[9]nIndels\\t[10]average depth\\t[11]nSingletons\\t[12]nHapRef\\t[13]nHapAlt\\t[14]nMissing',\n 'Plotting graphs: python plot.py',\n 'plot.py:208: UserWarning: Attempted to set non-positive left xlim on a log-scaled axis.',\n 'Invalid limit will be ignored.',\n '  ax1.set_xlim(0,1.01)',\n 'plot.py:230: UserWarning: Attempted to set non-positive left xlim on a log-scaled axis.',\n 'Invalid limit will be ignored.',\n '  ax1.set_xlim(0,1.01)',\n 'Creating PDF: pdflatex summary.tex >plot-vcfstats.log 2>&1',\n 'Finished: bcftoolstats/summary.pdf']"
     },
     "metadata": {},
     "output_type": "execute_result",
     "execution_count": 2
    }
   ],
   "source": [
    "print('Plotting results with bcftools stats')\n",
    "%sx deactivate\n",
    "# bcftools stats needs python 2.7\n",
    "%sx ln -s /home/camille/PoolImpHuman/data/20200709/study.population\n",
    "%sx bcftools stats --af-bins 0.01,0.02,0.04,0.08,0.1,0.2,0.3,0.4,0.5,0.6,0.7,0.8,0.9,0.98 --collapse snps -S study.population IMP.chr20.pooled.imputed.vcf.gz IMP.chr20.snps.gt.vcf.gz > filestats.vchk\n",
    "%sx plot-vcfstats -p bcftoolstats -s filestats.vchk"
   ],
   "metadata": {
    "collapsed": false,
    "pycharm": {
     "name": "#%%\n",
     "is_executing": false
    }
   }
  },
  {
   "cell_type": "markdown",
   "source": [
    "### Compute results with customized metrics"
   ],
   "metadata": {
    "collapsed": false,
    "pycharm": {
     "name": "#%% md\n"
    }
   }
  },
  {
   "cell_type": "code",
   "execution_count": 4,
   "outputs": [
    {
     "data": {
      "text/plain": "['/home/camille/PoolImpHuman',\n '[W::hts_idx_load2] The index file is older than the data file: ./IMP.chr20.pooled.imputed.vcf.gz.csi',\n '[W::hts_idx_load2] The index file is older than the data file: ./IMP.chr20.pooled.imputed.vcf.gz.csi',\n '[W::hts_idx_load2] The index file is older than the data file: ./IMP.chr20.pooled.imputed.vcf.gz.csi',\n '[W::hts_idx_load2] The index file is older than the data file: ./IMP.chr20.pooled.imputed.vcf.gz.csi',\n '[W::hts_idx_load2] The index file is older than the data file: ./IMP.chr20.pooled.imputed.vcf.gz.csi',\n '[W::hts_idx_load2] The index file is older than the data file: ./IMP.chr20.pooled.imputed.vcf.gz.csi',\n '[W::hts_idx_load2] The index file is older than the data file: ./IMP.chr20.pooled.imputed.vcf.gz.csi',\n '[W::hts_idx_load2] The index file is older than the data file: ./IMP.chr20.pooled.imputed.vcf.gz.csi',\n '/home/camille/1000Genomes/src/VCFPooling/poolSNPs/metrics/quality.py:335: RuntimeWarning: divide by zero encountered in log',\n '  np.log(np.asarray(y, dtype=float))',\n '[W::hts_idx_load2] The index file is older than the data file: ./IMP.chr20.pooled.imputed.vcf.gz.csi',\n '[W::hts_idx_load2] The index file is older than the data file: ./IMP.chr20.pooled.imputed.vcf.gz.csi',\n '[W::hts_idx_load2] The index file is older than the data file: ./IMP.chr20.pooled.imputed.vcf.gz.csi',\n '[W::hts_idx_load2] The index file is older than the data file: ./IMP.chr20.pooled.imputed.vcf.gz.csi',\n '[W::hts_idx_load2] The index file is older than the data file: ./IMP.chr20.pooled.imputed.vcf.gz.csi',\n '[W::hts_idx_load2] The index file is older than the data file: ./IMP.chr20.pooled.imputed.vcf.gz.csi',\n '[W::hts_idx_load2] The index file is older than the data file: ./IMP.chr20.pooled.imputed.vcf.gz.csi',\n '[W::hts_idx_load2] The index file is older than the data file: ./IMP.chr20.pooled.imputed.vcf.gz.csi',\n '/home/camille/1000Genomes/venv3.6/lib/python3.6/site-packages/scipy/stats/stats.py:3399: PearsonRConstantInputWarning: An input array is constant; the correlation coefficent is not defined.',\n '  warnings.warn(PearsonRConstantInputWarning())',\n '[W::hts_idx_load2] The index file is older than the data file: ./IMP.chr20.pooled.imputed.vcf.gz.csi',\n '[W::hts_idx_load2] The index file is older than the data file: ./IMP.chr20.pooled.imputed.vcf.gz.csi',\n '[W::hts_idx_load2] The index file is older than the data file: ./IMP.chr20.pooled.imputed.vcf.gz.csi',\n '[W::hts_idx_load2] The index file is older than the data file: ./IMP.chr20.pooled.imputed.vcf.gz.csi',\n '/home/camille/1000Genomes/venv3.6/lib/python3.6/site-packages/sklearn/metrics/classification.py:1437: UndefinedMetricWarning: Precision is ill-defined and being set to 0.0 in labels with no predicted samples.',\n \"  'precision', 'predicted', average, warn_for)\",\n '[W::hts_idx_load2] The index file is older than the data file: ./IMP.chr20.pooled.imputed.vcf.gz.csi',\n '[W::hts_idx_load2] The index file is older than the data file: ./IMP.chr20.pooled.imputed.vcf.gz.csi',\n '[W::hts_idx_load2] The index file is older than the data file: ./IMP.chr20.pooled.imputed.vcf.gz.csi',\n '[W::hts_idx_load2] The index file is older than the data file: ./IMP.chr20.pooled.imputed.vcf.gz.csi',\n '[W::hts_idx_load2] The index file is older than the data file: ./IMP.chr20.pooled.imputed.vcf.gz.csi',\n '[W::hts_idx_load2] The index file is older than the data file: ./IMP.chr20.pooled.imputed.vcf.gz.csi',\n '[W::hts_idx_load2] The index file is older than the data file: ./IMP.chr20.pooled.imputed.vcf.gz.csi',\n '[W::hts_idx_load2] The index file is older than the data file: ./IMP.chr20.pooled.imputed.vcf.gz.csi',\n '/home/camille/1000Genomes/venv3.6/lib/python3.6/site-packages/sklearn/metrics/classification.py:1439: UndefinedMetricWarning: Recall is ill-defined and being set to 0.0 in labels with no true samples.',\n \"  'recall', 'true', average, warn_for)\",\n '[W::hts_idx_load2] The index file is older than the data file: ./IMP.chr20.pooled.imputed.vcf.gz.csi',\n '[W::hts_idx_load2] The index file is older than the data file: ./IMP.chr20.pooled.imputed.vcf.gz.csi',\n '[W::hts_idx_load2] The index file is older than the data file: ./IMP.chr20.pooled.imputed.vcf.gz.csi',\n '[W::hts_idx_load2] The index file is older than the data file: ./IMP.chr20.pooled.imputed.vcf.gz.csi',\n '/home/camille/1000Genomes/venv3.6/lib/python3.6/site-packages/sklearn/metrics/classification.py:1437: UndefinedMetricWarning: F-score is ill-defined and being set to 0.0 in labels with no predicted samples.',\n \"  'precision', 'predicted', average, warn_for)\",\n '/home/camille/1000Genomes/venv3.6/lib/python3.6/site-packages/sklearn/metrics/classification.py:1439: UndefinedMetricWarning: F-score is ill-defined and being set to 0.0 in labels with no true samples.',\n \"  'recall', 'true', average, warn_for)\",\n '[W::hts_idx_load2] The index file is older than the data file: ./IMP.chr20.pooled.imputed.vcf.gz.csi',\n '[W::hts_idx_load2] The index file is older than the data file: ./IMP.chr20.pooled.imputed.vcf.gz.csi',\n '[W::hts_idx_load2] The index file is older than the data file: ./IMP.chr20.pooled.imputed.vcf.gz.csi',\n '[W::hts_idx_load2] The index file is older than the data file: ./IMP.chr20.pooled.imputed.vcf.gz.csi',\n '[W::hts_idx_load2] The index file is older than the data file: ./IMP.chr20.pooled.imputed.vcf.gz.csi',\n '[W::hts_idx_load2] The index file is older than the data file: ./IMP.chr20.pooled.imputed.vcf.gz.csi',\n 'Figure(2000x800)']"
     },
     "metadata": {},
     "output_type": "execute_result",
     "execution_count": 4
    }
   ],
   "source": [
    "os.chdir('/home/camille/PoolImpHuman/data/20200722')\n",
    "%sx python3 -u /home/camille/1000Genomes/src/VCFPooling/poolSNPs/imputation_quality.py ./ IMP.chr20.snps.gt.vcf.gz IMP.chr20.pooled.imputed.vcf.gz /home/camille/1000Genomes/src/VCFPooling/bin/gt_to_gl.sh \"chrom:pos\"  "
   ],
   "metadata": {
    "collapsed": false,
    "pycharm": {
     "name": "#%%\n",
     "is_executing": false
    }
   }
  },
  {
   "cell_type": "code",
   "execution_count": 6,
   "outputs": [],
   "source": [
    "# Verify files created at the different phasing and imputation steps\n",
    "assert os.path.exists('imputation_quality_gtgl.png')"
   ],
   "metadata": {
    "collapsed": false,
    "pycharm": {
     "name": "#%%\n",
     "is_executing": false
    }
   }
  },
  {
   "cell_type": "markdown",
   "source": [
    "### Single individual results for HG01063\n",
    "Same individual as the test one for Phaser (20200801)"
   ],
   "metadata": {
    "collapsed": false
   }
  },
  {
   "cell_type": "code",
   "execution_count": null,
   "outputs": [],
   "source": [
    "# Create idv files (true and imputed genotypes)\n",
    "%sx bcftools view -Oz -o sHG01063.IMP.chr20.snps.gt.vcf.gz -s HG01063 IMP.chr20.snps.gt.vcf.gz\n",
    "%sx bcftools view -Oz -o sHG01063.IMP.chr20.pooled.imputed.vcf.gz -s HG01063 IMP.chr20.pooled.imputed.vcf.gz\n",
    "%sx bcftools index -f sHG01063.IMP.chr20.snps.gt.vcf.gz\n",
    "%sx bcftools index -f sHG01063.IMP.chr20.pooled.imputed.vcf.gz\n",
    "\n",
    "# if bcftools is configured for python 2.7 usage \n",
    "print('Plotting results with bcftools stats')\n",
    "%sx deactivate\n",
    "# bcftools stats needs python 2.7\n",
    "%sx bcftools stats --af-bins 0.01,0.02,0.04,0.08,0.1,0.2,0.3,0.4,0.5,0.6,0.7,0.8,0.9,0.98 --collapse snps -s HG01063 sHG01063.IMP.chr20.pooled.imputed.vcf.gz sHG01063.IMP.chr20.snps.gt.vcf.gz > filestats.vchk\n",
    "%sx plot-vcfstats -p bcftoolstats -s filestats.vchk"
   ],
   "metadata": {
    "collapsed": false,
    "pycharm": {
     "name": "#%%\n"
    }
   }
  }
 ],
 "metadata": {
  "kernelspec": {
   "display_name": "Python 3",
   "language": "python",
   "name": "python3"
  },
  "language_info": {
   "codemirror_mode": {
    "name": "ipython",
    "version": 2
   },
   "file_extension": ".py",
   "mimetype": "text/x-python",
   "name": "python",
   "nbconvert_exporter": "python",
   "pygments_lexer": "ipython2",
   "version": "2.7.6"
  },
  "pycharm": {
   "stem_cell": {
    "cell_type": "raw",
    "source": [],
    "metadata": {
     "collapsed": false
    }
   }
  }
 },
 "nbformat": 4,
 "nbformat_minor": 0
}