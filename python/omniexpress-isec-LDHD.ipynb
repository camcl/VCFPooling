{
 "cells": [
  {
   "cell_type": "markdown",
   "metadata": {
    "collapsed": true,
    "pycharm": {
     "name": "#%% md\n"
    }
   },
   "source": [
    "# Data sets preparation for investigating pooling-imputation performance from real bead chip data with low- and high-density genotyped markers\n",
    "\n",
    "Use data from the chromosome 20 of 1000GP intersected with markers on real bead chips\n",
    " manufactured by Illumina :\n",
    "* High-density genotyped markers (HD markers): Illumina Infinium OmniExpress2.5 - 8 Kit\n",
    "  (https://support.illumina.com/array/array_kits/humanomniexpress2.5-8-beadchip-kit/downloads.html) \n",
    "* Low-density genotyped markers (HD markers): Illumina Infinium OmniExpress - 24 Kit\n",
    "  (https://support.illumina.com/array/array_kits/humanomniexpress-24-beadchip-kit/downloads.html) \n",
    " \n",
    "## Preparation\n",
    "Prepare data sources and sets, reconfigure paths and directories\n",
    "* Renamed /home/camille/PoolImpHuman/data/omniexpress into /home/camille/PoolImpHuman/data/20200624\n",
    "* /home/camille/PoolImpHuman/data/omniexpress8 is supposed to contain the physical coordinates of markers on the Illumina bead chip **OmniExpress2.5 - 8 Kit** + the intersected chr20 markers from the 1KGP + code for creating the files. This is the **high-density set of markers**. \n",
    "* /home/camille/PoolImpHuman/data/omniexpress24 is supposed to contain the physical coordinates of markers on the Illumina bead chip **OmniExpress - 24 Kit** + the intersected chr20 markers from the 1KGP + code for creating the files. This is the **low-density set of markers**. \n",
    "\n",
    "## Description\n",
    "This experiment aims to compare the performance of two approaches for genotyping markers at high-density:\n",
    "1. Approach#1 serves as baseline: usual case study of imputing markers in a population genotyped at low-density, using a reference panel genotyped at high-density\n",
    "2. Approach#2 evaluates achieving genotyping of markers at high-density from pools of individuals all genotyped at high-density (1 block of pool per bead chip with the chosen pooling scheme and bead chip model)\n",
    "\n",
    "## EDA of bead chips\n",
    "\n",
    "#### How many markers per bead chip? Does this correspond to proper low and high densities?\n",
    "* OmniExpress24 intersects 17,791 markers of the 1KGP chr20\n",
    "* OmniExpress8 intersects 52,697 markers of the 1KGP chr20\n",
    " \n",
    "~~Not enough density difference? Try with even more sparse chip like Infinium Core 24?~~\n",
    "\n",
    "* GWAS 2010: \"Imputation of 500 (1000) samples genotyped at 872 SNPs from 1000 haplotypes at 8712 SNPs a 5Mb region\" --> ratio 1:10 number of refpan:target SNPs\n",
    "* chromosome 20 Mb size? Approx. 64Mb (millions of base pairs) reported last. In 1KGP: from POS 60,343 to POS 62,965,354 --> 62,905,011 i.e. 63Mb\n",
    "```bash\n",
    "~/PoolImpHuman/data/main$ bcftools query -f '%POS\\n' ALL.chr20.snps.gt.vcf.gz | head -1\n",
    "60343\n",
    "\n",
    "~/PoolImpHuman/data/main$ bcftools query -f '%POS\\n' ALL.chr20.snps.gt.vcf.gz | tail -1\n",
    "62965354"
   ]
  },
  {
   "cell_type": "code",
   "execution_count": 1,
   "outputs": [
    {
     "name": "stdout",
     "text": [
      "/home/camille/1000Genomes/src\n"
     ],
     "output_type": "stream"
    }
   ],
   "source": [
    "import os, sys\n",
    "\n",
    "rootdir = os.path.dirname(os.path.dirname(os.getcwd()))\n",
    "print(rootdir)\n",
    "sys.path.insert(0, rootdir)\n",
    "\n",
    "try:\n",
    "    os.mkdir('/home/camille/PoolImpHuman/data/omniexpress-isec-LDHD')\n",
    "except FileExistsError:\n",
    "    pass\n",
    "os.chdir('/home/camille/PoolImpHuman/data/omniexpress-isec-LDHD')\n",
    "\n",
    "from VCFPooling.poolSNPs import dataframe as vcfdf"
   ],
   "metadata": {
    "collapsed": false,
    "pycharm": {
     "name": "#%%\n",
     "is_executing": false
    }
   }
  },
  {
   "cell_type": "code",
   "execution_count": 2,
   "outputs": [
    {
     "name": "stdout",
     "text": [
      "Configure directory\n"
     ],
     "output_type": "stream"
    },
    {
     "data": {
      "text/plain": "['This file was produced by vcfisec.',\n 'The command line was:\\tbcftools isec  -p ./isec ../20200710/IMP.chr20.pooled.snps.gl.vcf.gz IMP.chr20.snps.gt.vcf.gz',\n '',\n 'Using the following file names:',\n './isec/0000.vcf\\tfor records private to\\t../20200710/IMP.chr20.pooled.snps.gl.vcf.gz',\n './isec/0001.vcf\\tfor records private to\\tIMP.chr20.snps.gt.vcf.gz',\n './isec/0002.vcf\\tfor records from ../20200710/IMP.chr20.pooled.snps.gl.vcf.gz shared by both\\t../20200710/IMP.chr20.pooled.snps.gl.vcf.gz IMP.chr20.snps.gt.vcf.gz',\n './isec/0003.vcf\\tfor records from IMP.chr20.snps.gt.vcf.gz shared by both\\t../20200710/IMP.chr20.pooled.snps.gl.vcf.gz IMP.chr20.snps.gt.vcf.gz']"
     },
     "metadata": {},
     "output_type": "execute_result",
     "execution_count": 2
    }
   ],
   "source": [
    "print('Configure directory')\n",
    "%sx ln -s ../20200812/isec ./\n",
    "%sx ln -s ../20200812/IMP.chr20.snps.gt.vcf.gz ./IMP.chr20.snps.gt.fullHD.vcf.gz\n",
    "%sx ln -s ../20200812/IMP.chr20.snps.isecgt.vcf.gz ./IMP.chr20.snps.gt.fullLD.vcf.gz\n",
    "# Display contents of isec subfolder\n",
    "%sx cat isec/README.txt"
   ],
   "metadata": {
    "collapsed": false,
    "pycharm": {
     "name": "#%%\n",
     "is_executing": false
    }
   }
  },
  {
   "cell_type": "markdown",
   "source": [
    "```\n",
    "This file was produced by vcfisec.\n",
    "The command line was:\tbcftools isec  -p ./isec ../20200710/IMP.chr20.pooled.snps.gl.vcf.gz IMP.chr20.snps.gt.vcf.gz\n",
    "\n",
    "Using the following file names:\n",
    "./isec/0000.vcf\tfor records private to\t../20200710/IMP.chr20.pooled.snps.gl.vcf.gz\n",
    "./isec/0001.vcf\tfor records private to\tIMP.chr20.snps.gt.vcf.gz\n",
    "./isec/0002.vcf\tfor records from ../20200710/IMP.chr20.pooled.snps.gl.vcf.gz shared by both\t../20200710/IMP.chr20.pooled.snps.gl.vcf.gz IMP.chr20.snps.gt.vcf.gz\n",
    "./isec/0003.vcf\tfor records from IMP.chr20.snps.gt.vcf.gz shared by both\t../20200710/IMP.chr20.pooled.snps.gl.vcf.gz IMP.chr20.snps.gt.vcf.gz\n",
    "```"
   ],
   "metadata": {
    "collapsed": false,
    "pycharm": {
     "name": "#%% md\n"
    }
   }
  },
  {
   "cell_type": "code",
   "execution_count": 21,
   "outputs": [
    {
     "name": "stdout",
     "text": [
      "{'fullLD': 17791, 'fullHD': 52697, 'onlyLD': 776, 'onlyHD': 35682, 'isecLDHD': 17015}\n"
     ],
     "output_type": "stream"
    }
   ],
   "source": [
    "m_files = {\n",
    "    'fullLD': vcfdf.PandasMixedVCF('IMP.chr20.snps.gt.fullLD.vcf.gz', format='GT', indextype='id'),\n",
    "    'fullHD': vcfdf.PandasMixedVCF('IMP.chr20.snps.gt.fullHD.vcf.gz', format='GT', indextype='id'),\n",
    "    'onlyLD': vcfdf.PandasMixedVCF('./isec/0000.vcf', format='GT', indextype='id'),\n",
    "    'onlyHD': vcfdf.PandasMixedVCF('./isec/0001.vcf', format='GT', indextype='id'),\n",
    "    'isecLDHD': vcfdf.PandasMixedVCF('./isec/0002.vcf', format='GT', indextype='id')\n",
    "}\n",
    "\n",
    "# markers counts\n",
    "m_counts = {}\n",
    "for f, obj in m_files.items():\n",
    "    m_counts[f] = len(obj.variants)\n",
    "    \n",
    "print(m_counts)"
   ],
   "metadata": {
    "collapsed": false,
    "pycharm": {
     "name": "#%%\n",
     "is_executing": false
    }
   }
  },
  {
   "cell_type": "code",
   "execution_count": 46,
   "outputs": [
    {
     "data": {
      "text/plain": "<Figure size 864x288 with 1 Axes>",
      "image/png": "[encoded data removed]"
     },
     "metadata": {},
     "output_type": "display_data"
    }
   ],
   "source": [
    "# %sx pip3 install matplotlib-venn\n",
    "\n",
    "import numpy as np\n",
    "import matplotlib.pyplot as plt\n",
    "from matplotlib_venn import venn2\n",
    "\n",
    "plt.figure(figsize=(12,4))\n",
    "v = venn2(subsets = (m_counts['onlyHD'], m_counts['onlyLD'], m_counts['isecLDHD']), \n",
    "      set_labels = ('', ''))\n",
    "plt.title(\"Venn diagram of the makers composition on the Illumina bead-chips Omniexpress2.5 - 8 (HD) and Omniexpress 24 (LD)\")\n",
    "\n",
    "plt.annotate('Number of markers present in the HD data set only', xy=v.get_label_by_id('10').get_position() - np.array([0, 0.05]), xytext=(-70,-120),\n",
    "             ha='center', textcoords='offset points', bbox=dict(boxstyle='round,pad=0.5', fc='gray', alpha=0.1),\n",
    "             arrowprops=dict(arrowstyle='->', connectionstyle='arc3,rad=0.5',color='gray'))\n",
    "plt.annotate('HD: {} markers'.format(m_counts['fullHD']), xy=v.get_label_by_id('10').get_position() - np.array([0, 0.05]), xytext=(-90,-40),\n",
    "             ha='center', textcoords='offset points')\n",
    "\n",
    "plt.annotate('Number of markers present in the LD data set only', xy=v.get_label_by_id('01').get_position() + np.array([0, 0.05]), xytext=(140,50),\n",
    "             ha='center', textcoords='offset points', bbox=dict(boxstyle='round,pad=0.5', fc='gray', alpha=0.1),\n",
    "             arrowprops=dict(arrowstyle='->', connectionstyle='arc3,rad=0.5',color='gray'))\n",
    "plt.annotate('LD: {} markers'.format(m_counts['fullLD']), xy=v.get_label_by_id('01').get_position() + np.array([0, 0.05]), xytext=(50,-40),\n",
    "             ha='center', textcoords='offset points')\n",
    "\n",
    "plt.savefig('venn-diagram-LDHD.pdf')\n",
    "plt.show()\n",
    "\n"
   ],
   "metadata": {
    "collapsed": false,
    "pycharm": {
     "name": "#%%\n",
     "is_executing": false
    }
   }
  }
 ],
 "metadata": {
  "kernelspec": {
   "display_name": "Python 3",
   "language": "python",
   "name": "python3"
  },
  "language_info": {
   "codemirror_mode": {
    "name": "ipython",
    "version": 2
   },
   "file_extension": ".py",
   "mimetype": "text/x-python",
   "name": "python",
   "nbconvert_exporter": "python",
   "pygments_lexer": "ipython2",
   "version": "2.7.6"
  },
  "pycharm": {
   "stem_cell": {
    "cell_type": "raw",
    "source": [],
    "metadata": {
     "collapsed": false
    }
   }
  }
 },
 "nbformat": 4,
 "nbformat_minor": 0
}