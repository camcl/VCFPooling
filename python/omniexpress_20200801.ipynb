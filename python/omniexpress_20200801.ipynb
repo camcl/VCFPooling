{
 "cells": [
  {
   "cell_type": "code",
   "metadata": {
    "collapsed": true,
    "pycharm": {
     "name": "#%%\n",
     "is_executing": false
    }
   },
   "source": [
    "import os, sys\n",
    "\n",
    "rootdir = os.path.dirname(os.path.dirname(os.getcwd()))\n",
    "print(rootdir)\n",
    "sys.path.insert(0, rootdir)"
   ],
   "execution_count": 1,
   "outputs": [
    {
     "name": "stdout",
     "text": [
      "/home/camille/1000Genomes/src\n"
     ],
     "output_type": "stream"
    }
   ]
  },
  {
   "cell_type": "markdown",
   "source": [
    "# Pooling-imputation performance from real bead chip data with high density markers\n",
    "\n",
    "Performs imputation on data from the chromosome 20 of 1000GP on not pooled data.\n",
    "The 1KGP data spans from POS 60,343 to POS 62,965,354 i.e. a size of ca. 63Mb.\n",
    "\n",
    "The target and the reference markers from the intersection between the real bead chip Illumina Infinium OmniExpress - 24 Kit\n",
    " and the chr20 1000GP data. These are ca. 17,791 markers which corresponds to a density of approx. 1 SNP per 3,35 kb \n",
    " (bibliography Beagle07 mentions 1 SNP per 3 kb for low-density coverage).\n",
    " \n",
    "The samples are assigned to the reference panel or the study population in the same layout as imputing pooled samples\n",
    "  on high-density genotyped markers (see 20200709).\n",
    "\n",
    "Apply pooling simulation on this data, and imputation with Phaser for 1 individual (dev version): \n",
    "**pool and impute bead chip markers only, compute metrics and plot statistics** "
   ],
   "metadata": {
    "collapsed": false
   }
  },
  {
   "cell_type": "code",
   "execution_count": 2,
   "outputs": [],
   "source": [
    "try:\n",
    "    os.mkdir('/home/camille/PoolImpHuman/data/20200801')\n",
    "except FileExistsError:\n",
    "    pass\n",
    "os.chdir('/home/camille/PoolImpHuman/data/20200801')"
   ],
   "metadata": {
    "collapsed": false,
    "pycharm": {
     "name": "#%%\n",
     "is_executing": false
    }
   }
  },
  {
   "cell_type": "code",
   "execution_count": 3,
   "outputs": [
    {
     "name": "stdout",
     "text": [
      "Configure directory\n"
     ],
     "output_type": "stream"
    },
    {
     "data": {
      "text/plain": "[]"
     },
     "metadata": {},
     "output_type": "execute_result",
     "execution_count": 3
    }
   ],
   "source": [
    "print('Configure directory')\n",
    "%sx ln -s ~/1000Genomes/src/VCFPooling/python/omniexpress24chr20.ipynb ./\n",
    "%sx ln -s ~/1000Genomes/src/VCFPooling/python/omniexpress_20200801.ipynb ./\n",
    "%sx ln -s ../omniexpress24/InfiniumOmniExpress-chr20-CHROM-POS.txt ./\n",
    "\n",
    "# Use same target population as with imputation from pooled data\n",
    "%sx ln -s ../20200709/study.population\n",
    "%sx ln -s ../20200709/reference.panel\n",
    "%sx ln -s ../20200709/IMP.chr20.snps.gt.vcf.gz"
   ],
   "metadata": {
    "collapsed": false,
    "pycharm": {
     "name": "#%%\n",
     "is_executing": false
    }
   }
  },
  {
   "cell_type": "markdown",
   "source": [
    "### Prepare experimental VCF files (low-density coverage)"
   ],
   "metadata": {
    "collapsed": false,
    "pycharm": {
     "name": "#%% md\n"
    }
   }
  },
  {
   "cell_type": "code",
   "execution_count": 4,
   "outputs": [
    {
     "name": "stdout",
     "text": [
      "Create/copy individual files (true and imputed\n"
     ],
     "output_type": "stream"
    },
    {
     "data": {
      "text/plain": "[]"
     },
     "metadata": {},
     "output_type": "execute_result",
     "execution_count": 4
    }
   ],
   "source": [
    "print('Create/copy individual files (true and imputed')\n",
    "%sx cp ./phaser/omniexpressHD/HDHD/sHG01063.IMP.chr20.pooled.snps.gl.full.genos.vcf.gz ./sHG01063.IMP.chr20.pooled.imputed.vcf.gz\n",
    "%sx bcftools view -Oz -o sHG01063.IMP.chr20.snps.gt.vcf.gz -s HG01063 IMP.chr20.snps.gt.vcf.gz"
   ],
   "metadata": {
    "collapsed": false,
    "pycharm": {
     "name": "#%%\n",
     "is_executing": false
    }
   }
  },
  {
   "cell_type": "code",
   "execution_count": 5,
   "outputs": [
    {
     "name": "stdout",
     "text": [
      "Index files\n"
     ],
     "output_type": "stream"
    },
    {
     "data": {
      "text/plain": "[]"
     },
     "metadata": {},
     "output_type": "execute_result",
     "execution_count": 5
    }
   ],
   "source": [
    "print('Index files')\n",
    "%sx bcftools index sHG01063.IMP.chr20.pooled.imputed.vcf.gz\n",
    "%sx bcftools index sHG01063.IMP.chr20.snps.gt.vcf.gz"
   ],
   "metadata": {
    "collapsed": false,
    "pycharm": {
     "name": "#%%\n",
     "is_executing": false
    }
   }
  },
  {
   "cell_type": "code",
   "execution_count": 6,
   "outputs": [
    {
     "name": "stdout",
     "text": [
      "Check number of samples\n"
     ],
     "output_type": "stream"
    },
    {
     "data": {
      "text/plain": "['1']"
     },
     "metadata": {},
     "output_type": "execute_result",
     "execution_count": 6
    }
   ],
   "source": [
    "print('Check number of samples')\n",
    "%sx bcftools query -l sHG01063.IMP.chr20.pooled.imputed.vcf.gz | wc -l"
   ],
   "metadata": {
    "collapsed": false,
    "pycharm": {
     "name": "#%%\n",
     "is_executing": false
    }
   }
  },
  {
   "cell_type": "code",
   "execution_count": 7,
   "outputs": [
    {
     "name": "stdout",
     "text": [
      "Check number of intersected markers\n"
     ],
     "output_type": "stream"
    },
    {
     "data": {
      "text/plain": "[\"[W::vcf_parse_format] FORMAT 'GT' is not defined in the header, assuming Type=String\",\n '52697']"
     },
     "metadata": {},
     "output_type": "execute_result",
     "execution_count": 7
    }
   ],
   "source": [
    "print('Check number of intersected markers')\n",
    "%sx bcftools view -H sHG01063.IMP.chr20.pooled.imputed.vcf.gz | wc -l"
   ],
   "metadata": {
    "collapsed": false,
    "pycharm": {
     "name": "#%%\n",
     "is_executing": false
    }
   }
  },
  {
   "cell_type": "code",
   "execution_count": 8,
   "outputs": [
    {
     "data": {
      "text/plain": "['total 2208',\n 'drwxr-xr-x  3 camille camille    4096 aug  2 22:48 .',\n 'drwxr-xr-x 32 camille camille    4096 aug  2 22:03 ..',\n 'lrwxrwxrwx  1 camille camille      36 aug  2 22:48 IMP.chr20.snps.gt.vcf.gz -> ../20200709/IMP.chr20.snps.gt.vcf.gz',\n 'lrwxrwxrwx  1 camille camille      56 aug  2 22:48 InfiniumOmniExpress-chr20-CHROM-POS.txt -> ../omniexpress24/InfiniumOmniExpress-chr20-CHROM-POS.txt',\n 'lrwxrwxrwx  1 camille camille      74 aug  2 22:48 omniexpress_20200801.ipynb -> /home/camille/1000Genomes/src/VCFPooling/python/omniexpress_20200801.ipynb',\n 'lrwxrwxrwx  1 camille camille      72 aug  2 22:48 omniexpress24chr20.ipynb -> /home/camille/1000Genomes/src/VCFPooling/python/omniexpress24chr20.ipynb',\n 'drwxr-sr-x  5 camille camille    4096 aug  2 22:15 phaser',\n 'lrwxrwxrwx  1 camille camille      27 aug  2 22:48 reference.panel -> ../20200709/reference.panel',\n '-rw-r--r--  1 camille camille  393457 aug  2 22:48 sHG01063.IMP.chr20.pooled.imputed.vcf.gz',\n '-rw-rw-r--  1 camille camille   26667 aug  2 22:48 sHG01063.IMP.chr20.pooled.imputed.vcf.gz.csi',\n '-rw-rw-r--  1 camille camille 1785042 aug  2 22:48 sHG01063.IMP.chr20.snps.gt.vcf.gz',\n '-rw-rw-r--  1 camille camille   27389 aug  2 22:48 sHG01063.IMP.chr20.snps.gt.vcf.gz.csi',\n 'lrwxrwxrwx  1 camille camille      28 aug  2 22:48 study.population -> ../20200709/study.population']"
     },
     "metadata": {},
     "output_type": "execute_result",
     "execution_count": 8
    }
   ],
   "source": [
    "%sx pwd\n",
    "%sx ls -la"
   ],
   "metadata": {
    "collapsed": false,
    "pycharm": {
     "name": "#%%\n",
     "is_executing": false
    }
   }
  },
  {
   "cell_type": "markdown",
   "source": [
    "### Run pooling\n"
   ],
   "metadata": {
    "collapsed": false,
    "pycharm": {
     "name": "#%% md\n"
    }
   }
  },
  {
   "cell_type": "markdown",
   "source": [
    "### Run imputation\n",
    "With Phaser, on Rackham. Use gcc compiled version, no `--march`\n",
    "Steps:\n",
    "\n",
    "1. Prepare phaser folders and scripts\n",
    "```bash\n",
    "cd phaser/\n",
    "mkdir omniexpressLD && cd omniexpressLD\n",
    "cp ../omniexpress/run_omniHD_snowy.s* ./\n",
    "mv run_omniHD_snowy.sh run_omniLD_snowy.sh\n",
    "mv run_omniHD_snowy.sbatch run_omniLD_snowy.sbatch\n",
    "```\n",
    "\n",
    "Modify contents of `.sh` and `.sbatch` scripts\n",
    "```bash\n",
    "nano run_omniLD_snowy.sh\n",
    "```\n",
    "set to \n",
    "```\n",
    "# all paths are relative phaser/   (assumed this script is executed from phaser/omniexpressLD)\n",
    "cd ..\n",
    "\n",
    "ne=11418\n",
    "#error=0.001\n",
    "error=0.00001\n",
    "mapfile=examples/5_snps_interpolated_HapMap2_map_20\n",
    "indir=omniexpressLD/\n",
    "sample=$SLURM_ARRAY_TASK_ID\n",
    "samples_file=IMP.chr20.pooled.snps.gl.vcf.gz\n",
    "ref_file=omniexpressLD/REF.chr20.snps.gt.vcf.gz\n",
    "results_directory=omniexpressLD/LDLD/\n",
    "\n",
    "```\n",
    "\n",
    "```bash\n",
    "nano run_omniLD_snowy.sbatch\n",
    "```\n",
    "\n",
    "set to\n",
    "\n",
    "```\n",
    "#!/bin/bash -l\n",
    "#SBATCH -A snic2019-8-216\n",
    "#SBATCH -p node\n",
    "#SBATCH -C mem128GB\n",
    "#SBATCH -n 16\n",
    "#SBATCH -t 2-00:00:00\n",
    "#SBATCH -J omni_LD\n",
    "### assumes current directory is /crex/proj/snic2019-8-216/private/phaser/omniexpressLD\n",
    "module load bioinfo-tools\n",
    "module load bcftools/1.9\n",
    "module load tabix/0.2.6\n",
    "bash run_omniLD_snowy.sh # should use 16 OMP threads\n",
    "```\n",
    "\n",
    "2. Transfer experimental VCF files from local\n",
    "```bash\n",
    "~/PoolImpHuman/data/20200728$ scp *.vcf.gz* camcl609@rackham.uppmax.uu.se:/crex/proj/snic2019-8-216/private/phaser/omniexpressLD\n",
    "```"
   ],
   "metadata": {
    "collapsed": false,
    "pycharm": {
     "name": "#%% md\n"
    }
   }
  },
  {
   "cell_type": "code",
   "execution_count": 9,
   "outputs": [
    {
     "name": "stdout",
     "text": [
      "Impute missing genotypes in the low-density coverage file\n"
     ],
     "output_type": "stream"
    }
   ],
   "source": [
    "print('Impute missing genotypes in the low-density coverage file')\n",
    "#TODO: description above to Joplin Lab Notebook"
   ],
   "metadata": {
    "collapsed": false,
    "pycharm": {
     "name": "#%%\n",
     "is_executing": false
    }
   }
  },
  {
   "cell_type": "markdown",
   "source": [
    "### Compute results with customized metrics"
   ],
   "metadata": {
    "collapsed": false,
    "pycharm": {
     "name": "#%% md\n"
    }
   }
  },
  {
   "cell_type": "code",
   "execution_count": 3,
   "outputs": [
    {
     "data": {
      "text/plain": "['/home/camille/PoolImpHuman',\n \"[W::vcf_parse_format] FORMAT 'GT' is not defined in the header, assuming Type=String\",\n \"[W::vcf_parse_format] FORMAT 'GT' is not defined in the header, assuming Type=String\",\n \"[W::vcf_parse_format] FORMAT 'GT' is not defined in the header, assuming Type=String\",\n \"[W::vcf_parse_format] FORMAT 'GT' is not defined in the header, assuming Type=String\",\n \"[W::vcf_parse_format] FORMAT 'GT' is not defined in the header, assuming Type=String\",\n \"[W::vcf_parse_format] FORMAT 'GT' is not defined in the header, assuming Type=String\",\n 'Traceback (most recent call last):',\n '  File \"/home/camille/1000Genomes/src/VCFPooling/poolSNPs/imputation_quality.py\", line 58, in <module>',\n '    qbeaglegt.pearsoncorrelation(),',\n '  File \"/home/camille/1000Genomes/src/VCFPooling/poolSNPs/metrics/quality.py\", line 155, in pearsoncorrelation',\n '    score = list(map(scorer, zip(true, imputed)))',\n '  File \"/home/camille/1000Genomes/src/VCFPooling/poolSNPs/metrics/quality.py\", line 154, in <lambda>',\n '    scorer = lambda t: pearsonr(t[0], t[1])[0]  # keeps only correlation, not p-value',\n '  File \"/home/camille/1000Genomes/venv3.6/lib/python3.6/site-packages/scipy/stats/stats.py\", line 3392, in pearsonr',\n \"    raise ValueError('x and y must have length at least 2.')\",\n 'ValueError: x and y must have length at least 2.']"
     },
     "metadata": {},
     "output_type": "execute_result",
     "execution_count": 3
    }
   ],
   "source": [
    "os.chdir('/home/camille/PoolImpHuman/data/20200801')\n",
    "#%sx python3 -u /home/camille/1000Genomes/src/VCFPooling/poolSNPs/imputation_quality.py ./ sHG01063.IMP.chr20.snps.gt.vcf.gz sHG01063.IMP.chr20.pooled.imputed.vcf.gz /home/camille/1000Genomes/src/VCFPooling/bin/gt_to_gl.sh \"chrom:pos\"  "
   ],
   "metadata": {
    "collapsed": false,
    "pycharm": {
     "name": "#%%\n",
     "is_executing": false
    }
   }
  },
  {
   "cell_type": "code",
   "execution_count": 11,
   "outputs": [
    {
     "traceback": [
      "\u001b[0;31m---------------------------------------------------------------------------\u001b[0m",
      "\u001b[0;31mAssertionError\u001b[0m                            Traceback (most recent call last)",
      "\u001b[0;32m<ipython-input-11-daa5b92c3196>\u001b[0m in \u001b[0;36m<module>\u001b[0;34m\u001b[0m\n\u001b[1;32m      1\u001b[0m \u001b[0;31m# Verify files created at the different phasing and imputation steps\u001b[0m\u001b[0;34m\u001b[0m\u001b[0;34m\u001b[0m\u001b[0;34m\u001b[0m\u001b[0m\n\u001b[0;32m----> 2\u001b[0;31m \u001b[0;32massert\u001b[0m \u001b[0mos\u001b[0m\u001b[0;34m.\u001b[0m\u001b[0mpath\u001b[0m\u001b[0;34m.\u001b[0m\u001b[0mexists\u001b[0m\u001b[0;34m(\u001b[0m\u001b[0;34m'imputation_quality_gtgl.png'\u001b[0m\u001b[0;34m)\u001b[0m\u001b[0;34m\u001b[0m\u001b[0;34m\u001b[0m\u001b[0m\n\u001b[0m\u001b[1;32m      3\u001b[0m \u001b[0;34m\u001b[0m\u001b[0m\n\u001b[1;32m      4\u001b[0m \u001b[0;34m\u001b[0m\u001b[0m\n",
      "\u001b[0;31mAssertionError\u001b[0m: "
     ],
     "ename": "AssertionError",
     "evalue": "",
     "output_type": "error"
    }
   ],
   "source": [
    "# Verify files created at the different phasing and imputation steps\n",
    "assert os.path.exists('imputation_quality_gtgl.png')\n"
   ],
   "metadata": {
    "collapsed": false,
    "pycharm": {
     "name": "#%%\n",
     "is_executing": false
    }
   }
  },
  {
   "cell_type": "code",
   "execution_count": 4,
   "outputs": [
    {
     "name": "stdout",
     "text": [
      "Plotting results with bcftools stats\n"
     ],
     "output_type": "stream"
    },
    {
     "data": {
      "text/plain": "['Parsing bcftools stats output: filestats.vchk',\n 'Warning: Possible version mismatch, the definition line differs',\n '\\texpected: # PSC\\t[2]id\\t[3]sample\\t[4]nRefHom\\t[5]nNonRefHom\\t[6]nHets\\t[7]nTransitions\\t[8]nTransversions\\t[9]nIndels\\t[10]average depth\\t[11]nSingletons',\n '\\tfound:    # PSC\\t[2]id\\t[3]sample\\t[4]nRefHom\\t[5]nNonRefHom\\t[6]nHets\\t[7]nTransitions\\t[8]nTransversions\\t[9]nIndels\\t[10]average depth\\t[11]nSingletons\\t[12]nHapRef\\t[13]nHapAlt\\t[14]nMissing',\n 'Plotting graphs: python plot.py',\n 'plot.py:208: UserWarning: Attempted to set non-positive left xlim on a log-scaled axis.',\n 'Invalid limit will be ignored.',\n '  ax1.set_xlim(0,1.01)',\n 'plot.py:230: UserWarning: Attempted to set non-positive left xlim on a log-scaled axis.',\n 'Invalid limit will be ignored.',\n '  ax1.set_xlim(0,1.01)',\n 'Creating PDF: pdflatex summary.tex >plot-vcfstats.log 2>&1',\n 'Finished: bcftoolstats/summary.pdf']"
     },
     "metadata": {},
     "output_type": "execute_result",
     "execution_count": 4
    }
   ],
   "source": [
    "# if bcftools is configured for python 2.7 usage \n",
    "print('Plotting results with bcftools stats')\n",
    "%sx deactivate\n",
    "# bcftools stats needs python 2.7\n",
    "%sx bcftools stats --af-bins 0.01,0.02,0.04,0.08,0.1,0.2,0.3,0.4,0.5,0.6,0.7,0.8,0.9,0.98 --collapse snps -s HG01063 sHG01063.IMP.chr20.pooled.imputed.vcf.gz sHG01063.IMP.chr20.snps.gt.vcf.gz > filestats.vchk\n",
    "%sx plot-vcfstats -p bcftoolstats -s filestats.vchk\n"
   ],
   "metadata": {
    "collapsed": false,
    "pycharm": {
     "name": "#%%\n",
     "is_executing": false
    }
   }
  }
 ],
 "metadata": {
  "kernelspec": {
   "display_name": "Python 3",
   "language": "python",
   "name": "python3"
  },
  "language_info": {
   "codemirror_mode": {
    "name": "ipython",
    "version": 2
   },
   "file_extension": ".py",
   "mimetype": "text/x-python",
   "name": "python",
   "nbconvert_exporter": "python",
   "pygments_lexer": "ipython2",
   "version": "2.7.6"
  },
  "pycharm": {
   "stem_cell": {
    "cell_type": "raw",
    "source": [],
    "metadata": {
     "collapsed": false
    }
   }
  }
 },
 "nbformat": 4,
 "nbformat_minor": 0
}