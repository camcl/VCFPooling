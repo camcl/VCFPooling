{
 "cells": [
  {
   "cell_type": "markdown",
   "source": [
    "# SLIDS 2020: Project proposal\n",
    "\n",
    "Playground for genotype decoding population-wide-\n",
    "\n",
    "## Problem\n",
    "\n",
    "How to \"learn\" the genotype distribution behind a pooling pattern observed?\n",
    "\n",
    "## Background\n",
    "\n",
    "Pooling problem based on the DNA Sudoku and combinatorial rules.\n",
    "Decoding algorithm and pooling design represented as design matrix.\n",
    "Ouput of pooling: measurements matrix\n",
    "\n",
    "Genotypes (from diploid human DNA sequences) encoded as 3-d covariates, sum of covariates is a probability simplex.\n",
    "Pr(genotype) = ( (Pr(G=0), Pr(G=1), Pr(G=2) )\n",
    "Our Problem"
   ],
   "metadata": {
    "collapsed": false,
    "pycharm": {
     "name": "#%% md\n"
    }
   }
  },
  {
   "cell_type": "code",
   "execution_count": 1,
   "metadata": {
    "collapsed": true,
    "pycharm": {
     "is_executing": false
    }
   },
   "outputs": [],
   "source": [
    "import numpy as np\n",
    "import itertools\n",
    "from scipy.linalg import block_diag\n",
    "from scipy.stats import multivariate_normal\n",
    "import matplotlib.pyplot as plt\n",
    "\n",
    "%matplotlib inline"
   ]
  },
  {
   "cell_type": "code",
   "execution_count": 2,
   "outputs": [],
   "source": [
    "# Design matrix\n",
    "\n",
    "pools_size = 4\n",
    "pools_nb = 8\n",
    "block_size = 16\n",
    "blocks_nb = 10\n",
    "ndim = 2\n",
    "\n",
    "m = np.zeros((pools_nb, block_size), dtype=int)\n",
    "for i in range(int(pools_nb/ndim)):\n",
    "    j = i * pools_size\n",
    "    m[i, j:j+pools_size] = [1]*pools_size\n",
    "for i in range(int(pools_nb/ndim), pools_nb):\n",
    "    j = i - pools_size\n",
    "    m[i, [j+k*pools_size for k in range(pools_size)]] = 1\n",
    "b = itertools.repeat(m, blocks_nb)\n",
    "M = block_diag(*b)\n"
   ],
   "metadata": {
    "collapsed": false,
    "pycharm": {
     "name": "#%%\n",
     "is_executing": false
    }
   }
  },
  {
   "cell_type": "code",
   "execution_count": 3,
   "outputs": [],
   "source": [
    "# Cross-entropy calculation: Issue of genotype probabilities that can be 0.0 (when no ambiguity about the genotype)\n",
    "\n",
    "mylog12 = np.vectorize(lambda x: np.log(x) if x > 1e-12 else np.log(1e-12))\n",
    "\n",
    "prodlog = np.vectorize(lambda x, y: -np.multiply(np.asarray(x, dtype=float),\n",
    "                                                 np.log(np.asarray(y, dtype=float))\n",
    "                                                 )\n",
    "                       )\n",
    "\n",
    "myprodlog = np.vectorize(lambda x, y: -np.multiply(np.asarray(x, dtype=float),\n",
    "                                                   mylog12(np.asarray(y, dtype=float))\n",
    "                                                   )\n",
    "                         )"
   ],
   "metadata": {
    "collapsed": false,
    "pycharm": {
     "name": "#%%\n",
     "is_executing": false
    }
   }
  },
  {
   "cell_type": "code",
   "execution_count": 4,
   "outputs": [
    {
     "name": "stdout",
     "text": [
      "[3 2 3 0 0 1 0 2 2 2]\n"
     ],
     "output_type": "stream"
    }
   ],
   "source": [
    "# Simulate blocks of genotypes \n",
    "\n",
    "g_eq = np.array([0.25, 0.5, 0.25])  # allelic equilibrium in the population\n",
    "rng = np.random.default_rng()\n",
    "\n",
    "# 3 \"ideal\" unambiguous genotypes\n",
    "g_states = np.array([[1., 0., 0.],  # homozygote for the reference allele\n",
    "                     [0., 1., 0.],  # heterozygote\n",
    "                     [0., 0., 1.]]  # homozygote for the alternate allele\n",
    "                    )\n",
    "\n",
    "nb_samples = block_size * blocks_nb\n",
    "\n",
    "hom_ref_only = np.tile([1.0, 0.0, 0.0], block_size).reshape(block_size, 3)  # pattern 1\n",
    "hom_ref_but_one = np.vstack([hom_ref_only[:-1, :], np.array([0.0, 1.0, 0.0])])  # pattern 2\n",
    "hom_ref_2_alt = np.vstack([np.array([0.0, 0.0, 1.0]), hom_ref_only[1:-1, :], np.array([0.0, 1.0, 0.0])])  # pattern 3\n",
    "rd_pattern = rng.choice(g_states, size=16, p=g_eq, axis=0)\n",
    "\n",
    "patterns = [hom_ref_2_alt, hom_ref_but_one, hom_ref_only, rd_pattern]\n",
    "\n",
    "nb_patterns = len(patterns)\n",
    "\n",
    "rd = np.random.random((nb_samples, 3))\n",
    "mixed = rd / rd.sum(axis=-1)[:, np.newaxis]\n",
    "\n",
    "a = np.zeros((blocks_nb, block_size, 3))\n",
    "# block_choice = np.random.binomial(nb_patterns - 1, 0.4, size=blocks_nb)\n",
    "block_choice = rng.choice(np.arange(nb_patterns), p=[0.2, 0.2, 0.4, 0.2], size=blocks_nb)\n",
    "print(block_choice)"
   ],
   "metadata": {
    "collapsed": false,
    "pycharm": {
     "name": "#%%\n",
     "is_executing": false
    }
   }
  },
  {
   "cell_type": "code",
   "execution_count": 5,
   "outputs": [],
   "source": [
    "for i in range(nb_patterns):\n",
    "    a[block_choice.flatten() == i] = patterns[i]\n",
    "\n",
    "a = a.reshape(nb_samples, 3)"
   ],
   "metadata": {
    "collapsed": false,
    "pycharm": {
     "name": "#%%\n",
     "is_executing": false
    }
   }
  },
  {
   "cell_type": "code",
   "execution_count": 6,
   "outputs": [
    {
     "name": "stdout",
     "text": [
      "Decoded mean genotype =  [0.81875 0.1375  0.04375]\n"
     ],
     "output_type": "stream"
    }
   ],
   "source": [
    "# Simulate pooling in DNA Sudoku style\n",
    "\n",
    "#  Encoding\n",
    "\n",
    "scores_p = np.tensordot(M, a, axes=1)\n",
    "genos_p = scores_p / scores_p.sum(axis=-1)[:, np.newaxis]\n",
    "\n",
    "\n",
    "#  Decoding\n",
    "\n",
    "scores_i = np.tensordot(M.T, genos_p, axes=1)\n",
    "genos_i = scores_i / scores_i.sum(axis=-1)[:, np.newaxis]\n",
    "\n",
    "post_mean = genos_i.sum(0) / genos_i.sum()\n",
    "\n",
    "print('Decoded mean genotype = ', post_mean)"
   ],
   "metadata": {
    "collapsed": false,
    "pycharm": {
     "name": "#%%\n",
     "is_executing": false
    }
   }
  },
  {
   "cell_type": "code",
   "execution_count": 7,
   "outputs": [
    {
     "data": {
      "text/plain": "<Figure size 1440x144 with 1 Axes>",
      "image/png": "[encoded data removed]"
     },
     "metadata": {
      "needs_background": "light"
     },
     "output_type": "display_data"
    },
    {
     "data": {
      "text/plain": "<Figure size 1440x144 with 1 Axes>",
      "image/png": "[encoded data removed]"
     },
     "metadata": {
      "needs_background": "light"
     },
     "output_type": "display_data"
    }
   ],
   "source": [
    "# How does the pooling simulation with genotype probabilities look like?\n",
    "\n",
    "plt.rcParams[\"image.cmap\"] = 'binary'\n",
    "plt.rcParams[\"figure.figsize\"] = (2 * blocks_nb, 2)\n",
    "\n",
    "plt.imshow(a.T)  # transpose for horizontal visualization\n",
    "plt.show()\n",
    "\n",
    "plt.imshow(genos_i.T)\n",
    "plt.show()\n",
    "\n",
    "# Sort of signal denoising on the decoding output?"
   ],
   "metadata": {
    "collapsed": false,
    "pycharm": {
     "name": "#%%\n",
     "is_executing": false
    }
   }
  },
  {
   "cell_type": "code",
   "execution_count": 8,
   "outputs": [
    {
     "name": "stdout",
     "text": [
      "Posterior =  [[0.30795734 0.38408531 0.30795734]\n",
      " [0.32401445 0.3519711  0.32401445]\n",
      " [0.27648699 0.44702601 0.27648699]\n",
      " [0.77358481 0.11320759 0.11320759]\n",
      " [0.38408531 0.30795734 0.30795734]\n",
      " [0.44702601 0.27648699 0.27648699]\n",
      " [0.44702601 0.27648699 0.27648699]\n",
      " [0.27648699 0.44702601 0.27648699]\n",
      " [0.30795734 0.38408531 0.30795734]\n",
      " [0.32401445 0.3519711  0.32401445]\n",
      " [0.21659118 0.21659118 0.56681764]\n",
      " [0.32401445 0.3519711  0.32401445]\n",
      " [0.56681764 0.21659118 0.21659118]\n",
      " [0.30795734 0.38408531 0.30795734]\n",
      " [0.21659118 0.21659118 0.56681764]\n",
      " [0.30795734 0.38408531 0.30795734]\n",
      " [1.         0.         0.        ]\n",
      " [1.         0.         0.        ]\n",
      " [1.         0.         0.        ]\n",
      " [1.         0.         0.        ]\n",
      " [1.         0.         0.        ]\n",
      " [1.         0.         0.        ]\n",
      " [1.         0.         0.        ]\n",
      " [1.         0.         0.        ]\n",
      " [1.         0.         0.        ]\n",
      " [1.         0.         0.        ]\n",
      " [1.         0.         0.        ]\n",
      " [1.         0.         0.        ]\n",
      " [1.         0.         0.        ]\n",
      " [1.         0.         0.        ]\n",
      " [1.         0.         0.        ]\n",
      " [1.         0.         0.        ]\n",
      " [0.30795734 0.38408531 0.30795734]\n",
      " [0.32401445 0.3519711  0.32401445]\n",
      " [0.27648699 0.44702601 0.27648699]\n",
      " [0.77358481 0.11320759 0.11320759]\n",
      " [0.38408531 0.30795734 0.30795734]\n",
      " [0.44702601 0.27648699 0.27648699]\n",
      " [0.44702601 0.27648699 0.27648699]\n",
      " [0.27648699 0.44702601 0.27648699]\n",
      " [0.30795734 0.38408531 0.30795734]\n",
      " [0.32401445 0.3519711  0.32401445]\n",
      " [0.21659118 0.21659118 0.56681764]\n",
      " [0.32401445 0.3519711  0.32401445]\n",
      " [0.56681764 0.21659118 0.21659118]\n",
      " [0.30795734 0.38408531 0.30795734]\n",
      " [0.21659118 0.21659118 0.56681764]\n",
      " [0.30795734 0.38408531 0.30795734]\n",
      " [0.11320759 0.11320759 0.77358481]\n",
      " [0.3373074  0.3313463  0.3313463 ]\n",
      " [0.3373074  0.3313463  0.3313463 ]\n",
      " [0.3519711  0.32401445 0.32401445]\n",
      " [0.3373074  0.3313463  0.3313463 ]\n",
      " [1.         0.         0.        ]\n",
      " [1.         0.         0.        ]\n",
      " [0.3373074  0.3313463  0.3313463 ]\n",
      " [0.3373074  0.3313463  0.3313463 ]\n",
      " [1.         0.         0.        ]\n",
      " [1.         0.         0.        ]\n",
      " [0.3373074  0.3313463  0.3313463 ]\n",
      " [0.3519711  0.32401445 0.32401445]\n",
      " [0.3373074  0.3313463  0.3313463 ]\n",
      " [0.3373074  0.3313463  0.3313463 ]\n",
      " [0.11320759 0.77358481 0.11320759]\n",
      " [0.11320759 0.11320759 0.77358481]\n",
      " [0.3373074  0.3313463  0.3313463 ]\n",
      " [0.3373074  0.3313463  0.3313463 ]\n",
      " [0.3519711  0.32401445 0.32401445]\n",
      " [0.3373074  0.3313463  0.3313463 ]\n",
      " [1.         0.         0.        ]\n",
      " [1.         0.         0.        ]\n",
      " [0.3373074  0.3313463  0.3313463 ]\n",
      " [0.3373074  0.3313463  0.3313463 ]\n",
      " [1.         0.         0.        ]\n",
      " [1.         0.         0.        ]\n",
      " [0.3373074  0.3313463  0.3313463 ]\n",
      " [0.3519711  0.32401445 0.32401445]\n",
      " [0.3373074  0.3313463  0.3313463 ]\n",
      " [0.3373074  0.3313463  0.3313463 ]\n",
      " [0.11320759 0.77358481 0.11320759]\n",
      " [1.         0.         0.        ]\n",
      " [1.         0.         0.        ]\n",
      " [1.         0.         0.        ]\n",
      " [0.3373074  0.3313463  0.3313463 ]\n",
      " [1.         0.         0.        ]\n",
      " [1.         0.         0.        ]\n",
      " [1.         0.         0.        ]\n",
      " [0.3373074  0.3313463  0.3313463 ]\n",
      " [1.         0.         0.        ]\n",
      " [1.         0.         0.        ]\n",
      " [1.         0.         0.        ]\n",
      " [0.3373074  0.3313463  0.3313463 ]\n",
      " [0.3373074  0.3313463  0.3313463 ]\n",
      " [0.3373074  0.3313463  0.3313463 ]\n",
      " [0.3373074  0.3313463  0.3313463 ]\n",
      " [0.11320759 0.77358481 0.11320759]\n",
      " [0.11320759 0.11320759 0.77358481]\n",
      " [0.3373074  0.3313463  0.3313463 ]\n",
      " [0.3373074  0.3313463  0.3313463 ]\n",
      " [0.3519711  0.32401445 0.32401445]\n",
      " [0.3373074  0.3313463  0.3313463 ]\n",
      " [1.         0.         0.        ]\n",
      " [1.         0.         0.        ]\n",
      " [0.3373074  0.3313463  0.3313463 ]\n",
      " [0.3373074  0.3313463  0.3313463 ]\n",
      " [1.         0.         0.        ]\n",
      " [1.         0.         0.        ]\n",
      " [0.3373074  0.3313463  0.3313463 ]\n",
      " [0.3519711  0.32401445 0.32401445]\n",
      " [0.3373074  0.3313463  0.3313463 ]\n",
      " [0.3373074  0.3313463  0.3313463 ]\n",
      " [0.11320759 0.77358481 0.11320759]\n",
      " [1.         0.         0.        ]\n",
      " [1.         0.         0.        ]\n",
      " [1.         0.         0.        ]\n",
      " [1.         0.         0.        ]\n",
      " [1.         0.         0.        ]\n",
      " [1.         0.         0.        ]\n",
      " [1.         0.         0.        ]\n",
      " [1.         0.         0.        ]\n",
      " [1.         0.         0.        ]\n",
      " [1.         0.         0.        ]\n",
      " [1.         0.         0.        ]\n",
      " [1.         0.         0.        ]\n",
      " [1.         0.         0.        ]\n",
      " [1.         0.         0.        ]\n",
      " [1.         0.         0.        ]\n",
      " [1.         0.         0.        ]\n",
      " [1.         0.         0.        ]\n",
      " [1.         0.         0.        ]\n",
      " [1.         0.         0.        ]\n",
      " [1.         0.         0.        ]\n",
      " [1.         0.         0.        ]\n",
      " [1.         0.         0.        ]\n",
      " [1.         0.         0.        ]\n",
      " [1.         0.         0.        ]\n",
      " [1.         0.         0.        ]\n",
      " [1.         0.         0.        ]\n",
      " [1.         0.         0.        ]\n",
      " [1.         0.         0.        ]\n",
      " [1.         0.         0.        ]\n",
      " [1.         0.         0.        ]\n",
      " [1.         0.         0.        ]\n",
      " [1.         0.         0.        ]\n",
      " [1.         0.         0.        ]\n",
      " [1.         0.         0.        ]\n",
      " [1.         0.         0.        ]\n",
      " [1.         0.         0.        ]\n",
      " [1.         0.         0.        ]\n",
      " [1.         0.         0.        ]\n",
      " [1.         0.         0.        ]\n",
      " [1.         0.         0.        ]\n",
      " [1.         0.         0.        ]\n",
      " [1.         0.         0.        ]\n",
      " [1.         0.         0.        ]\n",
      " [1.         0.         0.        ]\n",
      " [1.         0.         0.        ]\n",
      " [1.         0.         0.        ]\n",
      " [1.         0.         0.        ]\n",
      " [1.         0.         0.        ]]\n"
     ],
     "output_type": "stream"
    }
   ],
   "source": [
    "# Define surprisal loss as cost function?\n",
    "\n",
    "# prior = a.mean(axis=0)\n",
    "priors = np.tile(g_eq, nb_samples).reshape(nb_samples, 3)\n",
    "\n",
    "# Cross-entropy?\n",
    "ell0 = myprodlog(a[:, 0], genos_i[:, 0])\n",
    "ell1 = myprodlog(a[:, 1], genos_i[:, 1])\n",
    "ell2 = myprodlog(a[:, 2], genos_i[:, 2])\n",
    "\n",
    "E0 = ell0.sum()\n",
    "E1 = ell1.sum()\n",
    "E2 = ell2.sum()\n",
    "\n",
    "entropy = np.array([E0, E1, E2])\n",
    "ell = np.vstack([ell0, ell1, ell2]).T\n",
    "# /!\\ log(0) undefined issues\n",
    "\n",
    "posteriors = np.zeros_like(a)\n",
    "for i, s in enumerate(genos_i):\n",
    "    if ell[i, :].sum() == 0.0:\n",
    "        posteriors[i, :] = genos_i[i, :]\n",
    "    else:\n",
    "        posteriors[i, :] = np.power(genos_i[i, :], -ell[i, :])\n",
    "        posteriors[i, :] = posteriors[i, :] / posteriors[i, :].sum()\n",
    "#posteriors = posteriors / posteriors.sum(axis=-1)[:, np.newaxis]\n",
    "\n",
    "#print('Prior = ', priors)\n",
    "print('Posterior = ', posteriors)\n"
   ],
   "metadata": {
    "collapsed": false,
    "pycharm": {
     "name": "#%%\n",
     "is_executing": false
    }
   }
  },
  {
   "cell_type": "code",
   "execution_count": 9,
   "outputs": [
    {
     "data": {
      "text/plain": "<Figure size 1440x144 with 1 Axes>",
      "image/png": "[encoded data removed]"
     },
     "metadata": {
      "needs_background": "light"
     },
     "output_type": "display_data"
    },
    {
     "data": {
      "text/plain": "<Figure size 1440x144 with 1 Axes>",
      "image/png": "[encoded data removed]"
     },
     "metadata": {
      "needs_background": "light"
     },
     "output_type": "display_data"
    },
    {
     "data": {
      "text/plain": "<Figure size 1440x144 with 1 Axes>",
      "image/png": "[encoded data removed]"
     },
     "metadata": {
      "needs_background": "light"
     },
     "output_type": "display_data"
    }
   ],
   "source": [
    "plt.imshow(a.T)  # transpose for horizontal visualization\n",
    "plt.show()\n",
    "\n",
    "plt.imshow(genos_i.T)\n",
    "plt.show()\n",
    "\n",
    "plt.imshow(posteriors.T)\n",
    "plt.show()"
   ],
   "metadata": {
    "collapsed": false,
    "pycharm": {
     "name": "#%%\n",
     "is_executing": false
    }
   }
  },
  {
   "cell_type": "code",
   "execution_count": 10,
   "outputs": [
    {
     "name": "stderr",
     "text": [
      "warning: PYDEVD_USE_CYTHON environment variable is set to 'NO'. Frame evaluator will be also disabled because it requires Cython extensions to be enabled in order to operate correctly.\n"
     ],
     "output_type": "stream"
    },
    {
     "data": {
      "text/plain": "array([[ 2.11395669e+00,  1.34393781e+00,  8.62224588e-01],\n       [-1.09469209e+00, -8.31334036e-01,  8.75079378e-01],\n       [ 1.76166291e+00,  6.65768101e-01, -2.50661503e-01],\n       [ 9.06202273e-01,  3.93083528e-01, -2.35727000e-01],\n       [ 6.12269035e-01, -7.93569968e-01, -5.02378335e-02],\n       [-1.07679426e+00,  9.37691730e-01,  1.00283954e+00],\n       [ 1.47000864e+00,  5.39317568e-01, -1.97519725e-01],\n       [-1.89598062e+00,  7.69827136e-01,  1.24657650e+00],\n       [ 1.82275391e+00, -3.10054918e+00,  1.09253710e+00],\n       [-2.52596385e-01,  3.10551226e-01,  5.49207542e-01],\n       [ 7.06729683e-01,  9.44522444e-01,  1.28144654e-01],\n       [ 8.45592961e-01,  1.10092017e+00, -6.99745595e-01],\n       [ 2.31776441e-01,  8.08979699e-01,  1.45952796e+00],\n       [-7.61406142e-01,  2.10385701e+00, -8.76676484e-01],\n       [-4.42651085e-01,  9.99706885e-01, -1.68235002e+00],\n       [ 1.59587496e+00,  6.23418166e-01, -1.86286218e-01],\n       [-1.32023575e+00, -6.94297955e-03,  1.82713103e+00],\n       [-6.70261417e-01,  1.11245043e+00, -6.30956306e-01],\n       [ 1.28030277e+00, -8.81974355e-01, -4.01920882e-01],\n       [-2.23253980e-01,  1.57769487e+00,  6.20878830e-01],\n       [ 1.60704353e-01, -1.88706130e+00,  1.72262694e+00],\n       [ 3.60494274e-01,  1.30845257e+00,  4.58632697e-01],\n       [ 7.45657609e-01,  1.42398284e+00, -1.58007577e-01],\n       [ 5.74052544e-01,  2.05109158e+00,  4.00058010e-01],\n       [-1.05511835e+00,  1.48054682e-02,  7.11337091e-01],\n       [ 6.53481196e-01,  4.55998946e-01, -5.60111317e-01],\n       [ 2.53581080e+00,  1.49418187e+00, -6.24550382e-01],\n       [ 4.92780843e-01,  1.03222286e+00, -6.27631917e-01],\n       [-4.78626697e-01,  4.33106910e-01,  7.15058528e-02],\n       [-9.31266978e-05,  8.74519929e-01,  6.40619121e-01],\n       [ 3.83076455e-01,  1.96188621e+00, -1.31704477e+00],\n       [-1.29027222e-02, -8.57982380e-01,  1.68145957e+00],\n       [-2.24724648e-01,  1.20900994e+00, -1.23415094e+00],\n       [-5.27777093e-01, -2.37481102e-01, -5.78509216e-01],\n       [ 4.54469687e-01,  6.10875360e-01, -3.73505630e-01],\n       [ 1.45277153e+00,  3.28909349e-01,  1.11924565e+00],\n       [ 2.36956291e-01,  2.20876156e+00, -7.18590080e-01],\n       [-7.08293476e-01, -4.21944858e-01,  7.14752567e-01],\n       [ 9.44870166e-01,  1.57569125e+00,  2.17105139e-02],\n       [ 7.08082190e-01,  1.92999065e+00, -1.79978451e-01],\n       [ 1.90129150e-01,  1.30894142e+00,  7.20767627e-01],\n       [-6.65710174e-01,  6.72187465e-01,  7.30297714e-02],\n       [ 5.03048559e-01,  5.94722181e-01, -6.91932616e-02],\n       [ 3.12838355e-01,  2.04303615e+00, -5.60536868e-01],\n       [-9.98155506e-01,  1.01903946e+00,  1.33992836e-01],\n       [-8.18023165e-01,  1.12532297e+00, -9.48302846e-01],\n       [ 1.32598014e+00,  1.80717777e+00,  5.30214679e-01],\n       [-2.96929998e-01,  1.04167585e+00,  2.13936077e+00],\n       [-5.91122698e-01, -6.35012828e-01, -2.46423925e-01],\n       [-1.17263840e-01,  1.66354942e+00,  2.95351543e-01],\n       [ 7.53575777e-01,  1.60657343e+00, -7.65219097e-01],\n       [ 1.37883958e+00, -3.39789401e-01,  1.73161767e+00],\n       [-9.53800447e-02,  9.53077874e-01, -1.13237972e+00],\n       [-4.35798368e-01, -7.30518673e-02, -4.71540279e-01],\n       [ 3.33240635e-01,  2.13464931e-01,  1.74890786e-01],\n       [-1.06919061e+00,  1.74175042e+00, -1.06050905e+00],\n       [ 2.38847772e-02,  7.39093425e-01, -1.31497221e+00],\n       [ 4.59293068e-01,  1.57224664e+00,  1.22283710e+00],\n       [ 8.76573900e-01, -2.89816839e-02,  4.84415312e-03],\n       [ 7.22269381e-01,  7.73120915e-01, -1.14604543e+00],\n       [ 2.38332784e-01,  8.18734489e-01,  1.05681345e+00],\n       [-1.05900109e+00, -9.27500140e-01, -1.50563347e-02],\n       [-1.01745030e+00, -8.48807849e-01,  2.38107396e+00],\n       [-5.67124197e-01, -5.29239102e-01, -6.03373230e-02],\n       [-1.14286585e-01,  3.31146072e-03, -2.46529567e-01],\n       [-3.01649896e-01,  5.98996093e-01,  7.36615799e-01],\n       [ 3.05920575e-01, -1.31443145e-01, -4.69302739e-02],\n       [ 1.95100190e+00,  3.63803660e-02, -9.71351132e-02],\n       [ 9.46879907e-01,  3.74275589e-01, -1.91814992e+00],\n       [ 1.21336685e+00,  7.05871767e-01, -6.61389516e-01],\n       [ 1.59320865e+00,  1.15212664e+00,  7.05648493e-01],\n       [ 9.65210435e-01, -5.30281658e-01,  4.54567438e-01],\n       [-3.57375882e-01,  2.34634555e-01, -8.75470331e-01],\n       [ 2.19729687e+00,  4.25223146e-01, -5.59963500e-01],\n       [-2.72859625e-01,  1.61709845e+00,  1.03043723e+00],\n       [ 1.70107482e+00, -9.60576666e-01,  1.13571695e+00],\n       [ 6.21399250e-01,  1.14956958e+00,  7.77971874e-01],\n       [ 1.70452508e-01,  1.36282269e+00, -9.83536010e-02],\n       [ 5.27264676e-01,  9.13355555e-01,  8.32657922e-01],\n       [-1.05883212e+00, -2.58792257e-01,  2.07836293e+00],\n       [-2.11338698e-01,  1.58740030e-01, -1.02792848e-01],\n       [-1.32862200e-01, -1.98816690e+00, -4.35097350e-01],\n       [ 8.22562152e-01,  1.52312817e-01, -9.04849635e-01],\n       [ 5.67238248e-01, -3.43836598e-01, -1.37971391e-01],\n       [-1.68872152e-01,  1.09147122e+00, -7.63249276e-01],\n       [ 2.23232646e+00,  7.15197680e-01, -1.88526768e+00],\n       [-1.58655294e+00,  4.35915553e-01,  4.66982769e-01],\n       [ 1.44154148e+00,  1.58894846e-01, -3.69545306e-02],\n       [-1.55924884e-01, -1.37184575e+00,  8.63334080e-01],\n       [ 2.59737749e-01,  1.79495292e+00, -1.29099956e-02],\n       [ 9.83121443e-01, -1.49284816e+00,  1.83662176e+00],\n       [-1.65447915e-01,  1.32134968e+00,  3.80185547e-01],\n       [ 4.85721329e-01,  5.38609393e-01, -5.83077391e-01],\n       [ 1.12926202e+00,  2.34714822e+00, -4.62525376e-01],\n       [ 1.38446919e+00, -6.60842951e-03,  1.89013560e-01],\n       [ 2.51415973e-01,  1.75137818e+00,  8.25210772e-02],\n       [-1.16323078e-01, -3.65172020e-01,  3.34157426e-01],\n       [ 2.10191104e-02,  5.72927067e-01, -9.68230739e-02],\n       [ 7.80848513e-01,  1.77804472e+00,  3.33444195e-01],\n       [-5.43822404e-01,  8.56901039e-01,  4.82477871e-01],\n       [ 3.35980914e-01, -1.23635950e+00, -7.88900953e-01],\n       [ 1.50365188e+00,  2.03913710e+00,  1.50843422e-01],\n       [ 3.81658039e-01, -4.43309936e-01, -5.84595489e-01],\n       [ 1.83527895e+00, -4.97708195e-01,  1.07347910e+00],\n       [-1.73122652e-01,  1.64200678e+00, -2.23495768e-01],\n       [-1.63513339e+00, -7.29822509e-01, -2.63833933e-01],\n       [ 1.87476072e+00,  3.94241039e-01, -1.07248355e-01],\n       [ 1.21915707e+00,  6.08825567e-01,  1.48950657e-02],\n       [ 2.68290127e-01, -1.67794835e+00,  3.52361492e-01],\n       [ 9.79561413e-01,  2.87319412e-01, -2.44667812e-01],\n       [-1.76760159e+00, -9.15500520e-01,  1.12461303e+00],\n       [ 7.03369333e-01,  2.23946601e+00,  7.55767188e-01],\n       [ 3.64737326e+00, -6.13181231e-01,  6.07772847e-01],\n       [-4.35756831e-01, -5.07719491e-01, -8.75090426e-01],\n       [-1.86435001e-01,  2.30049213e+00, -9.27284044e-02],\n       [ 4.32445133e-01,  3.19919727e-01,  1.78816075e+00],\n       [ 9.22616317e-01, -1.16915180e+00, -3.02783109e-01],\n       [ 1.23025939e+00, -6.87445905e-02,  4.12232815e-01],\n       [-1.53323705e-01, -7.54705118e-01,  9.66458167e-01],\n       [ 1.05972261e+00,  9.37829546e-02,  7.11740879e-01],\n       [ 1.17569730e-01,  1.86724195e+00,  2.00458509e-01],\n       [ 1.26399140e+00,  5.27371709e-01, -5.68757100e-01],\n       [-1.88426752e+00,  8.97687989e-01,  7.72896481e-01],\n       [ 3.17239820e+00,  7.05589071e-01, -1.19471724e+00],\n       [-1.29335951e+00,  1.00660268e+00,  1.51582749e+00],\n       [ 1.07991092e+00,  2.28837302e-01, -4.25125739e-02],\n       [ 8.50240914e-01, -3.91757047e-01,  2.55577380e+00],\n       [ 7.99251195e-01,  1.49631674e+00,  3.67949850e-01],\n       [-3.20435352e-01, -2.01862869e-01,  9.09499608e-02],\n       [ 1.14878102e+00, -2.55303855e-01,  8.76422168e-01],\n       [ 1.09411885e+00,  1.47909253e+00,  1.61651354e+00],\n       [ 2.11757634e+00, -5.27284131e-02,  7.60002715e-01],\n       [ 8.14560706e-01,  2.95512810e-01,  1.19957191e+00],\n       [ 7.22781616e-01, -3.39674602e-01, -7.87511556e-01],\n       [-4.89727781e-01, -6.76471600e-02, -3.86814512e-01],\n       [ 1.64118357e+00, -1.07431521e+00,  5.38579881e-01],\n       [-4.15259032e-01, -2.13864375e-01, -7.20529984e-01],\n       [ 1.69840015e-01,  8.67690008e-01,  2.33849158e+00],\n       [-1.48207397e+00,  2.05966448e+00,  2.16771726e-01],\n       [ 5.54516848e-01,  2.22764316e+00,  1.63290645e+00],\n       [ 2.34153433e-01,  2.96733238e+00, -6.16603028e-01],\n       [-5.38320392e-01, -4.84020095e-02, -7.69650353e-01],\n       [-9.53802420e-01,  1.01575192e+00, -1.05739572e+00],\n       [ 8.80796108e-01, -2.96648816e-01, -1.37747003e-01],\n       [ 9.42512605e-01,  1.10817929e+00,  7.65066503e-01],\n       [-1.06128935e+00,  5.56460349e-01, -5.04153983e-01],\n       [-2.22427366e+00,  1.50394550e+00,  1.52885916e+00],\n       [ 4.64773425e-01,  2.03137695e+00,  1.45494204e+00],\n       [ 1.15698011e-01, -1.71462167e+00, -2.39553187e-01],\n       [ 2.08114999e+00, -1.19823512e+00,  6.75601970e-01],\n       [ 6.30669044e-01,  1.60544507e+00, -8.59372648e-01],\n       [ 3.08729197e-01,  1.78161651e+00, -1.90925164e-01],\n       [ 1.23475352e-01, -8.76271233e-02,  1.69705558e+00],\n       [-2.79939320e-01,  7.84595133e-01,  2.49834684e+00],\n       [ 3.93349561e-01,  1.57253412e+00,  1.39830062e+00],\n       [ 3.76394609e-01, -6.91567320e-01, -1.99477579e+00],\n       [-2.15888261e+00,  1.10475859e+00, -3.24531812e-01],\n       [ 1.55192139e+00,  2.89602531e-01,  7.01640024e-01],\n       [ 1.75448534e+00, -1.73938690e-01, -4.00306062e-01],\n       [ 5.96121530e-01, -2.88556905e+00,  4.82459222e-01]])"
     },
     "metadata": {},
     "output_type": "execute_result",
     "execution_count": 10
    }
   ],
   "source": [
    "z = multivariate_normal.rvs(mean=[0.25, 0.5, 0.25], size=160)\n",
    "z\n"
   ],
   "metadata": {
    "collapsed": false,
    "pycharm": {
     "name": "#%%\n",
     "is_executing": false
    }
   }
  }
 ],
 "metadata": {
  "kernelspec": {
   "display_name": "Python 3",
   "language": "python",
   "name": "python3"
  },
  "language_info": {
   "codemirror_mode": {
    "name": "ipython",
    "version": 2
   },
   "file_extension": ".py",
   "mimetype": "text/x-python",
   "name": "python",
   "nbconvert_exporter": "python",
   "pygments_lexer": "ipython2",
   "version": "2.7.6"
  },
  "pycharm": {
   "stem_cell": {
    "cell_type": "raw",
    "source": [],
    "metadata": {
     "collapsed": false
    }
   }
  }
 },
 "nbformat": 4,
 "nbformat_minor": 0
}