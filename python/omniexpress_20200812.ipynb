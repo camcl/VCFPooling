{
 "cells": [
  {
   "cell_type": "markdown",
   "metadata": {
    "collapsed": true,
    "pycharm": {
     "name": "#%% md\n"
    }
   },
   "source": [
    "# Pooling-imputation performance from real bead chip data with high density markers\n",
    "\n",
    "Performs pooling simulation and imputation on data from the chromosome 20 of 1000GP.\n",
    "Markers have been chosen as the intersection between the real bead chip Illumina Infinium OmniExpress2.5 - 8 Kit\n",
    " (https://support.illumina.com/array/array_kits/humanomniexpress2.5-8-beadchip-kit/downloads.html) \n",
    " and the chr20 1000GP data. The samples are randomly assigned to the reference panel or the study population.\n",
    "\n",
    "Apply pooling simulation on this data, and imputation (run parallel execution): \n",
    "**pool and impute bead chip markers only, compute metrics and plot statistics** "
   ]
  },
  {
   "cell_type": "code",
   "execution_count": 1,
   "outputs": [],
   "source": [
    "import os\n",
    "\n",
    "try:\n",
    "    os.mkdir('/home/camille/PoolImpHuman/data/20200812')\n",
    "except FileExistsError:\n",
    "    pass\n",
    "os.chdir('/home/camille/PoolImpHuman/data/20200812')"
   ],
   "metadata": {
    "collapsed": false,
    "pycharm": {
     "name": "#%%\n",
     "is_executing": false
    }
   }
  },
  {
   "cell_type": "code",
   "execution_count": 2,
   "outputs": [
    {
     "name": "stdout",
     "text": [
      "Configure directory\n"
     ],
     "output_type": "stream"
    },
    {
     "data": {
      "text/plain": "[]"
     },
     "metadata": {},
     "output_type": "execute_result",
     "execution_count": 2
    }
   ],
   "source": [
    "print('Configure directory')\n",
    "%sx ln -s ~/1000Genomes/src/VCFPooling/python/omniexpress8chr20.ipynb ./\n",
    "%sx ln -s ~/1000Genomes/src/VCFPooling/python/omniexpress_20200709.ipynb ./\n",
    "%sx ln -s ~/1000Genomes/src/VCFPooling/python/parallel_pooling_20200812.py ./\n",
    "%sx ln -s /home/camille/PoolImpHuman/data/20200709/ALL.chr20.snps.gt.vcf.gz"
   ],
   "metadata": {
    "collapsed": false,
    "pycharm": {
     "name": "#%%\n",
     "is_executing": false
    }
   }
  },
  {
   "cell_type": "markdown",
   "source": [
    "### Prepare experimental VCF file\n",
    "\n",
    "IMP and REF files are identical to 20200709 (imputation with default parameters)"
   ],
   "metadata": {
    "collapsed": false,
    "pycharm": {
     "name": "#%% md\n"
    }
   }
  },
  {
   "cell_type": "code",
   "execution_count": 3,
   "outputs": [
    {
     "data": {
      "text/plain": "[]"
     },
     "metadata": {},
     "output_type": "execute_result",
     "execution_count": 3
    }
   ],
   "source": [
    "%sx ln -s /home/camille/PoolImpHuman/data/20200709/IMP.chr20.snps.gt.vcf.gz\n",
    "%sx ln -s /home/camille/PoolImpHuman/data/20200709/REF.chr20.snps.gt.vcf.gz\n",
    "%sx bcftools index -f IMP.chr20.snps.gt.vcf.gz\n",
    "%sx bcftools index -f REF.chr20.snps.gt.vcf.gz"
   ],
   "metadata": {
    "collapsed": false,
    "pycharm": {
     "name": "#%%\n",
     "is_executing": false
    }
   }
  },
  {
   "cell_type": "code",
   "execution_count": 4,
   "outputs": [
    {
     "name": "stdout",
     "text": [
      "Check number of samples\n"
     ],
     "output_type": "stream"
    },
    {
     "data": {
      "text/plain": "['2504']"
     },
     "metadata": {},
     "output_type": "execute_result",
     "execution_count": 4
    }
   ],
   "source": [
    "print('Check number of samples')\n",
    "%sx bcftools query -l ALL.chr20.snps.gt.vcf.gz | wc -l"
   ],
   "metadata": {
    "collapsed": false,
    "pycharm": {
     "name": "#%%\n",
     "is_executing": false
    }
   }
  },
  {
   "cell_type": "code",
   "execution_count": 5,
   "outputs": [
    {
     "name": "stdout",
     "text": [
      "Check number of intersected markers\n"
     ],
     "output_type": "stream"
    },
    {
     "data": {
      "text/plain": "['52697']"
     },
     "metadata": {},
     "output_type": "execute_result",
     "execution_count": 5
    }
   ],
   "source": [
    "print('Check number of intersected markers')\n",
    "%sx bcftools view -H ALL.chr20.snps.gt.vcf.gz | wc -l"
   ],
   "metadata": {
    "collapsed": false,
    "pycharm": {
     "name": "#%%\n",
     "is_executing": false
    }
   }
  },
  {
   "cell_type": "code",
   "execution_count": 6,
   "outputs": [
    {
     "name": "stdout",
     "text": [
      "Clean data/tmp directory\n"
     ],
     "output_type": "stream"
    },
    {
     "data": {
      "text/plain": "[]"
     },
     "metadata": {},
     "output_type": "execute_result",
     "execution_count": 6
    }
   ],
   "source": [
    "print('Clean data/tmp directory')\n",
    "%sx rm ~/PoolImpHuman/data/tmp/*"
   ],
   "metadata": {
    "collapsed": false,
    "pycharm": {
     "name": "#%%\n",
     "is_executing": false
    }
   }
  },
  {
   "cell_type": "code",
   "execution_count": 7,
   "outputs": [
    {
     "name": "stdout",
     "text": [
      "Chunk the file to be imputed\n"
     ],
     "output_type": "stream"
    },
    {
     "data": {
      "text/plain": "['Counting lines in IMP.chr20.snps.gt.vcf.gz',\n 'Number of files to pack =  53',\n 'Worker 0 GO!',\n 'Worker 2 GO!',\n 'Worker 3 GO!',\n 'Worker 1 GO!',\n 'Worker 2: Packing and writing chunk 2',\n 'Starts at POS 1823326 and ends at POS 2827243',\n 'Worker 3: Packing and writing chunk 3',\n 'Starts at POS 2827468 and ends at POS 4074065',\n 'Worker 0: Packing and writing chunk 0',\n 'Starts at POS 61651 and ends at POS 863706',\n 'Worker 1: Packing and writing chunk 1',\n 'Starts at POS 863744 and ends at POS 1821917',\n \"    Worker 3: Chunk '3' OK!\",\n \"    Worker 2: Chunk '2' OK!\",\n \"    Worker 1: Chunk '1' OK!\",\n \"    Worker 0: Chunk '0' OK!\",\n 'Worker 2: Packing and writing chunk 6',\n 'Starts at POS 5756281 and ends at POS 6693076',\n 'Worker 1: Packing and writing chunk 5',\n 'Starts at POS 4790612 and ends at POS 5754542',\n 'Worker 0: Packing and writing chunk 4',\n 'Starts at POS 4075290 and ends at POS 4790574',\n 'Worker 3: Packing and writing chunk 7',\n 'Starts at POS 6693128 and ends at POS 7694701',\n \"    Worker 2: Chunk '6' OK!\",\n \"    Worker 3: Chunk '7' OK!\",\n \"    Worker 1: Chunk '5' OK!\",\n \"    Worker 0: Chunk '4' OK!\",\n 'Worker 2: Packing and writing chunk 10',\n 'Starts at POS 9803165 and ends at POS 10900208',\n 'Worker 0: Packing and writing chunk 8',\n 'Starts at POS 7697872 and ends at POS 8754778',\n 'Worker 1: Packing and writing chunk 9',\n 'Starts at POS 8755243 and ends at POS 9802660',\n 'Worker 3: Packing and writing chunk 11',\n 'Starts at POS 10900761 and ends at POS 12188704',\n \"    Worker 0: Chunk '8' OK!\",\n \"    Worker 2: Chunk '10' OK!\",\n \"    Worker 1: Chunk '9' OK!\",\n \"    Worker 3: Chunk '11' OK!\",\n 'Worker 2: Packing and writing chunk 14',\n 'Starts at POS 15041361 and ends at POS 15981749',\n 'Worker 1: Packing and writing chunk 13',\n 'Starts at POS 13306645 and ends at POS 15039515',\n 'Worker 0: Packing and writing chunk 12',\n 'Starts at POS 12188838 and ends at POS 13306386',\n 'Worker 3: Packing and writing chunk 15',\n 'Starts at POS 15983051 and ends at POS 16856681',\n \"    Worker 1: Chunk '13' OK!\",\n \"    Worker 2: Chunk '14' OK!\",\n \"    Worker 0: Chunk '12' OK!\",\n \"    Worker 3: Chunk '15' OK!\",\n 'Worker 2: Packing and writing chunk 18',\n 'Starts at POS 19240210 and ends at POS 20270952',\n 'Worker 1: Packing and writing chunk 17',\n 'Starts at POS 17868727 and ends at POS 19238808',\n 'Worker 0: Packing and writing chunk 16',\n 'Starts at POS 16856745 and ends at POS 17868447',\n 'Worker 3: Packing and writing chunk 19',\n 'Starts at POS 20271193 and ends at POS 22300304',\n \"    Worker 2: Chunk '18' OK!\",\n \"    Worker 1: Chunk '17' OK!\",\n \"    Worker 3: Chunk '19' OK!\",\n \"    Worker 0: Chunk '16' OK!\",\n 'Worker 1: Packing and writing chunk 21',\n 'Starts at POS 23456746 and ends at POS 24728173',\n 'Worker 2: Packing and writing chunk 22',\n 'Starts at POS 24728693 and ends at POS 30412101',\n 'Worker 3: Packing and writing chunk 23',\n 'Starts at POS 30413957 and ends at POS 31876681',\n 'Worker 0: Packing and writing chunk 20',\n 'Starts at POS 22300662 and ends at POS 23456538',\n \"    Worker 1: Chunk '21' OK!\",\n \"    Worker 2: Chunk '22' OK!\",\n \"    Worker 3: Chunk '23' OK!\",\n \"    Worker 0: Chunk '20' OK!\",\n 'Worker 3: Packing and writing chunk 27',\n 'Starts at POS 37262236 and ends at POS 38683469',\n 'Worker 1: Packing and writing chunk 25',\n 'Starts at POS 33962729 and ends at POS 35992648',\n 'Worker 2: Packing and writing chunk 26',\n 'Starts at POS 35993327 and ends at POS 37257384',\n 'Worker 0: Packing and writing chunk 24',\n 'Starts at POS 31880324 and ends at POS 33956164',\n \"    Worker 1: Chunk '25' OK!\",\n \"    Worker 3: Chunk '27' OK!\",\n \"    Worker 2: Chunk '26' OK!\",\n \"    Worker 0: Chunk '24' OK!\",\n 'Worker 1: Packing and writing chunk 29',\n 'Starts at POS 40007970 and ends at POS 41113279',\n 'Worker 2: Packing and writing chunk 30',\n 'Starts at POS 41113467 and ends at POS 42167236',\n 'Worker 3: Packing and writing chunk 31',\n 'Starts at POS 42167661 and ends at POS 43312397',\n 'Worker 0: Packing and writing chunk 28',\n 'Starts at POS 38683576 and ends at POS 40007073',\n \"    Worker 2: Chunk '30' OK!\",\n \"    Worker 3: Chunk '31' OK!\",\n \"    Worker 1: Chunk '29' OK!\",\n \"    Worker 0: Chunk '28' OK!\",\n 'Worker 1: Packing and writing chunk 33',\n 'Starts at POS 44554015 and ends at POS 45545407',\n 'Worker 2: Packing and writing chunk 34',\n 'Starts at POS 45546172 and ends at POS 46557266',\n 'Worker 3: Packing and writing chunk 35',\n 'Starts at POS 46557322 and ends at POS 47473162',\n \"    Worker 1: Chunk '33' OK!\",\n \"    Worker 3: Chunk '35' OK!\",\n \"    Worker 2: Chunk '34' OK!\",\n 'Worker 0: Packing and writing chunk 32',\n 'Starts at POS 43312753 and ends at POS 44553908',\n \"    Worker 0: Chunk '32' OK!\",\n 'Worker 3: Packing and writing chunk 39',\n 'Starts at POS 50025652 and ends at POS 51099960',\n 'Worker 1: Packing and writing chunk 37',\n 'Starts at POS 48737514 and ends at POS 49684063',\n 'Worker 2: Packing and writing chunk 38',\n 'Starts at POS 49684659 and ends at POS 50024737',\n \"    Worker 3: Chunk '39' OK!\",\n \"    Worker 1: Chunk '37' OK!\",\n \"    Worker 2: Chunk '38' OK!\",\n 'Worker 0: Packing and writing chunk 36',\n 'Starts at POS 47474809 and ends at POS 48733751',\n \"    Worker 0: Chunk '36' OK!\",\n 'Worker 1: Packing and writing chunk 41',\n 'Starts at POS 52175607 and ends at POS 53076468',\n 'Worker 3: Packing and writing chunk 43',\n 'Starts at POS 54161738 and ends at POS 55174228',\n 'Worker 2: Packing and writing chunk 42',\n 'Starts at POS 53077908 and ends at POS 54159154',\n \"    Worker 3: Chunk '43' OK!\",\n \"    Worker 1: Chunk '41' OK!\",\n \"    Worker 2: Chunk '42' OK!\",\n 'Worker 0: Packing and writing chunk 40',\n 'Starts at POS 51104619 and ends at POS 52173950',\n \"    Worker 0: Chunk '40' OK!\",\n 'Worker 1: Packing and writing chunk 45',\n 'Starts at POS 55972626 and ends at POS 56642911',\n 'Worker 3: Packing and writing chunk 47',\n 'Starts at POS 57621733 and ends at POS 58573942',\n \"    Worker 1: Chunk '45' OK!\",\n \"    Worker 3: Chunk '47' OK!\",\n 'Worker 2: Packing and writing chunk 46',\n 'Starts at POS 56643589 and ends at POS 57621455',\n \"    Worker 2: Chunk '46' OK!\",\n 'Worker 0: Packing and writing chunk 44',\n 'Starts at POS 55174653 and ends at POS 55971830',\n \"    Worker 0: Chunk '44' OK!\",\n 'Worker 1: Packing and writing chunk 49',\n 'Starts at POS 59494829 and ends at POS 60260044',\n 'Worker 3: Packing and writing chunk 51',\n 'Starts at POS 61180889 and ends at POS 62072308',\n \"    Worker 1: Chunk '49' OK!\",\n '    Worker 1 ALL DONE!',\n \"    Worker 3: Chunk '51' OK!\",\n '    Worker 3 ALL DONE!',\n 'Worker 2: Packing and writing chunk 50',\n 'Starts at POS 60260050 and ends at POS 61180845',\n \"    Worker 2: Chunk '50' OK!\",\n '    Worker 2 ALL DONE!',\n 'Worker 0: Packing and writing chunk 48',\n 'Starts at POS 58573988 and ends at POS 59493746',\n \"    Worker 0: Chunk '48' OK!\",\n 'Worker 0: Packing and writing chunk 52',\n 'Starts at POS 62073425 and ends at POS 62947458',\n \"    Worker 0: Chunk '52' OK!\",\n '    Worker 0 ALL DONE!']"
     },
     "metadata": {},
     "output_type": "execute_result",
     "execution_count": 7
    }
   ],
   "source": [
    "print('Chunk the file to be imputed')\n",
    "%sx ln -s /home/camille/PoolImpHuman/bin/bash-scripts/bcfchunkpara.sh ./\n",
    "%sx bash bcfchunkpara.sh IMP.chr20.snps.gt.vcf.gz ~/PoolImpHuman/data/tmp 1000\n",
    "# NB: file_in parameter cannot have path prefix, it must be a file name only"
   ],
   "metadata": {
    "collapsed": false,
    "pycharm": {
     "name": "#%%\n",
     "is_executing": false
    }
   }
  },
  {
   "cell_type": "code",
   "execution_count": 1,
   "outputs": [
    {
     "name": "stdout",
     "text": [
      "Pool the chunks\n"
     ],
     "output_type": "stream"
    },
    {
     "data": {
      "text/plain": "['SNIC PROJ: /home/camille/PoolImpHuman/data',\n '',\n '*******************************************************************************',\n 'Number of cpu to be used = 4',\n 'Input file = /home/camille/PoolImpHuman/data/20200812/IMP.chr20.snps.gt.vcf.gz',\n 'Output file = /home/camille/PoolImpHuman/data/20200812/IMP.chr20.pooled.snps.gt.vcf.gz',\n '*******************************************************************************',\n '',\n '',\n '53 files found will be pooled.................................................',\n \"['/home/camille/PoolImpHuman/data/tmp/pack39.IMP.chr20.snps.gt.vcf.gz', '/home/camille/PoolImpHuman/data/tmp/pack27.IMP.chr20.snps.gt.vcf.gz', '/home/camille/PoolImpHuman/data/tmp/pack13.IMP.chr20.snps.gt.vcf.gz', '/home/camille/PoolImpHuman/data/tmp/pack44.IMP.chr20.snps.gt.vcf.gz', '/home/camille/PoolImpHuman/data/tmp/pack32.IMP.chr20.snps.gt.vcf.gz', '/home/camille/PoolImpHuman/data/tmp/pack49.IMP.chr20.snps.gt.vcf.gz', '/home/camille/PoolImpHuman/data/tmp/pack24.IMP.chr20.snps.gt.vcf.gz', '/home/camille/PoolImpHuman/data/tmp/pack29.IMP.chr20.snps.gt.vcf.gz', '/home/camille/PoolImpHuman/data/tmp/pack1.IMP.chr20.snps.gt.vcf.gz', '/home/camille/PoolImpHuman/data/tmp/pack43.IMP.chr20.snps.gt.vcf.gz', '/home/camille/PoolImpHuman/data/tmp/pack4.IMP.chr20.snps.gt.vcf.gz', '/home/camille/PoolImpHuman/data/tmp/pack45.IMP.chr20.snps.gt.vcf.gz', '/home/camille/PoolImpHuman/data/tmp/pack18.IMP.chr20.snps.gt.vcf.gz', '/home/camille/PoolImpHuman/data/tmp/pack11.IMP.chr20.snps.gt.vcf.gz', '/home/camille/PoolImpHuman/data/tmp/pack52.IMP.chr20.snps.gt.vcf.gz', '/home/camille/PoolImpHuman/data/tmp/pack0.IMP.chr20.snps.gt.vcf.gz', '/home/camille/PoolImpHuman/data/tmp/pack8.IMP.chr20.snps.gt.vcf.gz', '/home/camille/PoolImpHuman/data/tmp/pack41.IMP.chr20.snps.gt.vcf.gz', '/home/camille/PoolImpHuman/data/tmp/pack14.IMP.chr20.snps.gt.vcf.gz', '/home/camille/PoolImpHuman/data/tmp/pack15.IMP.chr20.snps.gt.vcf.gz', '/home/camille/PoolImpHuman/data/tmp/pack31.IMP.chr20.snps.gt.vcf.gz', '/home/camille/PoolImpHuman/data/tmp/pack33.IMP.chr20.snps.gt.vcf.gz', '/home/camille/PoolImpHuman/data/tmp/pack10.IMP.chr20.snps.gt.vcf.gz', '/home/camille/PoolImpHuman/data/tmp/pack9.IMP.chr20.snps.gt.vcf.gz', '/home/camille/PoolImpHuman/data/tmp/pack5.IMP.chr20.snps.gt.vcf.gz', '/home/camille/PoolImpHuman/data/tmp/pack26.IMP.chr20.snps.gt.vcf.gz', '/home/camille/PoolImpHuman/data/tmp/pack12.IMP.chr20.snps.gt.vcf.gz', '/home/camille/PoolImpHuman/data/tmp/pack48.IMP.chr20.snps.gt.vcf.gz', '/home/camille/PoolImpHuman/data/tmp/pack7.IMP.chr20.snps.gt.vcf.gz', '/home/camille/PoolImpHuman/data/tmp/pack3.IMP.chr20.snps.gt.vcf.gz', '/home/camille/PoolImpHuman/data/tmp/pack51.IMP.chr20.snps.gt.vcf.gz', '/home/camille/PoolImpHuman/data/tmp/pack17.IMP.chr20.snps.gt.vcf.gz', '/home/camille/PoolImpHuman/data/tmp/pack35.IMP.chr20.snps.gt.vcf.gz', '/home/camille/PoolImpHuman/data/tmp/pack40.IMP.chr20.snps.gt.vcf.gz', '/home/camille/PoolImpHuman/data/tmp/pack22.IMP.chr20.snps.gt.vcf.gz', '/home/camille/PoolImpHuman/data/tmp/pack37.IMP.chr20.snps.gt.vcf.gz', '/home/camille/PoolImpHuman/data/tmp/pack19.IMP.chr20.snps.gt.vcf.gz', '/home/camille/PoolImpHuman/data/tmp/pack25.IMP.chr20.snps.gt.vcf.gz', '/home/camille/PoolImpHuman/data/tmp/pack30.IMP.chr20.snps.gt.vcf.gz', '/home/camille/PoolImpHuman/data/tmp/pack16.IMP.chr20.snps.gt.vcf.gz', '/home/camille/PoolImpHuman/data/tmp/pack34.IMP.chr20.snps.gt.vcf.gz', '/home/camille/PoolImpHuman/data/tmp/pack50.IMP.chr20.snps.gt.vcf.gz', '/home/camille/PoolImpHuman/data/tmp/pack6.IMP.chr20.snps.gt.vcf.gz', '/home/camille/PoolImpHuman/data/tmp/pack46.IMP.chr20.snps.gt.vcf.gz', '/home/camille/PoolImpHuman/data/tmp/pack47.IMP.chr20.snps.gt.vcf.gz', '/home/camille/PoolImpHuman/data/tmp/pack20.IMP.chr20.snps.gt.vcf.gz', '/home/camille/PoolImpHuman/data/tmp/pack42.IMP.chr20.snps.gt.vcf.gz', '/home/camille/PoolImpHuman/data/tmp/pack23.IMP.chr20.snps.gt.vcf.gz', '/home/camille/PoolImpHuman/data/tmp/pack2.IMP.chr20.snps.gt.vcf.gz', '/home/camille/PoolImpHuman/data/tmp/pack36.IMP.chr20.snps.gt.vcf.gz', '/home/camille/PoolImpHuman/data/tmp/pack21.IMP.chr20.snps.gt.vcf.gz', '/home/camille/PoolImpHuman/data/tmp/pack28.IMP.chr20.snps.gt.vcf.gz', '/home/camille/PoolImpHuman/data/tmp/pack38.IMP.chr20.snps.gt.vcf.gz']\",\n 'Pooling data in /home/camille/PoolImpHuman/data/tmp/pack39.IMP.chr20.snps.gt.vcf.gz',\n 'Pooling data in /home/camille/PoolImpHuman/data/tmp/pack32.IMP.chr20.snps.gt.vcf.gz',\n 'Pooling data in /home/camille/PoolImpHuman/data/tmp/pack1.IMP.chr20.snps.gt.vcf.gz',\n 'Pooling data in /home/camille/PoolImpHuman/data/tmp/pack18.IMP.chr20.snps.gt.vcf.gz',\n '1 variants processed in 000.02 sec..............................................',\n '1 variants processed in 000.02 sec..............................................',\n '1 variants processed in 000.02 sec..............................................',\n '1 variants processed in 000.02 sec..............................................',\n '',\n 'Writing metadata in /home/camille/PoolImpHuman/data/tmp/pooled.pack32.IMP.chr20.snps.gt.vcf',\n '',\n 'Writing data in /home/camille/PoolImpHuman/data/tmp/pooled.pack32.IMP.chr20.snps.gt.vcf',\n 'Writing data in /home/camille/PoolImpHuman/data/tmp/pooled.pack32.IMP.chr20.snps.gt.vcf: Done',\n '/home/camille/PoolImpHuman/data/tmp/pooled.pack32.IMP.chr20.snps.gt.vcf.gz:',\n ' File created? -> True',\n '/home/camille/PoolImpHuman/data/tmp/pooled.pack32.IMP.chr20.snps.gt.vcf.gz:',\n ' File indexed? -> True',\n 'Time for pooling 1000 variants = 14.922007004002808 sec',\n 'Pooling data in /home/camille/PoolImpHuman/data/tmp/pack49.IMP.chr20.snps.gt.vcf.gz',\n '1 variants processed in 000.01 sec..............................................',\n '',\n 'Writing metadata in /home/camille/PoolImpHuman/data/tmp/pooled.pack1.IMP.chr20.snps.gt.vcf',\n '',\n 'Writing data in /home/camille/PoolImpHuman/data/tmp/pooled.pack1.IMP.chr20.snps.gt.vcf',\n 'Writing data in /home/camille/PoolImpHuman/data/tmp/pooled.pack1.IMP.chr20.snps.gt.vcf: Done',\n '/home/camille/PoolImpHuman/data/tmp/pooled.pack1.IMP.chr20.snps.gt.vcf.gz:',\n ' File created? -> True',\n '/home/camille/PoolImpHuman/data/tmp/pooled.pack1.IMP.chr20.snps.gt.vcf.gz:',\n ' File indexed? -> True',\n 'Time for pooling 1000 variants = 16.028898057000333 sec',\n 'Pooling data in /home/camille/PoolImpHuman/data/tmp/pack43.IMP.chr20.snps.gt.vcf.gz',\n '1 variants processed in 000.01 sec..............................................',\n '',\n 'Writing metadata in /home/camille/PoolImpHuman/data/tmp/pooled.pack39.IMP.chr20.snps.gt.vcf',\n '',\n 'Writing data in /home/camille/PoolImpHuman/data/tmp/pooled.pack39.IMP.chr20.snps.gt.vcf',\n 'Writing data in /home/camille/PoolImpHuman/data/tmp/pooled.pack39.IMP.chr20.snps.gt.vcf: Done',\n '/home/camille/PoolImpHuman/data/tmp/pooled.pack39.IMP.chr20.snps.gt.vcf.gz:',\n ' File created? -> True',\n '/home/camille/PoolImpHuman/data/tmp/pooled.pack39.IMP.chr20.snps.gt.vcf.gz:',\n ' File indexed? -> True',\n 'Time for pooling 1000 variants = 16.341708736999863 sec',\n 'Pooling data in /home/camille/PoolImpHuman/data/tmp/pack27.IMP.chr20.snps.gt.vcf.gz',\n '1 variants processed in 000.04 sec..............................................',\n '',\n 'Writing metadata in /home/camille/PoolImpHuman/data/tmp/pooled.pack18.IMP.chr20.snps.gt.vcf',\n '',\n 'Writing data in /home/camille/PoolImpHuman/data/tmp/pooled.pack18.IMP.chr20.snps.gt.vcf',\n 'Writing data in /home/camille/PoolImpHuman/data/tmp/pooled.pack18.IMP.chr20.snps.gt.vcf: Done',\n '/home/camille/PoolImpHuman/data/tmp/pooled.pack18.IMP.chr20.snps.gt.vcf.gz:',\n ' File created? -> True',\n '/home/camille/PoolImpHuman/data/tmp/pooled.pack18.IMP.chr20.snps.gt.vcf.gz:',\n ' File indexed? -> True',\n 'Time for pooling 1000 variants = 16.551950981000118 sec',\n 'Pooling data in /home/camille/PoolImpHuman/data/tmp/pack11.IMP.chr20.snps.gt.vcf.gz',\n '1 variants processed in 000.02 sec..............................................',\n '',\n 'Writing metadata in /home/camille/PoolImpHuman/data/tmp/pooled.pack49.IMP.chr20.snps.gt.vcf',\n '',\n 'Writing data in /home/camille/PoolImpHuman/data/tmp/pooled.pack49.IMP.chr20.snps.gt.vcf',\n 'Writing data in /home/camille/PoolImpHuman/data/tmp/pooled.pack49.IMP.chr20.snps.gt.vcf: Done',\n '/home/camille/PoolImpHuman/data/tmp/pooled.pack49.IMP.chr20.snps.gt.vcf.gz:',\n ' File created? -> True',\n '/home/camille/PoolImpHuman/data/tmp/pooled.pack49.IMP.chr20.snps.gt.vcf.gz:',\n ' File indexed? -> True',\n 'Time for pooling 1000 variants = 18.32437281500097 sec',\n 'Pooling data in /home/camille/PoolImpHuman/data/tmp/pack24.IMP.chr20.snps.gt.vcf.gz',\n '1 variants processed in 000.02 sec..............................................',\n '',\n 'Writing metadata in /home/camille/PoolImpHuman/data/tmp/pooled.pack43.IMP.chr20.snps.gt.vcf',\n '',\n 'Writing data in /home/camille/PoolImpHuman/data/tmp/pooled.pack43.IMP.chr20.snps.gt.vcf',\n 'Writing data in /home/camille/PoolImpHuman/data/tmp/pooled.pack43.IMP.chr20.snps.gt.vcf: Done',\n '/home/camille/PoolImpHuman/data/tmp/pooled.pack43.IMP.chr20.snps.gt.vcf.gz:',\n ' File created? -> True',\n '/home/camille/PoolImpHuman/data/tmp/pooled.pack43.IMP.chr20.snps.gt.vcf.gz:',\n ' File indexed? -> True',\n 'Time for pooling 1000 variants = 18.3141368300021 sec',\n 'Pooling data in /home/camille/PoolImpHuman/data/tmp/pack4.IMP.chr20.snps.gt.vcf.gz',\n '1 variants processed in 000.03 sec..............................................',\n '',\n 'Writing metadata in /home/camille/PoolImpHuman/data/tmp/pooled.pack27.IMP.chr20.snps.gt.vcf',\n '',\n 'Writing data in /home/camille/PoolImpHuman/data/tmp/pooled.pack27.IMP.chr20.snps.gt.vcf',\n 'Writing data in /home/camille/PoolImpHuman/data/tmp/pooled.pack27.IMP.chr20.snps.gt.vcf: Done',\n '/home/camille/PoolImpHuman/data/tmp/pooled.pack27.IMP.chr20.snps.gt.vcf.gz:',\n ' File created? -> True',\n '/home/camille/PoolImpHuman/data/tmp/pooled.pack27.IMP.chr20.snps.gt.vcf.gz:',\n ' File indexed? -> True',\n 'Time for pooling 1000 variants = 18.805996195998887 sec',\n 'Pooling data in /home/camille/PoolImpHuman/data/tmp/pack13.IMP.chr20.snps.gt.vcf.gz',\n '1 variants processed in 000.03 sec..............................................',\n '',\n 'Writing metadata in /home/camille/PoolImpHuman/data/tmp/pooled.pack11.IMP.chr20.snps.gt.vcf',\n '',\n 'Writing data in /home/camille/PoolImpHuman/data/tmp/pooled.pack11.IMP.chr20.snps.gt.vcf',\n 'Writing data in /home/camille/PoolImpHuman/data/tmp/pooled.pack11.IMP.chr20.snps.gt.vcf: Done',\n '/home/camille/PoolImpHuman/data/tmp/pooled.pack11.IMP.chr20.snps.gt.vcf.gz:',\n ' File created? -> True',\n '/home/camille/PoolImpHuman/data/tmp/pooled.pack11.IMP.chr20.snps.gt.vcf.gz:',\n ' File indexed? -> True',\n 'Time for pooling 1000 variants = 18.91202219800107 sec',\n 'Pooling data in /home/camille/PoolImpHuman/data/tmp/pack52.IMP.chr20.snps.gt.vcf.gz',\n '1 variants processed in 000.03 sec..............................................',\n '',\n 'Writing metadata in /home/camille/PoolImpHuman/data/tmp/pooled.pack52.IMP.chr20.snps.gt.vcf',\n '',\n 'Writing data in /home/camille/PoolImpHuman/data/tmp/pooled.pack52.IMP.chr20.snps.gt.vcf',\n 'Writing data in /home/camille/PoolImpHuman/data/tmp/pooled.pack52.IMP.chr20.snps.gt.vcf: Done',\n '/home/camille/PoolImpHuman/data/tmp/pooled.pack52.IMP.chr20.snps.gt.vcf.gz:',\n ' File created? -> True',\n '/home/camille/PoolImpHuman/data/tmp/pooled.pack52.IMP.chr20.snps.gt.vcf.gz:',\n ' File indexed? -> True',\n 'Time for pooling 697 variants = 13.40691530299955 sec',\n 'Pooling data in /home/camille/PoolImpHuman/data/tmp/pack0.IMP.chr20.snps.gt.vcf.gz',\n '1 variants processed in 000.01 sec..............................................',\n '',\n 'Writing metadata in /home/camille/PoolImpHuman/data/tmp/pooled.pack24.IMP.chr20.snps.gt.vcf',\n '',\n 'Writing data in /home/camille/PoolImpHuman/data/tmp/pooled.pack24.IMP.chr20.snps.gt.vcf',\n 'Writing data in /home/camille/PoolImpHuman/data/tmp/pooled.pack24.IMP.chr20.snps.gt.vcf: Done',\n '/home/camille/PoolImpHuman/data/tmp/pooled.pack24.IMP.chr20.snps.gt.vcf.gz:',\n ' File created? -> True',\n '/home/camille/PoolImpHuman/data/tmp/pooled.pack24.IMP.chr20.snps.gt.vcf.gz:',\n ' File indexed? -> True',\n 'Time for pooling 1000 variants = 18.814862575996813 sec',\n 'Pooling data in /home/camille/PoolImpHuman/data/tmp/pack29.IMP.chr20.snps.gt.vcf.gz',\n '1 variants processed in 000.02 sec..............................................',\n '',\n 'Writing metadata in /home/camille/PoolImpHuman/data/tmp/pooled.pack13.IMP.chr20.snps.gt.vcf',\n '',\n 'Writing data in /home/camille/PoolImpHuman/data/tmp/pooled.pack13.IMP.chr20.snps.gt.vcf',\n 'Writing data in /home/camille/PoolImpHuman/data/tmp/pooled.pack13.IMP.chr20.snps.gt.vcf: Done',\n '/home/camille/PoolImpHuman/data/tmp/pooled.pack13.IMP.chr20.snps.gt.vcf.gz:',\n ' File created? -> True',\n '/home/camille/PoolImpHuman/data/tmp/pooled.pack13.IMP.chr20.snps.gt.vcf.gz:',\n ' File indexed? -> True',\n 'Time for pooling 1000 variants = 19.094679595000343 sec',\n 'Pooling data in /home/camille/PoolImpHuman/data/tmp/pack44.IMP.chr20.snps.gt.vcf.gz',\n '1 variants processed in 000.01 sec..............................................',\n '',\n 'Writing metadata in /home/camille/PoolImpHuman/data/tmp/pooled.pack4.IMP.chr20.snps.gt.vcf',\n '',\n 'Writing data in /home/camille/PoolImpHuman/data/tmp/pooled.pack4.IMP.chr20.snps.gt.vcf',\n 'Writing data in /home/camille/PoolImpHuman/data/tmp/pooled.pack4.IMP.chr20.snps.gt.vcf: Done',\n '/home/camille/PoolImpHuman/data/tmp/pooled.pack4.IMP.chr20.snps.gt.vcf.gz:',\n ' File created? -> True',\n '/home/camille/PoolImpHuman/data/tmp/pooled.pack4.IMP.chr20.snps.gt.vcf.gz:',\n ' File indexed? -> True',\n 'Time for pooling 1000 variants = 20.20935569699941 sec',\n 'Pooling data in /home/camille/PoolImpHuman/data/tmp/pack45.IMP.chr20.snps.gt.vcf.gz',\n '1 variants processed in 000.01 sec..............................................',\n '',\n 'Writing metadata in /home/camille/PoolImpHuman/data/tmp/pooled.pack0.IMP.chr20.snps.gt.vcf',\n '',\n 'Writing data in /home/camille/PoolImpHuman/data/tmp/pooled.pack0.IMP.chr20.snps.gt.vcf',\n 'Writing data in /home/camille/PoolImpHuman/data/tmp/pooled.pack0.IMP.chr20.snps.gt.vcf: Done',\n '/home/camille/PoolImpHuman/data/tmp/pooled.pack0.IMP.chr20.snps.gt.vcf.gz:',\n ' File created? -> True',\n '/home/camille/PoolImpHuman/data/tmp/pooled.pack0.IMP.chr20.snps.gt.vcf.gz:',\n ' File indexed? -> True',\n 'Time for pooling 1000 variants = 19.813586225998733 sec',\n 'Pooling data in /home/camille/PoolImpHuman/data/tmp/pack8.IMP.chr20.snps.gt.vcf.gz',\n '1 variants processed in 000.02 sec..............................................',\n '',\n 'Writing metadata in /home/camille/PoolImpHuman/data/tmp/pooled.pack29.IMP.chr20.snps.gt.vcf',\n '',\n 'Writing data in /home/camille/PoolImpHuman/data/tmp/pooled.pack29.IMP.chr20.snps.gt.vcf',\n 'Writing data in /home/camille/PoolImpHuman/data/tmp/pooled.pack29.IMP.chr20.snps.gt.vcf: Done',\n '/home/camille/PoolImpHuman/data/tmp/pooled.pack29.IMP.chr20.snps.gt.vcf.gz:',\n ' File created? -> True',\n '/home/camille/PoolImpHuman/data/tmp/pooled.pack29.IMP.chr20.snps.gt.vcf.gz:',\n ' File indexed? -> True',\n 'Time for pooling 1000 variants = 18.67356170399944 sec',\n 'Pooling data in /home/camille/PoolImpHuman/data/tmp/pack31.IMP.chr20.snps.gt.vcf.gz',\n '1 variants processed in 000.03 sec..............................................',\n '',\n 'Writing metadata in /home/camille/PoolImpHuman/data/tmp/pooled.pack44.IMP.chr20.snps.gt.vcf',\n '',\n 'Writing data in /home/camille/PoolImpHuman/data/tmp/pooled.pack44.IMP.chr20.snps.gt.vcf',\n 'Writing data in /home/camille/PoolImpHuman/data/tmp/pooled.pack44.IMP.chr20.snps.gt.vcf: Done',\n '/home/camille/PoolImpHuman/data/tmp/pooled.pack44.IMP.chr20.snps.gt.vcf.gz:',\n ' File created? -> True',\n '/home/camille/PoolImpHuman/data/tmp/pooled.pack44.IMP.chr20.snps.gt.vcf.gz:',\n ' File indexed? -> True',\n 'Time for pooling 1000 variants = 19.44269308299772 sec',\n 'Pooling data in /home/camille/PoolImpHuman/data/tmp/pack5.IMP.chr20.snps.gt.vcf.gz',\n '1 variants processed in 000.02 sec..............................................',\n '',\n 'Writing metadata in /home/camille/PoolImpHuman/data/tmp/pooled.pack45.IMP.chr20.snps.gt.vcf',\n '',\n 'Writing data in /home/camille/PoolImpHuman/data/tmp/pooled.pack45.IMP.chr20.snps.gt.vcf',\n 'Writing data in /home/camille/PoolImpHuman/data/tmp/pooled.pack45.IMP.chr20.snps.gt.vcf: Done',\n '/home/camille/PoolImpHuman/data/tmp/pooled.pack45.IMP.chr20.snps.gt.vcf.gz:',\n ' File created? -> True',\n '/home/camille/PoolImpHuman/data/tmp/pooled.pack45.IMP.chr20.snps.gt.vcf.gz:',\n ' File indexed? -> True',\n 'Time for pooling 1000 variants = 20.23487616499915 sec',\n 'Pooling data in /home/camille/PoolImpHuman/data/tmp/pack7.IMP.chr20.snps.gt.vcf.gz',\n '1 variants processed in 000.05 sec..............................................',\n '',\n 'Writing metadata in /home/camille/PoolImpHuman/data/tmp/pooled.pack8.IMP.chr20.snps.gt.vcf',\n '',\n 'Writing data in /home/camille/PoolImpHuman/data/tmp/pooled.pack8.IMP.chr20.snps.gt.vcf',\n 'Writing data in /home/camille/PoolImpHuman/data/tmp/pooled.pack8.IMP.chr20.snps.gt.vcf: Done',\n '/home/camille/PoolImpHuman/data/tmp/pooled.pack8.IMP.chr20.snps.gt.vcf.gz:',\n ' File created? -> True',\n '/home/camille/PoolImpHuman/data/tmp/pooled.pack8.IMP.chr20.snps.gt.vcf.gz:',\n ' File indexed? -> True',\n 'Time for pooling 1000 variants = 29.135358498999267 sec',\n 'Pooling data in /home/camille/PoolImpHuman/data/tmp/pack41.IMP.chr20.snps.gt.vcf.gz',\n '1 variants processed in 000.06 sec..............................................',\n '',\n 'Writing metadata in /home/camille/PoolImpHuman/data/tmp/pooled.pack31.IMP.chr20.snps.gt.vcf',\n '',\n 'Writing data in /home/camille/PoolImpHuman/data/tmp/pooled.pack31.IMP.chr20.snps.gt.vcf',\n 'Writing data in /home/camille/PoolImpHuman/data/tmp/pooled.pack31.IMP.chr20.snps.gt.vcf: Done',\n '/home/camille/PoolImpHuman/data/tmp/pooled.pack31.IMP.chr20.snps.gt.vcf.gz:',\n ' File created? -> True',\n '/home/camille/PoolImpHuman/data/tmp/pooled.pack31.IMP.chr20.snps.gt.vcf.gz:',\n ' File indexed? -> True',\n 'Time for pooling 1000 variants = 28.400466547001997 sec',\n 'Pooling data in /home/camille/PoolImpHuman/data/tmp/pack33.IMP.chr20.snps.gt.vcf.gz',\n '1 variants processed in 000.08 sec..............................................',\n '',\n 'Writing metadata in /home/camille/PoolImpHuman/data/tmp/pooled.pack5.IMP.chr20.snps.gt.vcf',\n '',\n 'Writing data in /home/camille/PoolImpHuman/data/tmp/pooled.pack5.IMP.chr20.snps.gt.vcf',\n 'Writing data in /home/camille/PoolImpHuman/data/tmp/pooled.pack5.IMP.chr20.snps.gt.vcf: Done',\n '/home/camille/PoolImpHuman/data/tmp/pooled.pack5.IMP.chr20.snps.gt.vcf.gz:',\n ' File created? -> True',\n '/home/camille/PoolImpHuman/data/tmp/pooled.pack5.IMP.chr20.snps.gt.vcf.gz:',\n ' File indexed? -> True',\n 'Time for pooling 1000 variants = 30.92628880399934 sec',\n 'Pooling data in /home/camille/PoolImpHuman/data/tmp/pack26.IMP.chr20.snps.gt.vcf.gz',\n '1 variants processed in 000.04 sec..............................................',\n '',\n 'Writing metadata in /home/camille/PoolImpHuman/data/tmp/pooled.pack7.IMP.chr20.snps.gt.vcf',\n '',\n 'Writing data in /home/camille/PoolImpHuman/data/tmp/pooled.pack7.IMP.chr20.snps.gt.vcf',\n 'Writing data in /home/camille/PoolImpHuman/data/tmp/pooled.pack7.IMP.chr20.snps.gt.vcf: Done',\n '/home/camille/PoolImpHuman/data/tmp/pooled.pack7.IMP.chr20.snps.gt.vcf.gz:',\n ' File created? -> True',\n '/home/camille/PoolImpHuman/data/tmp/pooled.pack7.IMP.chr20.snps.gt.vcf.gz:',\n ' File indexed? -> True',\n 'Time for pooling 1000 variants = 30.353315251999447 sec',\n 'Pooling data in /home/camille/PoolImpHuman/data/tmp/pack3.IMP.chr20.snps.gt.vcf.gz',\n '1 variants processed in 000.05 sec..............................................',\n '',\n 'Writing metadata in /home/camille/PoolImpHuman/data/tmp/pooled.pack33.IMP.chr20.snps.gt.vcf',\n '',\n 'Writing data in /home/camille/PoolImpHuman/data/tmp/pooled.pack33.IMP.chr20.snps.gt.vcf',\n 'Writing data in /home/camille/PoolImpHuman/data/tmp/pooled.pack33.IMP.chr20.snps.gt.vcf: Done',\n '',\n 'Writing metadata in /home/camille/PoolImpHuman/data/tmp/pooled.pack41.IMP.chr20.snps.gt.vcf',\n '',\n 'Writing data in /home/camille/PoolImpHuman/data/tmp/pooled.pack41.IMP.chr20.snps.gt.vcf',\n 'Writing data in /home/camille/PoolImpHuman/data/tmp/pooled.pack41.IMP.chr20.snps.gt.vcf: Done',\n '/home/camille/PoolImpHuman/data/tmp/pooled.pack33.IMP.chr20.snps.gt.vcf.gz:',\n ' File created? -> True',\n '/home/camille/PoolImpHuman/data/tmp/pooled.pack41.IMP.chr20.snps.gt.vcf.gz:',\n ' File created? -> True',\n '/home/camille/PoolImpHuman/data/tmp/pooled.pack33.IMP.chr20.snps.gt.vcf.gz:',\n ' File indexed? -> True',\n 'Time for pooling 1000 variants = 24.729033708001225 sec',\n 'Pooling data in /home/camille/PoolImpHuman/data/tmp/pack10.IMP.chr20.snps.gt.vcf.gz',\n '/home/camille/PoolImpHuman/data/tmp/pooled.pack41.IMP.chr20.snps.gt.vcf.gz:',\n ' File indexed? -> True',\n 'Time for pooling 1000 variants = 26.050629823002964 sec',\n 'Pooling data in /home/camille/PoolImpHuman/data/tmp/pack14.IMP.chr20.snps.gt.vcf.gz',\n '1 variants processed in 000.02 sec..............................................',\n '1 variants processed in 000.02 sec..............................................',\n '',\n 'Writing metadata in /home/camille/PoolImpHuman/data/tmp/pooled.pack26.IMP.chr20.snps.gt.vcf',\n '',\n 'Writing data in /home/camille/PoolImpHuman/data/tmp/pooled.pack26.IMP.chr20.snps.gt.vcf',\n 'Writing data in /home/camille/PoolImpHuman/data/tmp/pooled.pack26.IMP.chr20.snps.gt.vcf: Done',\n '/home/camille/PoolImpHuman/data/tmp/pooled.pack26.IMP.chr20.snps.gt.vcf.gz:',\n ' File created? -> True',\n '/home/camille/PoolImpHuman/data/tmp/pooled.pack26.IMP.chr20.snps.gt.vcf.gz:',\n ' File indexed? -> True',\n 'Time for pooling 1000 variants = 22.78719113400075 sec',\n 'Pooling data in /home/camille/PoolImpHuman/data/tmp/pack12.IMP.chr20.snps.gt.vcf.gz',\n '1 variants processed in 000.02 sec..............................................',\n '',\n 'Writing metadata in /home/camille/PoolImpHuman/data/tmp/pooled.pack3.IMP.chr20.snps.gt.vcf',\n '',\n 'Writing data in /home/camille/PoolImpHuman/data/tmp/pooled.pack3.IMP.chr20.snps.gt.vcf',\n 'Writing data in /home/camille/PoolImpHuman/data/tmp/pooled.pack3.IMP.chr20.snps.gt.vcf: Done',\n '/home/camille/PoolImpHuman/data/tmp/pooled.pack3.IMP.chr20.snps.gt.vcf.gz:',\n ' File created? -> True',\n '/home/camille/PoolImpHuman/data/tmp/pooled.pack3.IMP.chr20.snps.gt.vcf.gz:',\n ' File indexed? -> True',\n 'Time for pooling 1000 variants = 22.710850953000772 sec',\n 'Pooling data in /home/camille/PoolImpHuman/data/tmp/pack51.IMP.chr20.snps.gt.vcf.gz',\n '1 variants processed in 000.03 sec..............................................',\n '',\n 'Writing metadata in /home/camille/PoolImpHuman/data/tmp/pooled.pack14.IMP.chr20.snps.gt.vcf',\n '',\n 'Writing data in /home/camille/PoolImpHuman/data/tmp/pooled.pack14.IMP.chr20.snps.gt.vcf',\n 'Writing data in /home/camille/PoolImpHuman/data/tmp/pooled.pack14.IMP.chr20.snps.gt.vcf: Done',\n '/home/camille/PoolImpHuman/data/tmp/pooled.pack14.IMP.chr20.snps.gt.vcf.gz:',\n ' File created? -> True',\n '/home/camille/PoolImpHuman/data/tmp/pooled.pack14.IMP.chr20.snps.gt.vcf.gz:',\n ' File indexed? -> True',\n 'Time for pooling 1000 variants = 20.648703334998572 sec',\n 'Pooling data in /home/camille/PoolImpHuman/data/tmp/pack15.IMP.chr20.snps.gt.vcf.gz',\n '1 variants processed in 000.03 sec..............................................',\n '',\n 'Writing metadata in /home/camille/PoolImpHuman/data/tmp/pooled.pack10.IMP.chr20.snps.gt.vcf',\n '',\n 'Writing data in /home/camille/PoolImpHuman/data/tmp/pooled.pack10.IMP.chr20.snps.gt.vcf',\n 'Writing data in /home/camille/PoolImpHuman/data/tmp/pooled.pack10.IMP.chr20.snps.gt.vcf: Done',\n '/home/camille/PoolImpHuman/data/tmp/pooled.pack10.IMP.chr20.snps.gt.vcf.gz:',\n ' File created? -> True',\n '/home/camille/PoolImpHuman/data/tmp/pooled.pack10.IMP.chr20.snps.gt.vcf.gz:',\n ' File indexed? -> True',\n 'Time for pooling 1000 variants = 20.97318911399998 sec',\n 'Pooling data in /home/camille/PoolImpHuman/data/tmp/pack9.IMP.chr20.snps.gt.vcf.gz',\n '1 variants processed in 000.03 sec..............................................',\n '',\n 'Writing metadata in /home/camille/PoolImpHuman/data/tmp/pooled.pack51.IMP.chr20.snps.gt.vcf',\n '',\n 'Writing data in /home/camille/PoolImpHuman/data/tmp/pooled.pack51.IMP.chr20.snps.gt.vcf',\n 'Writing data in /home/camille/PoolImpHuman/data/tmp/pooled.pack51.IMP.chr20.snps.gt.vcf: Done',\n '/home/camille/PoolImpHuman/data/tmp/pooled.pack51.IMP.chr20.snps.gt.vcf.gz:',\n ' File created? -> True',\n '/home/camille/PoolImpHuman/data/tmp/pooled.pack51.IMP.chr20.snps.gt.vcf.gz:',\n ' File indexed? -> True',\n 'Time for pooling 1000 variants = 20.112760560001334 sec',\n 'Pooling data in /home/camille/PoolImpHuman/data/tmp/pack17.IMP.chr20.snps.gt.vcf.gz',\n '1 variants processed in 000.02 sec..............................................',\n '',\n 'Writing metadata in /home/camille/PoolImpHuman/data/tmp/pooled.pack12.IMP.chr20.snps.gt.vcf',\n '',\n 'Writing data in /home/camille/PoolImpHuman/data/tmp/pooled.pack12.IMP.chr20.snps.gt.vcf',\n 'Writing data in /home/camille/PoolImpHuman/data/tmp/pooled.pack12.IMP.chr20.snps.gt.vcf: Done',\n '/home/camille/PoolImpHuman/data/tmp/pooled.pack12.IMP.chr20.snps.gt.vcf.gz:',\n ' File created? -> True',\n '/home/camille/PoolImpHuman/data/tmp/pooled.pack12.IMP.chr20.snps.gt.vcf.gz:',\n ' File indexed? -> True',\n 'Time for pooling 1000 variants = 20.790363528001762 sec',\n 'Pooling data in /home/camille/PoolImpHuman/data/tmp/pack48.IMP.chr20.snps.gt.vcf.gz',\n '1 variants processed in 000.01 sec..............................................',\n '',\n 'Writing metadata in /home/camille/PoolImpHuman/data/tmp/pooled.pack9.IMP.chr20.snps.gt.vcf',\n '',\n 'Writing data in /home/camille/PoolImpHuman/data/tmp/pooled.pack9.IMP.chr20.snps.gt.vcf',\n 'Writing data in /home/camille/PoolImpHuman/data/tmp/pooled.pack9.IMP.chr20.snps.gt.vcf: Done',\n '/home/camille/PoolImpHuman/data/tmp/pooled.pack9.IMP.chr20.snps.gt.vcf.gz:',\n ' File created? -> True',\n '/home/camille/PoolImpHuman/data/tmp/pooled.pack9.IMP.chr20.snps.gt.vcf.gz:',\n ' File indexed? -> True',\n 'Time for pooling 1000 variants = 20.591490097998758 sec',\n 'Pooling data in /home/camille/PoolImpHuman/data/tmp/pack35.IMP.chr20.snps.gt.vcf.gz',\n '1 variants processed in 000.03 sec..............................................',\n '',\n 'Writing metadata in /home/camille/PoolImpHuman/data/tmp/pooled.pack15.IMP.chr20.snps.gt.vcf',\n '',\n 'Writing data in /home/camille/PoolImpHuman/data/tmp/pooled.pack15.IMP.chr20.snps.gt.vcf',\n 'Writing data in /home/camille/PoolImpHuman/data/tmp/pooled.pack15.IMP.chr20.snps.gt.vcf: Done',\n '/home/camille/PoolImpHuman/data/tmp/pooled.pack15.IMP.chr20.snps.gt.vcf.gz:',\n ' File created? -> True',\n '/home/camille/PoolImpHuman/data/tmp/pooled.pack15.IMP.chr20.snps.gt.vcf.gz:',\n ' File indexed? -> True',\n 'Time for pooling 1000 variants = 21.16144372599956 sec',\n 'Pooling data in /home/camille/PoolImpHuman/data/tmp/pack19.IMP.chr20.snps.gt.vcf.gz',\n '1 variants processed in 000.04 sec..............................................',\n '',\n 'Writing metadata in /home/camille/PoolImpHuman/data/tmp/pooled.pack48.IMP.chr20.snps.gt.vcf',\n '',\n 'Writing data in /home/camille/PoolImpHuman/data/tmp/pooled.pack48.IMP.chr20.snps.gt.vcf',\n 'Writing data in /home/camille/PoolImpHuman/data/tmp/pooled.pack48.IMP.chr20.snps.gt.vcf: Done',\n '/home/camille/PoolImpHuman/data/tmp/pooled.pack48.IMP.chr20.snps.gt.vcf.gz:',\n ' File created? -> True',\n '/home/camille/PoolImpHuman/data/tmp/pooled.pack48.IMP.chr20.snps.gt.vcf.gz:',\n ' File indexed? -> True',\n 'Time for pooling 1000 variants = 20.311127638997277 sec',\n 'Pooling data in /home/camille/PoolImpHuman/data/tmp/pack34.IMP.chr20.snps.gt.vcf.gz',\n '1 variants processed in 000.03 sec..............................................',\n '',\n 'Writing metadata in /home/camille/PoolImpHuman/data/tmp/pooled.pack17.IMP.chr20.snps.gt.vcf',\n '',\n 'Writing data in /home/camille/PoolImpHuman/data/tmp/pooled.pack17.IMP.chr20.snps.gt.vcf',\n 'Writing data in /home/camille/PoolImpHuman/data/tmp/pooled.pack17.IMP.chr20.snps.gt.vcf: Done',\n '/home/camille/PoolImpHuman/data/tmp/pooled.pack17.IMP.chr20.snps.gt.vcf.gz:',\n ' File created? -> True',\n '/home/camille/PoolImpHuman/data/tmp/pooled.pack17.IMP.chr20.snps.gt.vcf.gz:',\n ' File indexed? -> True',\n 'Time for pooling 1000 variants = 21.529758631000732 sec',\n 'Pooling data in /home/camille/PoolImpHuman/data/tmp/pack47.IMP.chr20.snps.gt.vcf.gz',\n '1 variants processed in 000.05 sec..............................................',\n '',\n 'Writing metadata in /home/camille/PoolImpHuman/data/tmp/pooled.pack19.IMP.chr20.snps.gt.vcf',\n '',\n 'Writing data in /home/camille/PoolImpHuman/data/tmp/pooled.pack19.IMP.chr20.snps.gt.vcf',\n 'Writing data in /home/camille/PoolImpHuman/data/tmp/pooled.pack19.IMP.chr20.snps.gt.vcf: Done',\n '/home/camille/PoolImpHuman/data/tmp/pooled.pack19.IMP.chr20.snps.gt.vcf.gz:',\n ' File created? -> True',\n '/home/camille/PoolImpHuman/data/tmp/pooled.pack19.IMP.chr20.snps.gt.vcf.gz:',\n ' File indexed? -> True',\n 'Time for pooling 1000 variants = 19.08612012100275 sec',\n 'Pooling data in /home/camille/PoolImpHuman/data/tmp/pack25.IMP.chr20.snps.gt.vcf.gz',\n '1 variants processed in 000.02 sec..............................................',\n '',\n 'Writing metadata in /home/camille/PoolImpHuman/data/tmp/pooled.pack35.IMP.chr20.snps.gt.vcf',\n '',\n 'Writing data in /home/camille/PoolImpHuman/data/tmp/pooled.pack35.IMP.chr20.snps.gt.vcf',\n 'Writing data in /home/camille/PoolImpHuman/data/tmp/pooled.pack35.IMP.chr20.snps.gt.vcf: Done',\n '/home/camille/PoolImpHuman/data/tmp/pooled.pack35.IMP.chr20.snps.gt.vcf.gz:',\n ' File created? -> True',\n '/home/camille/PoolImpHuman/data/tmp/pooled.pack35.IMP.chr20.snps.gt.vcf.gz:',\n ' File indexed? -> True',\n 'Time for pooling 1000 variants = 20.295860263002396 sec',\n 'Pooling data in /home/camille/PoolImpHuman/data/tmp/pack40.IMP.chr20.snps.gt.vcf.gz',\n '1 variants processed in 000.02 sec..............................................',\n '',\n 'Writing metadata in /home/camille/PoolImpHuman/data/tmp/pooled.pack34.IMP.chr20.snps.gt.vcf',\n '',\n 'Writing data in /home/camille/PoolImpHuman/data/tmp/pooled.pack34.IMP.chr20.snps.gt.vcf',\n 'Writing data in /home/camille/PoolImpHuman/data/tmp/pooled.pack34.IMP.chr20.snps.gt.vcf: Done',\n '/home/camille/PoolImpHuman/data/tmp/pooled.pack34.IMP.chr20.snps.gt.vcf.gz:',\n ' File created? -> True',\n '/home/camille/PoolImpHuman/data/tmp/pooled.pack34.IMP.chr20.snps.gt.vcf.gz:',\n ' File indexed? -> True',\n 'Time for pooling 1000 variants = 20.229245714999706 sec',\n 'Pooling data in /home/camille/PoolImpHuman/data/tmp/pack50.IMP.chr20.snps.gt.vcf.gz',\n '1 variants processed in 000.02 sec..............................................',\n '',\n 'Writing metadata in /home/camille/PoolImpHuman/data/tmp/pooled.pack47.IMP.chr20.snps.gt.vcf',\n '',\n 'Writing data in /home/camille/PoolImpHuman/data/tmp/pooled.pack47.IMP.chr20.snps.gt.vcf',\n 'Writing data in /home/camille/PoolImpHuman/data/tmp/pooled.pack47.IMP.chr20.snps.gt.vcf: Done',\n '/home/camille/PoolImpHuman/data/tmp/pooled.pack47.IMP.chr20.snps.gt.vcf.gz:',\n ' File created? -> True',\n '/home/camille/PoolImpHuman/data/tmp/pooled.pack47.IMP.chr20.snps.gt.vcf.gz:',\n ' File indexed? -> True',\n 'Time for pooling 1000 variants = 19.952491389998613 sec',\n 'Pooling data in /home/camille/PoolImpHuman/data/tmp/pack20.IMP.chr20.snps.gt.vcf.gz',\n '1 variants processed in 000.01 sec..............................................',\n '',\n 'Writing metadata in /home/camille/PoolImpHuman/data/tmp/pooled.pack25.IMP.chr20.snps.gt.vcf',\n '',\n 'Writing data in /home/camille/PoolImpHuman/data/tmp/pooled.pack25.IMP.chr20.snps.gt.vcf',\n 'Writing data in /home/camille/PoolImpHuman/data/tmp/pooled.pack25.IMP.chr20.snps.gt.vcf: Done',\n '/home/camille/PoolImpHuman/data/tmp/pooled.pack25.IMP.chr20.snps.gt.vcf.gz:',\n ' File created? -> True',\n '/home/camille/PoolImpHuman/data/tmp/pooled.pack25.IMP.chr20.snps.gt.vcf.gz:',\n ' File indexed? -> True',\n 'Time for pooling 1000 variants = 17.417806890000065 sec',\n 'Pooling data in /home/camille/PoolImpHuman/data/tmp/pack30.IMP.chr20.snps.gt.vcf.gz',\n '1 variants processed in 000.02 sec..............................................',\n '',\n 'Writing metadata in /home/camille/PoolImpHuman/data/tmp/pooled.pack40.IMP.chr20.snps.gt.vcf',\n '',\n 'Writing data in /home/camille/PoolImpHuman/data/tmp/pooled.pack40.IMP.chr20.snps.gt.vcf',\n 'Writing data in /home/camille/PoolImpHuman/data/tmp/pooled.pack40.IMP.chr20.snps.gt.vcf: Done',\n '/home/camille/PoolImpHuman/data/tmp/pooled.pack40.IMP.chr20.snps.gt.vcf.gz:',\n ' File created? -> True',\n '/home/camille/PoolImpHuman/data/tmp/pooled.pack40.IMP.chr20.snps.gt.vcf.gz:',\n ' File indexed? -> True',\n 'Time for pooling 1000 variants = 19.258797301001323 sec',\n 'Pooling data in /home/camille/PoolImpHuman/data/tmp/pack22.IMP.chr20.snps.gt.vcf.gz',\n '1 variants processed in 000.02 sec..............................................',\n '',\n 'Writing metadata in /home/camille/PoolImpHuman/data/tmp/pooled.pack50.IMP.chr20.snps.gt.vcf',\n '',\n 'Writing data in /home/camille/PoolImpHuman/data/tmp/pooled.pack50.IMP.chr20.snps.gt.vcf',\n 'Writing data in /home/camille/PoolImpHuman/data/tmp/pooled.pack50.IMP.chr20.snps.gt.vcf: Done',\n '/home/camille/PoolImpHuman/data/tmp/pooled.pack50.IMP.chr20.snps.gt.vcf.gz:',\n ' File created? -> True',\n '/home/camille/PoolImpHuman/data/tmp/pooled.pack50.IMP.chr20.snps.gt.vcf.gz:',\n ' File indexed? -> True',\n 'Time for pooling 1000 variants = 18.883657737998874 sec',\n 'Pooling data in /home/camille/PoolImpHuman/data/tmp/pack6.IMP.chr20.snps.gt.vcf.gz',\n '1 variants processed in 000.03 sec..............................................',\n '',\n 'Writing metadata in /home/camille/PoolImpHuman/data/tmp/pooled.pack20.IMP.chr20.snps.gt.vcf',\n '',\n 'Writing data in /home/camille/PoolImpHuman/data/tmp/pooled.pack20.IMP.chr20.snps.gt.vcf',\n 'Writing data in /home/camille/PoolImpHuman/data/tmp/pooled.pack20.IMP.chr20.snps.gt.vcf: Done',\n '/home/camille/PoolImpHuman/data/tmp/pooled.pack20.IMP.chr20.snps.gt.vcf.gz:',\n ' File created? -> True',\n '/home/camille/PoolImpHuman/data/tmp/pooled.pack20.IMP.chr20.snps.gt.vcf.gz:',\n ' File indexed? -> True',\n 'Time for pooling 1000 variants = 19.08627460599746 sec',\n 'Pooling data in /home/camille/PoolImpHuman/data/tmp/pack42.IMP.chr20.snps.gt.vcf.gz',\n '1 variants processed in 000.02 sec..............................................',\n '',\n 'Writing metadata in /home/camille/PoolImpHuman/data/tmp/pooled.pack30.IMP.chr20.snps.gt.vcf',\n '',\n 'Writing data in /home/camille/PoolImpHuman/data/tmp/pooled.pack30.IMP.chr20.snps.gt.vcf',\n 'Writing data in /home/camille/PoolImpHuman/data/tmp/pooled.pack30.IMP.chr20.snps.gt.vcf: Done',\n '/home/camille/PoolImpHuman/data/tmp/pooled.pack30.IMP.chr20.snps.gt.vcf.gz:',\n ' File created? -> True',\n '/home/camille/PoolImpHuman/data/tmp/pooled.pack30.IMP.chr20.snps.gt.vcf.gz:',\n ' File indexed? -> True',\n 'Time for pooling 1000 variants = 18.97218327399969 sec',\n 'Pooling data in /home/camille/PoolImpHuman/data/tmp/pack16.IMP.chr20.snps.gt.vcf.gz',\n '1 variants processed in 000.03 sec..............................................',\n '',\n 'Writing metadata in /home/camille/PoolImpHuman/data/tmp/pooled.pack22.IMP.chr20.snps.gt.vcf',\n '',\n 'Writing data in /home/camille/PoolImpHuman/data/tmp/pooled.pack22.IMP.chr20.snps.gt.vcf',\n 'Writing data in /home/camille/PoolImpHuman/data/tmp/pooled.pack22.IMP.chr20.snps.gt.vcf: Done',\n '/home/camille/PoolImpHuman/data/tmp/pooled.pack22.IMP.chr20.snps.gt.vcf.gz:',\n ' File created? -> True',\n '/home/camille/PoolImpHuman/data/tmp/pooled.pack22.IMP.chr20.snps.gt.vcf.gz:',\n ' File indexed? -> True',\n 'Time for pooling 1000 variants = 17.757485120000638 sec',\n 'Pooling data in /home/camille/PoolImpHuman/data/tmp/pack37.IMP.chr20.snps.gt.vcf.gz',\n '1 variants processed in 000.03 sec..............................................',\n '',\n 'Writing metadata in /home/camille/PoolImpHuman/data/tmp/pooled.pack6.IMP.chr20.snps.gt.vcf',\n '',\n 'Writing data in /home/camille/PoolImpHuman/data/tmp/pooled.pack6.IMP.chr20.snps.gt.vcf',\n 'Writing data in /home/camille/PoolImpHuman/data/tmp/pooled.pack6.IMP.chr20.snps.gt.vcf: Done',\n '/home/camille/PoolImpHuman/data/tmp/pooled.pack6.IMP.chr20.snps.gt.vcf.gz:',\n ' File created? -> True',\n '/home/camille/PoolImpHuman/data/tmp/pooled.pack6.IMP.chr20.snps.gt.vcf.gz:',\n ' File indexed? -> True',\n 'Time for pooling 1000 variants = 19.277870875997905 sec',\n 'Pooling data in /home/camille/PoolImpHuman/data/tmp/pack46.IMP.chr20.snps.gt.vcf.gz',\n '1 variants processed in 000.02 sec..............................................',\n '',\n 'Writing metadata in /home/camille/PoolImpHuman/data/tmp/pooled.pack42.IMP.chr20.snps.gt.vcf',\n '',\n 'Writing data in /home/camille/PoolImpHuman/data/tmp/pooled.pack42.IMP.chr20.snps.gt.vcf',\n 'Writing data in /home/camille/PoolImpHuman/data/tmp/pooled.pack42.IMP.chr20.snps.gt.vcf: Done',\n '/home/camille/PoolImpHuman/data/tmp/pooled.pack42.IMP.chr20.snps.gt.vcf.gz:',\n ' File created? -> True',\n '/home/camille/PoolImpHuman/data/tmp/pooled.pack42.IMP.chr20.snps.gt.vcf.gz:',\n ' File indexed? -> True',\n 'Time for pooling 1000 variants = 18.749694408001233 sec',\n 'Pooling data in /home/camille/PoolImpHuman/data/tmp/pack23.IMP.chr20.snps.gt.vcf.gz',\n '1 variants processed in 000.01 sec..............................................',\n '',\n 'Writing metadata in /home/camille/PoolImpHuman/data/tmp/pooled.pack16.IMP.chr20.snps.gt.vcf',\n '',\n 'Writing data in /home/camille/PoolImpHuman/data/tmp/pooled.pack16.IMP.chr20.snps.gt.vcf',\n 'Writing data in /home/camille/PoolImpHuman/data/tmp/pooled.pack16.IMP.chr20.snps.gt.vcf: Done',\n '/home/camille/PoolImpHuman/data/tmp/pooled.pack16.IMP.chr20.snps.gt.vcf.gz:',\n ' File created? -> True',\n '/home/camille/PoolImpHuman/data/tmp/pooled.pack16.IMP.chr20.snps.gt.vcf.gz:',\n ' File indexed? -> True',\n 'Time for pooling 1000 variants = 19.48825185199894 sec',\n 'Pooling data in /home/camille/PoolImpHuman/data/tmp/pack2.IMP.chr20.snps.gt.vcf.gz',\n '1 variants processed in 000.02 sec..............................................',\n '',\n 'Writing metadata in /home/camille/PoolImpHuman/data/tmp/pooled.pack37.IMP.chr20.snps.gt.vcf',\n '',\n 'Writing data in /home/camille/PoolImpHuman/data/tmp/pooled.pack37.IMP.chr20.snps.gt.vcf',\n 'Writing data in /home/camille/PoolImpHuman/data/tmp/pooled.pack37.IMP.chr20.snps.gt.vcf: Done',\n '/home/camille/PoolImpHuman/data/tmp/pooled.pack37.IMP.chr20.snps.gt.vcf.gz:',\n ' File created? -> True',\n '/home/camille/PoolImpHuman/data/tmp/pooled.pack37.IMP.chr20.snps.gt.vcf.gz:',\n ' File indexed? -> True',\n 'Time for pooling 1000 variants = 18.87782834900281 sec',\n 'Pooling data in /home/camille/PoolImpHuman/data/tmp/pack38.IMP.chr20.snps.gt.vcf.gz',\n '1 variants processed in 000.02 sec..............................................',\n '',\n 'Writing metadata in /home/camille/PoolImpHuman/data/tmp/pooled.pack23.IMP.chr20.snps.gt.vcf',\n '',\n 'Writing data in /home/camille/PoolImpHuman/data/tmp/pooled.pack23.IMP.chr20.snps.gt.vcf',\n 'Writing data in /home/camille/PoolImpHuman/data/tmp/pooled.pack23.IMP.chr20.snps.gt.vcf: Done',\n '/home/camille/PoolImpHuman/data/tmp/pooled.pack23.IMP.chr20.snps.gt.vcf.gz:',\n ' File created? -> True',\n '/home/camille/PoolImpHuman/data/tmp/pooled.pack23.IMP.chr20.snps.gt.vcf.gz:',\n ' File indexed? -> True',\n 'Time for pooling 1000 variants = 18.372756545999437 sec',\n '',\n 'Writing metadata in /home/camille/PoolImpHuman/data/tmp/pooled.pack46.IMP.chr20.snps.gt.vcf',\n '',\n 'Writing data in /home/camille/PoolImpHuman/data/tmp/pooled.pack46.IMP.chr20.snps.gt.vcf',\n 'Writing data in /home/camille/PoolImpHuman/data/tmp/pooled.pack46.IMP.chr20.snps.gt.vcf: Done',\n '/home/camille/PoolImpHuman/data/tmp/pooled.pack46.IMP.chr20.snps.gt.vcf.gz:',\n ' File created? -> True',\n '/home/camille/PoolImpHuman/data/tmp/pooled.pack46.IMP.chr20.snps.gt.vcf.gz:',\n ' File indexed? -> True',\n 'Time for pooling 1000 variants = 19.26216444400052 sec',\n '',\n 'Writing metadata in /home/camille/PoolImpHuman/data/tmp/pooled.pack38.IMP.chr20.snps.gt.vcf',\n '',\n 'Writing data in /home/camille/PoolImpHuman/data/tmp/pooled.pack38.IMP.chr20.snps.gt.vcf',\n 'Writing data in /home/camille/PoolImpHuman/data/tmp/pooled.pack38.IMP.chr20.snps.gt.vcf: Done',\n '/home/camille/PoolImpHuman/data/tmp/pooled.pack38.IMP.chr20.snps.gt.vcf.gz:',\n ' File created? -> True',\n '/home/camille/PoolImpHuman/data/tmp/pooled.pack38.IMP.chr20.snps.gt.vcf.gz:',\n ' File indexed? -> True',\n 'Time for pooling 1000 variants = 11.215225879001082 sec',\n '',\n 'Writing metadata in /home/camille/PoolImpHuman/data/tmp/pooled.pack2.IMP.chr20.snps.gt.vcf',\n '',\n 'Writing data in /home/camille/PoolImpHuman/data/tmp/pooled.pack2.IMP.chr20.snps.gt.vcf',\n 'Writing data in /home/camille/PoolImpHuman/data/tmp/pooled.pack2.IMP.chr20.snps.gt.vcf: Done',\n '/home/camille/PoolImpHuman/data/tmp/pooled.pack2.IMP.chr20.snps.gt.vcf.gz:',\n ' File created? -> True',\n '/home/camille/PoolImpHuman/data/tmp/pooled.pack2.IMP.chr20.snps.gt.vcf.gz:',\n ' File indexed? -> True',\n 'Time for pooling 1000 variants = 12.962632219001534 sec',\n 'Pooling data in /home/camille/PoolImpHuman/data/tmp/pack36.IMP.chr20.snps.gt.vcf.gz',\n '1 variants processed in 000.01 sec..............................................',\n '',\n 'Writing metadata in /home/camille/PoolImpHuman/data/tmp/pooled.pack36.IMP.chr20.snps.gt.vcf',\n '',\n 'Writing data in /home/camille/PoolImpHuman/data/tmp/pooled.pack36.IMP.chr20.snps.gt.vcf',\n 'Writing data in /home/camille/PoolImpHuman/data/tmp/pooled.pack36.IMP.chr20.snps.gt.vcf: Done',\n '/home/camille/PoolImpHuman/data/tmp/pooled.pack36.IMP.chr20.snps.gt.vcf.gz:',\n ' File created? -> True',\n '/home/camille/PoolImpHuman/data/tmp/pooled.pack36.IMP.chr20.snps.gt.vcf.gz:',\n ' File indexed? -> True',\n 'Time for pooling 1000 variants = 7.919017799002177 sec',\n 'Pooling data in /home/camille/PoolImpHuman/data/tmp/pack21.IMP.chr20.snps.gt.vcf.gz',\n '1 variants processed in 000.01 sec..............................................',\n '',\n 'Writing metadata in /home/camille/PoolImpHuman/data/tmp/pooled.pack21.IMP.chr20.snps.gt.vcf',\n '',\n 'Writing data in /home/camille/PoolImpHuman/data/tmp/pooled.pack21.IMP.chr20.snps.gt.vcf',\n 'Writing data in /home/camille/PoolImpHuman/data/tmp/pooled.pack21.IMP.chr20.snps.gt.vcf: Done',\n '/home/camille/PoolImpHuman/data/tmp/pooled.pack21.IMP.chr20.snps.gt.vcf.gz:',\n ' File created? -> True',\n '/home/camille/PoolImpHuman/data/tmp/pooled.pack21.IMP.chr20.snps.gt.vcf.gz:',\n ' File indexed? -> True',\n 'Time for pooling 1000 variants = 8.299154943000758 sec',\n 'Pooling data in /home/camille/PoolImpHuman/data/tmp/pack28.IMP.chr20.snps.gt.vcf.gz',\n '1 variants processed in 000.01 sec..............................................',\n '',\n 'Writing metadata in /home/camille/PoolImpHuman/data/tmp/pooled.pack28.IMP.chr20.snps.gt.vcf',\n '',\n 'Writing data in /home/camille/PoolImpHuman/data/tmp/pooled.pack28.IMP.chr20.snps.gt.vcf',\n 'Writing data in /home/camille/PoolImpHuman/data/tmp/pooled.pack28.IMP.chr20.snps.gt.vcf: Done',\n '/home/camille/PoolImpHuman/data/tmp/pooled.pack28.IMP.chr20.snps.gt.vcf.gz:',\n ' File created? -> True',\n '/home/camille/PoolImpHuman/data/tmp/pooled.pack28.IMP.chr20.snps.gt.vcf.gz:',\n ' File indexed? -> True',\n 'Time for pooling 1000 variants = 7.668583088001469 sec',\n '',\n 'Time elapsed -->  277.8271336200014',\n '/home/camille/PoolImpHuman/data/tmp/IMP.chr20.snps.gt.vcf:',\n ' File created? -> True',\n 'Writing to /tmp/bcftools-sort.LJmPJQ',\n 'Merging 1 temporary files',\n 'Cleaning',\n 'Done',\n '/home/camille/PoolImpHuman/data/tmp/IMP.chr20.snps.gt.vcf:',\n ' File sorted? -> True',\n '/home/camille/PoolImpHuman/data/tmp/IMP.chr20.pooled.snps.gt.vcf.gz:',\n ' File created? -> True',\n '/home/camille/PoolImpHuman/data/tmp/IMP.chr20.pooled.snps.gt.vcf.gz:',\n ' File indexed? -> True',\n '',\n 'Time elapsed -->  282.233043911001']"
     },
     "metadata": {},
     "output_type": "execute_result",
     "execution_count": 1
    }
   ],
   "source": [
    "print('Pool the chunks')\n",
    "%sx source ~/1000Genomes/venv3.6/bin/activate\n",
    "%sx python3 -u parallel_pooling_20200812.py /home/camille/PoolImpHuman/data/20200812/IMP.chr20.snps.gt.vcf.gz /home/camille/PoolImpHuman/data/20200812/IMP.chr20.pooled.snps.gt.vcf.gz 4"
   ],
   "metadata": {
    "collapsed": false,
    "pycharm": {
     "name": "#%%\n",
     "is_executing": false
    }
   }
  },
  {
   "cell_type": "markdown",
   "source": [
    "```bash\n",
    "'Time for pooling 1000 variants = 7.668583088001469 sec',\n",
    " '',\n",
    " 'Time elapsed -->  277.8271336200014',\n",
    " '/home/camille/PoolImpHuman/data/tmp/IMP.chr20.snps.gt.vcf:',\n",
    " ' File created? -> True',\n",
    " 'Writing to /tmp/bcftools-sort.LJmPJQ',\n",
    " 'Merging 1 temporary files',\n",
    " 'Cleaning',\n",
    " 'Done',\n",
    " '/home/camille/PoolImpHuman/data/tmp/IMP.chr20.snps.gt.vcf:',\n",
    " ' File sorted? -> True',\n",
    " '/home/camille/PoolImpHuman/data/tmp/IMP.chr20.pooled.snps.gt.vcf.gz:',\n",
    " ' File created? -> True',\n",
    " '/home/camille/PoolImpHuman/data/tmp/IMP.chr20.pooled.snps.gt.vcf.gz:',\n",
    " ' File indexed? -> True',\n",
    " '',\n",
    " 'Time elapsed -->  282.233043911001'\n",
    "```"
   ],
   "metadata": {
    "collapsed": false,
    "pycharm": {
     "name": "#%% md\n"
    }
   }
  }
 ],
 "metadata": {
  "kernelspec": {
   "display_name": "Python 3",
   "language": "python",
   "name": "python3"
  },
  "language_info": {
   "codemirror_mode": {
    "name": "ipython",
    "version": 2
   },
   "file_extension": ".py",
   "mimetype": "text/x-python",
   "name": "python",
   "nbconvert_exporter": "python",
   "pygments_lexer": "ipython2",
   "version": "2.7.6"
  },
  "pycharm": {
   "stem_cell": {
    "cell_type": "raw",
    "source": [],
    "metadata": {
     "collapsed": false
    }
   }
  }
 },
 "nbformat": 4,
 "nbformat_minor": 0
}