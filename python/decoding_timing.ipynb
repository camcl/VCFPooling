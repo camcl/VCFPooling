{
 "cells": [
  {
   "cell_type": "markdown",
   "metadata": {
    "collapsed": true,
    "pycharm": {
     "name": "#%% md\n"
    }
   },
   "source": [
    "# Time performance for simulting NORB pooling on a single variant\n",
    "Time-benchmark study over the different methods for pooling (decoding step varies):\n",
    "* look up table as dictionary vs. dot-products of arrays\n",
    "* block-wise decoding with a for-loop vs. block-wise in NumPy style vs. population-wide in NumPy style.\n",
    "This means for example using `np.apply_along_axis(func)` for replacing a `for`-loop with func\n",
    "* decoding into GP or GT\n",
    "\n",
    "Use random arrays for simulating genotypes.\n",
    "\n",
    "Number of blocks varies (hence population size too)"
   ]
  },
  {
   "cell_type": "code",
   "execution_count": 5,
   "outputs": [],
   "source": [
    "times = [('decoding_method', 'lookup_kind', 'genotype_format', 'nb_blocks', 'block_pop', 'nb_runs', 'loop_rep_per_run', 'mean_time_per_loop_sec', 'std_time_per_loop_sec'),\n",
    "         \n",
    "         ('for-loop', 'none', 'gt', 1, 'block-wise', 7, 1000, 360e-06, 55.4e-06),\n",
    "         ('for-loop', 'none', 'gt', 1, 'block-wise', 7, 1000, 311e-06, 41e-06),\n",
    "         ('np-apply', 'none', 'gt', 1, 'block-wise', 7, 1000, 412e-06, 26.9e-06),\n",
    "         ('np-apply', 'none', 'gt', 1, 'pop-wide', 7, 1000, 123e-06, 8.72e-06),\n",
    "         \n",
    "         ('for-loop', 'dict', 'gp', 1, 'block-wise', 7, 1000, 390e-06, 20.7e-06),\n",
    "         ('for-loop', 'dot-arrays', 'gp', 1, 'block-wise', 7, 1000, 930e-06, 17.6e-06),\n",
    "         ('np-apply', 'dot-arrays', 'gp', 1, 'block-wise', 7, 1000, 977e-06, 26.3e-06),\n",
    "         ('np-apply', 'dot-arrays', 'gp', 1, 'pop-wide', 7, 1000, 901e-06, 59.5e-06),  # equivalent to previous line with 1 block only\n",
    "         ('numba-np-apply', 'dict', 'gp', 1, 'pop-wide', 7, 10, 446e-06, 45.5e-06),\n",
    "         \n",
    "         ('for-loop', 'none', 'gt', 12, 'block-wise', 7, 100,3.2e-03, 200e-06),\n",
    "         ('for-loop', 'none', 'gt', 12, 'block-wise', 7, 100,3.54e-03, 315e-06),        \n",
    "         ('np-apply', 'none', 'gt', 12, 'block-wise', 7, 100,3.93e-03, 222e-06),\n",
    "         ('np-apply', 'none', 'gt', 12, 'pop-wide', 7, 100,697e-06, 60.2e-06),\n",
    "         \n",
    "         ('for-loop', 'dict', 'gp', 12, 'block-wise', 7, 100,3.23e-03, 407e-06),\n",
    "         ('for-loop', 'dot-arrays', 'gp', 12, 'block-wise', 7, 100,11e-03, 825e-06),\n",
    "         ('np-apply', 'dot-arrays', 'gp', 12, 'block-wise', 7, 100,10.9e-03, 122e-06),\n",
    "         ('np-apply', 'dot-arrays', 'gp', 12, 'pop-wide', 7, 100,7.97e-03, 503e-06),\n",
    "         ('numba-np-apply', 'dict', 'gp', 12, 'pop-wide', 7, 10, 3.13e-03, 809e-06),\n",
    "         \n",
    "         ('for-loop', 'none', 'gt', 36, 'block-wise', 7, 10,16.1e-03, 4.87e-03),\n",
    "         ('for-loop', 'none', 'gt', 36, 'block-wise', 7, 10,12.5e-03, 4.25e-03),\n",
    "         ('np-apply', 'none', 'gt', 36, 'block-wise', 7, 10,14.2e-03, 1.16e-03),\n",
    "         ('np-apply', 'none', 'gt', 36, 'pop-wide', 7, 10,2.4e-03, 719e-06),\n",
    "         \n",
    "         ('for-loop', 'dict', 'gp', 36, 'block-wise', 7, 10,10.4e-03, 941e-06),\n",
    "         ('for-loop', 'dot-arrays', 'gp', 36, 'block-wise', 7, 10,40e-03, 5.12e-03),\n",
    "         ('np-apply', 'dot-arrays', 'gp', 36, 'block-wise', 7, 10,41.4e-03, 8.02e-03),\n",
    "         ('np-apply', 'dot-arrays', 'gp', 36, 'pop-wide', 7, 10,33e-03, 4.36e-03),\n",
    "         ('numba-np-apply', 'dict', 'gp', 36, 'pop-wide', 7, 10, 7.46e-03, 459e-06),\n",
    "         \n",
    "         ('for-loop', 'none', 'gt', 60, 'block-wise', 7, 10,21.2e-03, 4.74e-03),\n",
    "         ('for-loop', 'none', 'gt', 60, 'block-wise', 7, 10,25.1e-03, 4.02e-03),\n",
    "         ('np-apply', 'none', 'gt', 60, 'block-wise', 7, 10,24.6e-03, 2.75e-03),\n",
    "         ('np-apply', 'none', 'gt', 60, 'pop-wide', 7, 10,4.4e-03, 984e-06),\n",
    "         \n",
    "         ('for-loop', 'dict', 'gp', 60, 'block-wise', 7, 10,17.8e-03, 4.77e-03),\n",
    "         ('for-loop', 'dot-arrays', 'gp', 60, 'block-wise', 7, 10,60.9e-03, 7.85e-03),\n",
    "         ('np-apply', 'dot-arrays', 'gp', 60, 'block-wise', 7, 10,72.7e-03, 11.1e-03),\n",
    "         ('np-apply', 'dot-arrays', 'gp', 60, 'pop-wide', 7, 10,56.9e-03, 7.97e-03),\n",
    "         ('numba-np-apply', 'dict', 'gp', 60, 'pop-wide', 7, 10, 13.4e-03, 120e-06),\n",
    "         \n",
    "         ('for-loop', 'none', 'gt', 90, 'block-wise', 7, 10,21.2e-03, 4.74e-03),\n",
    "         ('for-loop', 'none', 'gt', 90, 'block-wise', 7, 10,36.1e-03, 6.03e-03),\n",
    "         ('np-apply', 'none', 'gt', 90, 'block-wise', 7, 10,42.1e-03, 9.03e-03),\n",
    "         ('np-apply', 'none', 'gt', 90, 'pop-wide', 7, 10,5.5e-03, 631e-06),\n",
    "         \n",
    "         ('for-loop', 'dict', 'gp', 90, 'block-wise', 7, 10,28.3e-03, 4.38e-03),\n",
    "         ('for-loop', 'dot-arrays', 'gp', 90, 'block-wise', 7, 10,94.3e-03, 12.2e-03),\n",
    "         ('np-apply', 'dot-arrays', 'gp', 90, 'block-wise', 7, 10,105e-03, 7.79e-03),\n",
    "         ('np-apply', 'dot-arrays', 'gp', 90, 'pop-wide', 7, 10,82.5e-03, 11.7e-03),\n",
    "         ('numba-np-apply', 'dict', 'gp', 90, 'pop-wide', 7, 10, 29.5e-03, 8.17e-03),\n",
    "         \n",
    "         ('for-loop', 'none', 'gt', 120, 'block-wise', 7, 10, 44.3e-03, 10.3e-03),\n",
    "         ('for-loop', 'none', 'gt', 120, 'block-wise', 7, 10, 39.5e-03, 6.51e-03),\n",
    "         ('np-apply', 'none', 'gt', 120, 'block-wise', 7, 10, 51.1e-03, 10.3e-03),\n",
    "         ('np-apply', 'none', 'gt', 120, 'pop-wide', 7, 10,8.68e-03, 1.36e-03),\n",
    "         \n",
    "         ('for-loop', 'dict', 'gp', 120, 'block-wise', 7, 10,37.5e-03, 8.57e-03),\n",
    "         ('for-loop', 'dot-arrays', 'gp', 120, 'block-wise', 7, 10,187e-03, 45.8e-03),\n",
    "         ('np-apply', 'dot-arrays', 'gp', 120, 'block-wise', 7, 10,137e-03, 16.1e-03),\n",
    "         ('np-apply', 'dot-arrays', 'gp', 120, 'pop-wide', 7, 10, 98.2e-03, 4.05e-03),\n",
    "         ('numba-np-apply', 'dict', 'gp', 120, 'pop-wide', 7, 10, 45.8e-03, 2.45e-03),\n",
    "         \n",
    "         ('for-loop', 'none', 'gt', 180, 'block-wise', 7, 10,60.6e-03, 12.6e-03),\n",
    "         ('for-loop', 'none', 'gt', 180, 'block-wise', 7, 10,66.7e-03, 15.9e-03),\n",
    "         ('np-apply', 'none', 'gt', 180, 'block-wise', 7, 10,67.3e-03, 9.9e-03),\n",
    "         ('np-apply', 'none', 'gt', 180, 'pop-wide', 7, 10,20.4e-03, 6.44e-03),\n",
    "         \n",
    "         ('for-loop', 'dict', 'gp', 180, 'block-wise', 7, 10,55.2e-03, 6.26e-03),\n",
    "         ('for-loop', 'dot-arrays', 'gp', 180, 'block-wise', 7, 10,278e-03, 66.8e-03),\n",
    "         ('np-apply', 'dot-arrays', 'gp', 180, 'block-wise', 7, 10,233e-03, 56e-03),\n",
    "         ('np-apply', 'dot-arrays', 'gp', 180, 'pop-wide', 7, 10,238e-03, 61.1e-03),\n",
    "         ('numba-np-apply', 'dict', 'gp', 180, 'pop-wide', 7, 10, 89.7e-03, 4.7e-03),\n",
    "         \n",
    "         ('for-loop', 'none', 'gt', 250, 'block-wise', 7, 10,82.6e-03, 16e-03),\n",
    "         ('for-loop', 'none', 'gt', 250, 'block-wise', 7, 10,76.6e-03, 11.9e-03),\n",
    "         ('np-apply', 'none', 'gt', 250, 'block-wise', 7, 10,92.3e-03, 15.4e-03),\n",
    "         ('np-apply', 'none', 'gt', 250, 'pop-wide', 7, 10,50.3e-03, 6.36e-03),\n",
    "         \n",
    "         ('for-loop', 'dict', 'gp', 250, 'block-wise', 7, 10, 75.2e-03, 12.3e-03),\n",
    "         ('for-loop', 'dot-arrays', 'gp', 250, 'block-wise', 7, 10, 304e-03, 53.4e-03),\n",
    "         ('np-apply', 'dot-arrays', 'gp', 250, 'block-wise', 7, 10, 320e-03, 76.3e-03),\n",
    "         ('np-apply', 'dot-arrays', 'gp', 250, 'pop-wide', 7, 10, 367e-03, 70.5e-03),\n",
    "         ('numba-np-apply', 'dict', 'gp', 250, 'pop-wide', 7, 10, 190e-03, 11.9e-03),\n",
    "         \n",
    "         ('for-loop', 'none', 'gt', 450, 'block-wise', 7, 10,192e-03, 48.5e-03),\n",
    "         ('for-loop', 'none', 'gt', 450, 'block-wise', 7, 10,177e-03, 37.5e-03),\n",
    "         ('np-apply', 'none', 'gt', 450, 'block-wise', 7, 10,199e-03, 57e-03),\n",
    "         ('np-apply', 'none', 'gt', 450, 'pop-wide', 7, 10,258e-03, 11e-03),\n",
    "         \n",
    "         ('for-loop', 'dict', 'gp', 450, 'block-wise', 7, 10,154e-03, 34.4e-03),\n",
    "         ('for-loop', 'dot-arrays', 'gp', 450, 'block-wise', 7, 10,422e-03, 23.1e-03),\n",
    "         ('np-apply', 'dot-arrays', 'gp', 450, 'block-wise', 7, 10,509e-03, 71.7e-03),\n",
    "         ('np-apply', 'dot-arrays', 'gp', 450, 'pop-wide', 7, 10,880e-03, 56.8e-03),\n",
    "         ('numba-np-apply', 'dict', 'gp', 450, 'pop-wide', 7, 10, 579e-03, 49.7e-03),\n",
    "         \n",
    "         ('for-loop', 'none', 'gt', 850, 'block-wise', 7, 1,326e-03, 81.9e-03),\n",
    "         ('for-loop', 'none', 'gt', 850, 'block-wise', 7, 1,347e-03, 95.6e-03),\n",
    "         ('np-apply', 'none', 'gt', 850, 'block-wise', 7, 1,326e-03, 80.3e-03),\n",
    "         ('np-apply', 'none', 'gt', 850, 'pop-wide', 7, 1,810e-03, 96.7e-03),\n",
    "         \n",
    "         ('for-loop', 'dict', 'gp', 850, 'block-wise', 7, 1,282e-03, 66.9e-03),\n",
    "         ('for-loop', 'dot-arrays', 'gp', 850, 'block-wise', 7, 1,912e-03, 96.6e-03),\n",
    "         ('np-apply', 'dot-arrays', 'gp', 850, 'block-wise', 7, 1,945e-03, 122e-03),\n",
    "         ('np-apply', 'dot-arrays', 'gp', 850, 'pop-wide', 7, 1,2.97, 277e-03),\n",
    "         ('numba-np-apply', 'dict', 'gp', 850, 'pop-wide', 7, 10, 1.96, 156e-03),\n",
    "         \n",
    "         ('for-loop', 'none', 'gt', 1200, 'block-wise', 7, 1,397e-03, 131e-03),\n",
    "         ('for-loop', 'none', 'gt', 1200, 'block-wise', 7, 1,486e-03, 94.7e-03),\n",
    "         ('np-apply', 'none', 'gt', 1200, 'block-wise', 7, 1,544e-03, 130e-03),\n",
    "         ('np-apply', 'none', 'gt', 1200, 'pop-wide', 7, 1, 1.88, 56.7e-03),\n",
    "         \n",
    "         ('for-loop', 'dict', 'gp', 1200, 'block-wise', 7, 1, 334e-03, 68.4e-03),\n",
    "         ('for-loop', 'dot-arrays', 'gp', 1200, 'block-wise', 7, 1,1.34, 239e-03),\n",
    "         ('np-apply', 'dot-arrays', 'gp', 1200, 'block-wise', 7, 1,1.25, 181e-03),\n",
    "         ('np-apply', 'dot-arrays', 'gp', 1200, 'pop-wide', 7, 1, 5.44, 385e-03),\n",
    "         ('numba-np-apply', 'dict', 'gp', 1200, 'pop-wide', 7, 1, 4.17, 422e-03),\n",
    "         \n",
    "         ('for-loop', 'none', 'gt', 2000, 'block-wise', 7, 1,631e-03, 77.9e-03),\n",
    "         ('for-loop', 'none', 'gt', 2000, 'block-wise', 7, 1,710e-03, 154e-03),\n",
    "         ('np-apply', 'none', 'gt', 2000, 'block-wise', 7, 1,858e-03, 194e-03),\n",
    "         ('np-apply', 'none', 'gt', 2000, 'pop-wide', 7, 1, 5.07, 327e-03),\n",
    "         \n",
    "         ('for-loop', 'dict', 'gp', 2000, 'block-wise', 7, 1, 550e-03, 62.4e-03),\n",
    "         ('for-loop', 'dot-arrays', 'gp', 2000, 'block-wise', 7, 1,2.04, 165e-03),\n",
    "         ('np-apply', 'dot-arrays', 'gp', 2000, 'block-wise', 7, 1,1.82, 34e-03),\n",
    "         ('np-apply', 'dot-arrays', 'gp', 2000, 'pop-wide', 7, 1, 21.3, 1.33),\n",
    "         ('numba-np-apply', 'dict', 'gp', 2000, 'pop-wide', 7, 1, 18.7, 183e-03),\n",
    "         ]"
   ],
   "metadata": {
    "collapsed": false,
    "pycharm": {
     "name": "#%%\n",
     "is_executing": false
    }
   }
  },
  {
   "cell_type": "code",
   "execution_count": 3,
   "outputs": [
    {
     "name": "stdout",
     "text": [
      "Line 0 --> 9 columns\n",
      "Line 1 --> 9 columns\n",
      "Line 2 --> 9 columns\n",
      "Line 3 --> 9 columns\n",
      "Line 4 --> 9 columns\n",
      "Line 5 --> 9 columns\n",
      "Line 6 --> 9 columns\n",
      "Line 7 --> 9 columns\n",
      "Line 8 --> 9 columns\n",
      "Line 9 --> 9 columns\n",
      "Line 10 --> 9 columns\n",
      "Line 11 --> 9 columns\n",
      "Line 12 --> 9 columns\n",
      "Line 13 --> 9 columns\n",
      "Line 14 --> 9 columns\n",
      "Line 15 --> 9 columns\n",
      "Line 16 --> 9 columns\n",
      "Line 17 --> 9 columns\n",
      "Line 18 --> 9 columns\n",
      "Line 19 --> 9 columns\n",
      "Line 20 --> 9 columns\n",
      "Line 21 --> 9 columns\n",
      "Line 22 --> 9 columns\n",
      "Line 23 --> 9 columns\n",
      "Line 24 --> 9 columns\n",
      "Line 25 --> 9 columns\n",
      "Line 26 --> 9 columns\n",
      "Line 27 --> 9 columns\n",
      "Line 28 --> 9 columns\n",
      "Line 29 --> 9 columns\n",
      "Line 30 --> 9 columns\n",
      "Line 31 --> 9 columns\n",
      "Line 32 --> 9 columns\n",
      "Line 33 --> 9 columns\n",
      "Line 34 --> 9 columns\n",
      "Line 35 --> 9 columns\n",
      "Line 36 --> 9 columns\n",
      "Line 37 --> 9 columns\n",
      "Line 38 --> 9 columns\n",
      "Line 39 --> 9 columns\n",
      "Line 40 --> 9 columns\n",
      "Line 41 --> 9 columns\n",
      "Line 42 --> 9 columns\n",
      "Line 43 --> 9 columns\n",
      "Line 44 --> 9 columns\n",
      "Line 45 --> 9 columns\n",
      "Line 46 --> 9 columns\n",
      "Line 47 --> 9 columns\n",
      "Line 48 --> 9 columns\n",
      "Line 49 --> 9 columns\n",
      "Line 50 --> 9 columns\n",
      "Line 51 --> 9 columns\n",
      "Line 52 --> 9 columns\n",
      "Line 53 --> 9 columns\n",
      "Line 54 --> 9 columns\n",
      "Line 55 --> 9 columns\n",
      "Line 56 --> 9 columns\n",
      "Line 57 --> 9 columns\n",
      "Line 58 --> 9 columns\n",
      "Line 59 --> 9 columns\n",
      "Line 60 --> 9 columns\n",
      "Line 61 --> 9 columns\n",
      "Line 62 --> 9 columns\n",
      "Line 63 --> 9 columns\n",
      "Line 64 --> 9 columns\n",
      "Line 65 --> 9 columns\n",
      "Line 66 --> 9 columns\n",
      "Line 67 --> 9 columns\n",
      "Line 68 --> 9 columns\n",
      "Line 69 --> 9 columns\n",
      "Line 70 --> 9 columns\n",
      "Line 71 --> 9 columns\n",
      "Line 72 --> 9 columns\n",
      "Line 73 --> 9 columns\n",
      "Line 74 --> 9 columns\n",
      "Line 75 --> 9 columns\n",
      "Line 76 --> 9 columns\n",
      "Line 77 --> 9 columns\n",
      "Line 78 --> 9 columns\n",
      "Line 79 --> 9 columns\n",
      "Line 80 --> 9 columns\n",
      "Line 81 --> 9 columns\n",
      "Line 82 --> 9 columns\n",
      "Line 83 --> 9 columns\n",
      "Line 84 --> 9 columns\n",
      "Line 85 --> 9 columns\n",
      "Line 86 --> 9 columns\n",
      "Line 87 --> 9 columns\n",
      "Line 88 --> 9 columns\n",
      "Line 89 --> 9 columns\n",
      "Line 90 --> 9 columns\n",
      "Line 91 --> 9 columns\n",
      "Line 92 --> 9 columns\n",
      "Line 93 --> 9 columns\n",
      "Line 94 --> 9 columns\n",
      "Line 95 --> 9 columns\n",
      "Line 96 --> 9 columns\n",
      "Line 97 --> 9 columns\n",
      "Line 98 --> 9 columns\n",
      "Line 99 --> 10 columns\n",
      "Line 100 --> 9 columns\n",
      "Line 101 --> 9 columns\n",
      "Line 102 --> 9 columns\n",
      "Line 103 --> 9 columns\n",
      "Line 104 --> 9 columns\n",
      "Line 105 --> 9 columns\n",
      "Line 106 --> 9 columns\n",
      "Line 107 --> 9 columns\n",
      "Line 108 --> 10 columns\n"
     ],
     "output_type": "stream"
    }
   ],
   "source": [
    "for i, tp in enumerate(times):\n",
    "    break\n",
    "    print('Line {} --> {} columns'.format(i, len(tp)))\n",
    "    "
   ],
   "metadata": {
    "collapsed": false,
    "pycharm": {
     "name": "#%%\n",
     "is_executing": false
    }
   }
  },
  {
   "cell_type": "code",
   "execution_count": 6,
   "outputs": [
    {
     "name": "stdout",
     "text": [
      "  decoding_method lookup_kind genotype_format  nb_blocks   block_pop  nb_runs  \\\n",
      "0        for-loop        none              gt          1  block-wise        7   \n",
      "1        for-loop        none              gt          1  block-wise        7   \n",
      "2        np-apply        none              gt          1  block-wise        7   \n",
      "3        np-apply        none              gt          1    pop-wide        7   \n",
      "4        for-loop        dict              gp          1  block-wise        7   \n",
      "\n",
      "   loop_rep_per_run  mean_time_per_loop_sec  std_time_per_loop_sec  \n",
      "0              1000                0.000360               0.000055  \n",
      "1              1000                0.000311               0.000041  \n",
      "2              1000                0.000412               0.000027  \n",
      "3              1000                0.000123               0.000009  \n",
      "4              1000                0.000390               0.000021  \n"
     ],
     "output_type": "stream"
    },
    {
     "data": {
      "text/plain": "<Figure size 720x576 with 1 Axes>",
      "image/png": "[encoded data removed]"
     },
     "metadata": {
      "needs_background": "light"
     },
     "output_type": "display_data"
    }
   ],
   "source": [
    "import numpy as np\n",
    "import pandas as pd\n",
    "import matplotlib.pyplot as plt\n",
    "%matplotlib inline\n",
    "\n",
    "dftim = pd.DataFrame.from_records(times[1:], columns=times[0])\n",
    "print(dftim.head())\n",
    "\n",
    "dfgp = dftim.groupby(['decoding_method', 'lookup_kind', 'genotype_format', 'block_pop'])\n",
    "\n",
    "fig, ax = plt.subplots(figsize=(10,8))\n",
    "for key, grp in dfgp:\n",
    "    min_ser = grp['mean_time_per_loop_sec'] - grp['std_time_per_loop_sec']\n",
    "    max_ser = grp['mean_time_per_loop_sec'] + grp['std_time_per_loop_sec']\n",
    "    ax.plot(grp['nb_blocks'], grp['mean_time_per_loop_sec'], label=key)\n",
    "    ax.fill_between( grp['mean_time_per_loop_sec'], min_ser, max_ser, alpha=0.2)\n",
    "#plt.xscale(\"log\")\n",
    "ax.legend()\n",
    "plt.savefig('/home/camille/PoolImpHuman/pooling_timing.png')   \n"
   ],
   "metadata": {
    "collapsed": false,
    "pycharm": {
     "name": "#%%\n",
     "is_executing": false
    }
   }
  },
  {
   "cell_type": "code",
   "execution_count": 27,
   "outputs": [
    {
     "name": "stdout",
     "text": [
      "The snakeviz extension is already loaded. To reload it, use:\n",
      "  %reload_ext snakeviz\n",
      "Input genotypes:\n",
      "(32000, 2)\n",
      "[[1 1]\n",
      " [1 1]\n",
      " [1 1]\n",
      " ...\n",
      " [0 1]\n",
      " [1 1]\n",
      " [1 1]]\n"
     ],
     "output_type": "stream"
    }
   ],
   "source": [
    "from scripts.VCFPooling.poolSNPs.pooler import Design, Encoder\n",
    "from scripts.VCFPooling.poolSNPs.pydecoder import *\n",
    "import timeit\n",
    "from numba import jit, njit\n",
    "from numba.core import types\n",
    "from numba.typed import Dict\n",
    "\n",
    "%load_ext snakeviz\n",
    "\n",
    "\n",
    "np.random.seed(123)\n",
    "path_keys = '/home/camille/PoolImpHuman/data/main'\n",
    "\n",
    "nb_blocks = 2000\n",
    "var = np.random.binomial(1, 0.85, (16*nb_blocks, 2))\n",
    "\n",
    "print('Input genotypes:')\n",
    "print(var.shape)\n",
    "if nb_blocks < 5 or nb_blocks > 80:\n",
    "    print(var)\n",
    "\n",
    "# %prun -D heat_main.cprun 'heat_main.py'\n",
    "# %sx snakeviz 'heat_main.cprun' ## opens profile in web browser"
   ],
   "metadata": {
    "collapsed": false,
    "pycharm": {
     "name": "#%%\n",
     "is_executing": false
    }
   }
  },
  {
   "cell_type": "code",
   "execution_count": 28,
   "outputs": [
    {
     "name": "stdout",
     "text": [
      "Pools genotypes (encoded):\n",
      "(1, 16000, 2)\n",
      "[[[1 0]\n",
      "  [1 1]\n",
      "  [1 1]\n",
      "  ...\n",
      "  [1 0]\n",
      "  [1 0]\n",
      "  [1 0]]]\n"
     ],
     "output_type": "stream"
    }
   ],
   "source": [
    "## Encoding\n",
    "dse = Design(blocks=nb_blocks)\n",
    "dme = dse.matrix\n",
    "enc = Encoder(dme)\n",
    "varp = enc.encode(var.sum(axis=-1))\n",
    "\n",
    "print('Pools genotypes (encoded):')\n",
    "print(varp.shape)\n",
    "if nb_blocks < 5 or nb_blocks > 80:\n",
    "    print(varp)"
   ],
   "metadata": {
    "collapsed": false,
    "pycharm": {
     "name": "#%%\n",
     "is_executing": false
    }
   }
  },
  {
   "cell_type": "code",
   "execution_count": 4,
   "outputs": [],
   "source": [
    "lookup = load_lookup_dict(path_keys)\n",
    "keys, vals = get_lookup_arrays(path_keys)"
   ],
   "metadata": {
    "collapsed": false,
    "pycharm": {
     "name": "#%%\n",
     "is_executing": false
    }
   }
  },
  {
   "cell_type": "markdown",
   "source": [
    "### Decoding to GT: no lookup + block-wise + for-loop"
   ],
   "metadata": {
    "collapsed": false,
    "pycharm": {
     "name": "#%% md\n"
    }
   }
  },
  {
   "cell_type": "code",
   "execution_count": 7,
   "outputs": [
    {
     "name": "stdout",
     "text": [
      "Decoding 250 blocks...\n"
     ],
     "output_type": "stream"
    }
   ],
   "source": [
    "dsd = Design()\n",
    "dmd = dsd.matrix\n",
    "dec = DictBlockDecoder(dmd, lookup)\n",
    "\n",
    "y_shift = dmd.shape[0]  # 8\n",
    "\n",
    "print('Decoding {} blocks...'.format(nb_blocks))"
   ],
   "metadata": {
    "collapsed": false,
    "pycharm": {
     "name": "#%%\n",
     "is_executing": false
    }
   }
  },
  {
   "cell_type": "code",
   "execution_count": 8,
   "outputs": [
    {
     "name": "stdout",
     "text": [
      "79.6 ms ± 5.22 ms per loop (mean ± std. dev. of 7 runs, 10 loops each)\n"
     ],
     "output_type": "stream"
    }
   ],
   "source": [
    "%%timeit\n",
    "q1 = dict_blocks_decoder(nb_blocks, varp.sum(axis=-1), y_shift, lookup, 'gt')"
   ],
   "metadata": {
    "collapsed": false,
    "pycharm": {
     "name": "#%%\n",
     "is_executing": false
    }
   }
  },
  {
   "cell_type": "code",
   "execution_count": 24,
   "outputs": [
    {
     "name": "stdout",
     "text": [
      " "
     ],
     "output_type": "stream"
    }
   ],
   "source": [
    "%%prun -q\n",
    "q1 = dict_blocks_decoder(nb_blocks, varp.sum(axis=-1), y_shift, lookup, 'gt')"
   ],
   "metadata": {
    "collapsed": false,
    "pycharm": {
     "name": "#%%\n",
     "is_executing": false
    }
   }
  },
  {
   "cell_type": "code",
   "execution_count": 25,
   "outputs": [
    {
     "name": "stdout",
     "text": [
      "(120, 16, 2)\n",
      "[[[ 1  1]\n",
      "  [ 1  1]\n",
      "  [ 1  1]\n",
      "  ...\n",
      "  [ 1  1]\n",
      "  [ 1  1]\n",
      "  [ 1  1]]\n",
      "\n",
      " [[ 1  1]\n",
      "  [-1 -1]\n",
      "  [-1 -1]\n",
      "  ...\n",
      "  [-1 -1]\n",
      "  [-1 -1]\n",
      "  [-1 -1]]\n",
      "\n",
      " [[ 1  1]\n",
      "  [-1 -1]\n",
      "  [-1 -1]\n",
      "  ...\n",
      "  [-1 -1]\n",
      "  [-1 -1]\n",
      "  [-1 -1]]\n",
      "\n",
      " ...\n",
      "\n",
      " [[-1 -1]\n",
      "  [ 1  1]\n",
      "  [ 1  1]\n",
      "  ...\n",
      "  [ 1  1]\n",
      "  [ 1  1]\n",
      "  [-1 -1]]\n",
      "\n",
      " [[-1 -1]\n",
      "  [ 1  1]\n",
      "  [-1 -1]\n",
      "  ...\n",
      "  [ 1  1]\n",
      "  [-1 -1]\n",
      "  [-1 -1]]\n",
      "\n",
      " [[ 1  1]\n",
      "  [-1 -1]\n",
      "  [-1 -1]\n",
      "  ...\n",
      "  [-1 -1]\n",
      "  [-1 -1]\n",
      "  [-1 -1]]]\n"
     ],
     "output_type": "stream"
    }
   ],
   "source": [
    "q1 = dict_blocks_decoder(nb_blocks, varp.sum(axis=-1), y_shift, lookup, 'gt')\n",
    "print(q1.shape)\n",
    "if nb_blocks < 5 or nb_blocks > 80:\n",
    "    print(q1)"
   ],
   "metadata": {
    "collapsed": false,
    "pycharm": {
     "name": "#%%\n",
     "is_executing": false
    }
   }
  },
  {
   "cell_type": "markdown",
   "source": [
    "### Decoding to GT: no lookup + block-wise + for-loop"
   ],
   "metadata": {
    "collapsed": false
   }
  },
  {
   "cell_type": "code",
   "execution_count": 26,
   "outputs": [
    {
     "name": "stdout",
     "text": [
      "Decoding 120 blocks...\n"
     ],
     "output_type": "stream"
    }
   ],
   "source": [
    "dsd = Design()\n",
    "dmd = dsd.matrix\n",
    "dec = SingleBlockDecoder(dmd, keys, vals)\n",
    "\n",
    "y_shift = dmd.shape[0]  # 8\n",
    "\n",
    "print('Decoding {} blocks...'.format(nb_blocks))"
   ],
   "metadata": {
    "collapsed": false,
    "pycharm": {
     "name": "#%%\n",
     "is_executing": false
    }
   }
  },
  {
   "cell_type": "code",
   "execution_count": 27,
   "outputs": [
    {
     "name": "stdout",
     "text": [
      "34.1 ms ± 3.24 ms per loop (mean ± std. dev. of 7 runs, 10 loops each)\n"
     ],
     "output_type": "stream"
    }
   ],
   "source": [
    "%%timeit\n",
    "q2 = blocks_decoder(nb_blocks, varp.sum(axis=-1), y_shift, keys, vals, 'gt')"
   ],
   "metadata": {
    "collapsed": false,
    "pycharm": {
     "name": "#%%\n",
     "is_executing": false
    }
   }
  },
  {
   "cell_type": "code",
   "execution_count": 28,
   "outputs": [
    {
     "name": "stdout",
     "text": [
      "(120, 16, 2)\n",
      "[[[ 1  1]\n",
      "  [ 1  1]\n",
      "  [ 1  1]\n",
      "  ...\n",
      "  [ 1  1]\n",
      "  [ 1  1]\n",
      "  [ 1  1]]\n",
      "\n",
      " [[ 1  1]\n",
      "  [-1 -1]\n",
      "  [-1 -1]\n",
      "  ...\n",
      "  [-1 -1]\n",
      "  [-1 -1]\n",
      "  [-1 -1]]\n",
      "\n",
      " [[ 1  1]\n",
      "  [-1 -1]\n",
      "  [-1 -1]\n",
      "  ...\n",
      "  [-1 -1]\n",
      "  [-1 -1]\n",
      "  [-1 -1]]\n",
      "\n",
      " ...\n",
      "\n",
      " [[-1 -1]\n",
      "  [ 1  1]\n",
      "  [ 1  1]\n",
      "  ...\n",
      "  [ 1  1]\n",
      "  [ 1  1]\n",
      "  [-1 -1]]\n",
      "\n",
      " [[-1 -1]\n",
      "  [ 1  1]\n",
      "  [-1 -1]\n",
      "  ...\n",
      "  [ 1  1]\n",
      "  [-1 -1]\n",
      "  [-1 -1]]\n",
      "\n",
      " [[ 1  1]\n",
      "  [-1 -1]\n",
      "  [-1 -1]\n",
      "  ...\n",
      "  [-1 -1]\n",
      "  [-1 -1]\n",
      "  [-1 -1]]]\n"
     ],
     "output_type": "stream"
    }
   ],
   "source": [
    "q2 = blocks_decoder(nb_blocks, varp.sum(axis=-1), y_shift, keys, vals, 'gt')\n",
    "print(q2.shape)\n",
    "if nb_blocks < 5 or nb_blocks > 80:\n",
    "    print(q2)"
   ],
   "metadata": {
    "collapsed": false,
    "pycharm": {
     "name": "#%%\n",
     "is_executing": false
    }
   }
  },
  {
   "cell_type": "markdown",
   "source": [
    "### Decoding to GT: noe lookup + block-wise + NumPy style"
   ],
   "metadata": {
    "collapsed": false
   }
  },
  {
   "cell_type": "code",
   "execution_count": 29,
   "outputs": [
    {
     "name": "stdout",
     "text": [
      "Decoding 120 blocks...\n"
     ],
     "output_type": "stream"
    }
   ],
   "source": [
    "dsd = Design()\n",
    "dmd = dsd.matrix\n",
    "dec = SingleBlockDecoder(dmd, keys, vals)\n",
    "\n",
    "y_shift = dmd.shape[0]  # 8\n",
    "vect_decoder = lambda x: single_block_decoder(x, keys, vals, 'gt')\n",
    "v2 = varp.sum(axis=-1).reshape((nb_blocks, 8))\n",
    "print('Decoding {} blocks...'.format(nb_blocks))"
   ],
   "metadata": {
    "collapsed": false,
    "pycharm": {
     "name": "#%%\n",
     "is_executing": false
    }
   }
  },
  {
   "cell_type": "code",
   "execution_count": 30,
   "outputs": [
    {
     "name": "stdout",
     "text": [
      "39.2 ms ± 523 µs per loop (mean ± std. dev. of 7 runs, 10 loops each)\n"
     ],
     "output_type": "stream"
    }
   ],
   "source": [
    "%%timeit\n",
    "q3 = np.apply_along_axis(vect_decoder, axis=-1, arr=v2)"
   ],
   "metadata": {
    "collapsed": false,
    "pycharm": {
     "name": "#%%\n",
     "is_executing": false
    }
   }
  },
  {
   "cell_type": "code",
   "execution_count": 31,
   "outputs": [
    {
     "name": "stdout",
     "text": [
      "(120, 1, 16, 2)\n",
      "[[[[ 1  1]\n",
      "   [ 1  1]\n",
      "   [ 1  1]\n",
      "   ...\n",
      "   [ 1  1]\n",
      "   [ 1  1]\n",
      "   [ 1  1]]]\n",
      "\n",
      "\n",
      " [[[ 1  1]\n",
      "   [-1 -1]\n",
      "   [-1 -1]\n",
      "   ...\n",
      "   [-1 -1]\n",
      "   [-1 -1]\n",
      "   [-1 -1]]]\n",
      "\n",
      "\n",
      " [[[ 1  1]\n",
      "   [-1 -1]\n",
      "   [-1 -1]\n",
      "   ...\n",
      "   [-1 -1]\n",
      "   [-1 -1]\n",
      "   [-1 -1]]]\n",
      "\n",
      "\n",
      " ...\n",
      "\n",
      "\n",
      " [[[-1 -1]\n",
      "   [ 1  1]\n",
      "   [ 1  1]\n",
      "   ...\n",
      "   [ 1  1]\n",
      "   [ 1  1]\n",
      "   [-1 -1]]]\n",
      "\n",
      "\n",
      " [[[-1 -1]\n",
      "   [ 1  1]\n",
      "   [-1 -1]\n",
      "   ...\n",
      "   [ 1  1]\n",
      "   [-1 -1]\n",
      "   [-1 -1]]]\n",
      "\n",
      "\n",
      " [[[ 1  1]\n",
      "   [-1 -1]\n",
      "   [-1 -1]\n",
      "   ...\n",
      "   [-1 -1]\n",
      "   [-1 -1]\n",
      "   [-1 -1]]]]\n"
     ],
     "output_type": "stream"
    }
   ],
   "source": [
    "q3 = np.apply_along_axis(vect_decoder, axis=-1, arr=v2)\n",
    "print(q3.shape)\n",
    "if nb_blocks < 5 or nb_blocks > 80:\n",
    "    print(q3)"
   ],
   "metadata": {
    "collapsed": false,
    "pycharm": {
     "name": "#%%\n",
     "is_executing": false
    }
   }
  },
  {
   "cell_type": "markdown",
   "source": [
    "### Decoding to GT: no lookup + population-wide + NumPy style"
   ],
   "metadata": {
    "collapsed": false
   }
  },
  {
   "cell_type": "code",
   "execution_count": 32,
   "outputs": [
    {
     "name": "stdout",
     "text": [
      "Decoding 120 blocks...\n"
     ],
     "output_type": "stream"
    }
   ],
   "source": [
    "dsd = Design(blocks=nb_blocks)\n",
    "dmd = dsd.matrix\n",
    "# dec = Decoder(dmd, keys, vals)\n",
    "# dict trial\n",
    "dec = Decoder(dmd, lookup)\n",
    "\n",
    "print('Decoding {} blocks...'.format(nb_blocks))"
   ],
   "metadata": {
    "collapsed": false,
    "pycharm": {
     "name": "#%%\n",
     "is_executing": false
    }
   }
  },
  {
   "cell_type": "code",
   "execution_count": 33,
   "outputs": [
    {
     "name": "stdout",
     "text": [
      "7.99 ms ± 635 µs per loop (mean ± std. dev. of 7 runs, 100 loops each)\n"
     ],
     "output_type": "stream"
    }
   ],
   "source": [
    "%%timeit\n",
    "q4 = dec.decode_genotypes_gt(varp.sum(axis=-1))"
   ],
   "metadata": {
    "collapsed": false,
    "pycharm": {
     "name": "#%%\n",
     "is_executing": false
    }
   }
  },
  {
   "cell_type": "code",
   "execution_count": 34,
   "outputs": [
    {
     "name": "stdout",
     "text": [
      "(1920, 2)\n",
      "[[ 1  1]\n",
      " [ 1  1]\n",
      " [ 1  1]\n",
      " ...\n",
      " [-1 -1]\n",
      " [-1 -1]\n",
      " [-1 -1]]\n"
     ],
     "output_type": "stream"
    }
   ],
   "source": [
    "q4 = dec.decode_genotypes_gt(varp.sum(axis=-1))\n",
    "print(q4.shape)\n",
    "if nb_blocks < 5 or nb_blocks > 80:\n",
    "    print(q4)"
   ],
   "metadata": {
    "collapsed": false,
    "pycharm": {
     "name": "#%%\n",
     "is_executing": false
    }
   }
  },
  {
   "cell_type": "code",
   "execution_count": 35,
   "outputs": [
    {
     "name": "stdout",
     "text": [
      "Outputs identity test\n",
      "q1 = q2 = q3 = q4 ? -->  True\n"
     ],
     "output_type": "stream"
    }
   ],
   "source": [
    "print('Outputs identity test')\n",
    "print('q1 = q2 = q3 = q4 ? --> ', q1.all() == q2.all() and q2.all() == q3.all() and q3.all() == q4.all())"
   ],
   "metadata": {
    "collapsed": false,
    "pycharm": {
     "name": "#%%\n",
     "is_executing": false
    }
   }
  },
  {
   "cell_type": "markdown",
   "source": [
    "### Decoding to GP: dictionary lookup + block-wise + for-loop"
   ],
   "metadata": {
    "collapsed": false
   }
  },
  {
   "cell_type": "code",
   "execution_count": 29,
   "outputs": [
    {
     "name": "stdout",
     "text": [
      "Decoding 2000 blocks...\n"
     ],
     "output_type": "stream"
    }
   ],
   "source": [
    "dsd = Design()\n",
    "dmd = dsd.matrix\n",
    "dec = DictBlockDecoder(dmd, lookup)\n",
    "\n",
    "y_shift = dmd.shape[0]  # 8\n",
    "\n",
    "print('Decoding {} blocks...'.format(nb_blocks))"
   ],
   "metadata": {
    "collapsed": false,
    "pycharm": {
     "name": "#%%\n",
     "is_executing": false
    }
   }
  },
  {
   "cell_type": "code",
   "execution_count": 30,
   "outputs": [
    {
     "name": "stdout",
     "text": [
      "661 ms ± 20.4 ms per loop (mean ± std. dev. of 7 runs, 1 loop each)\n"
     ],
     "output_type": "stream"
    }
   ],
   "source": [
    "%%timeit\n",
    "q5 = dict_blocks_decoder(nb_blocks, varp.sum(axis=-1), y_shift, lookup, 'gp')"
   ],
   "metadata": {
    "collapsed": false,
    "pycharm": {
     "name": "#%%\n",
     "is_executing": false
    }
   }
  },
  {
   "cell_type": "code",
   "execution_count": 38,
   "outputs": [
    {
     "name": "stdout",
     "text": [
      " \n",
      "*** Profile stats marshalled to file 'q5.cprun'. \n"
     ],
     "output_type": "stream"
    }
   ],
   "source": [
    "%%prun -s cumulative -s time -D q5.cprun -q\n",
    "q5 = dict_blocks_decoder(nb_blocks, varp.sum(axis=-1), y_shift, lookup, 'gp')"
   ],
   "metadata": {
    "collapsed": false,
    "pycharm": {
     "name": "#%%\n",
     "is_executing": false
    }
   }
  },
  {
   "cell_type": "code",
   "execution_count": 39,
   "outputs": [
    {
     "name": "stdout",
     "text": [
      "^C\n"
     ],
     "output_type": "stream"
    },
    {
     "data": {
      "text/plain": "[]"
     },
     "metadata": {},
     "output_type": "execute_result",
     "execution_count": 39
    }
   ],
   "source": [
    "%sx snakeviz 'q5.cprun'"
   ],
   "metadata": {
    "collapsed": false,
    "pycharm": {
     "name": "#%%\n",
     "is_executing": false
    }
   }
  },
  {
   "cell_type": "code",
   "execution_count": 40,
   "outputs": [
    {
     "name": "stdout",
     "text": [
      "(120, 16, 3)\n",
      "[[[0.       0.       1.      ]\n",
      "  [0.       0.       1.      ]\n",
      "  [0.       0.       1.      ]\n",
      "  ...\n",
      "  [0.       0.       1.      ]\n",
      "  [0.       0.       1.      ]\n",
      "  [0.       0.       1.      ]]\n",
      "\n",
      " [[0.       0.       1.      ]\n",
      "  [0.35508  0.35508  0.28984 ]\n",
      "  [0.35508  0.35508  0.28984 ]\n",
      "  ...\n",
      "  [0.35508  0.35508  0.28984 ]\n",
      "  [0.35508  0.35508  0.28984 ]\n",
      "  [0.35508  0.35508  0.28984 ]]\n",
      "\n",
      " [[0.       0.       1.      ]\n",
      "  [0.35508  0.35508  0.28984 ]\n",
      "  [0.35508  0.35508  0.28984 ]\n",
      "  ...\n",
      "  [0.35508  0.35508  0.28984 ]\n",
      "  [0.35508  0.35508  0.28984 ]\n",
      "  [0.35508  0.35508  0.28984 ]]\n",
      "\n",
      " ...\n",
      "\n",
      " [[0.384287 0.384287 0.231426]\n",
      "  [0.       0.       1.      ]\n",
      "  [0.       0.       1.      ]\n",
      "  ...\n",
      "  [0.       0.       1.      ]\n",
      "  [0.       0.       1.      ]\n",
      "  [0.384287 0.384287 0.231426]]\n",
      "\n",
      " [[0.35508  0.35508  0.28984 ]\n",
      "  [0.       0.       1.      ]\n",
      "  [0.35508  0.35508  0.28984 ]\n",
      "  ...\n",
      "  [0.       0.       1.      ]\n",
      "  [0.35508  0.35508  0.28984 ]\n",
      "  [0.35508  0.35508  0.28984 ]]\n",
      "\n",
      " [[0.       0.       1.      ]\n",
      "  [0.340933 0.352462 0.306606]\n",
      "  [0.340933 0.352462 0.306606]\n",
      "  ...\n",
      "  [0.340933 0.352462 0.306606]\n",
      "  [0.340933 0.352462 0.306606]\n",
      "  [0.340933 0.352462 0.306606]]]\n"
     ],
     "output_type": "stream"
    }
   ],
   "source": [
    "q5 = dict_blocks_decoder(nb_blocks, varp.sum(axis=-1), y_shift, lookup, 'gp')\n",
    "print(q5.shape)\n",
    "if nb_blocks < 5 or nb_blocks > 80:\n",
    "    print(q5)"
   ],
   "metadata": {
    "collapsed": false,
    "pycharm": {
     "name": "#%%\n",
     "is_executing": false
    }
   }
  },
  {
   "cell_type": "markdown",
   "source": [
    "### Decoding to GP: array-like lookup + block-wise + for-loop"
   ],
   "metadata": {
    "collapsed": false
   }
  },
  {
   "cell_type": "code",
   "execution_count": 41,
   "outputs": [
    {
     "name": "stdout",
     "text": [
      "Decoding 120 blocks...\n"
     ],
     "output_type": "stream"
    }
   ],
   "source": [
    "dsd = Design()\n",
    "dmd = dsd.matrix\n",
    "dec = SingleBlockDecoder(dmd, keys, vals)\n",
    "\n",
    "y_shift = dmd.shape[0]  # 8\n",
    "\n",
    "print('Decoding {} blocks...'.format(nb_blocks))"
   ],
   "metadata": {
    "collapsed": false,
    "pycharm": {
     "name": "#%%\n",
     "is_executing": false
    }
   }
  },
  {
   "cell_type": "code",
   "execution_count": 42,
   "outputs": [
    {
     "name": "stdout",
     "text": [
      "70.8 ms ± 5.62 ms per loop (mean ± std. dev. of 7 runs, 1 loop each)\n"
     ],
     "output_type": "stream"
    }
   ],
   "source": [
    "%%timeit\n",
    "q6 = blocks_decoder(nb_blocks, varp.sum(axis=-1), y_shift, keys, vals, 'gp')"
   ],
   "metadata": {
    "collapsed": false,
    "pycharm": {
     "name": "#%%\n",
     "is_executing": false
    }
   }
  },
  {
   "cell_type": "code",
   "execution_count": 43,
   "outputs": [
    {
     "name": "stdout",
     "text": [
      " \n",
      "*** Profile stats marshalled to file 'q6.cprun'. \n"
     ],
     "output_type": "stream"
    }
   ],
   "source": [
    "%%prun -s cumulative -s time -D q6.cprun -q\n",
    "q6 = blocks_decoder(nb_blocks, varp.sum(axis=-1), y_shift, keys, vals, 'gp')"
   ],
   "metadata": {
    "collapsed": false,
    "pycharm": {
     "name": "#%%\n",
     "is_executing": false
    }
   }
  },
  {
   "cell_type": "code",
   "execution_count": 44,
   "outputs": [
    {
     "name": "stdout",
     "text": [
      "^C\n"
     ],
     "output_type": "stream"
    },
    {
     "data": {
      "text/plain": "[]"
     },
     "metadata": {},
     "output_type": "execute_result",
     "execution_count": 44
    }
   ],
   "source": [
    "%sx snakeviz 'q6.cprun'"
   ],
   "metadata": {
    "collapsed": false,
    "pycharm": {
     "name": "#%%\n",
     "is_executing": false
    }
   }
  },
  {
   "cell_type": "code",
   "execution_count": 45,
   "outputs": [
    {
     "name": "stdout",
     "text": [
      "(120, 16, 3)\n",
      "[[[0.       0.       1.      ]\n",
      "  [0.       0.       1.      ]\n",
      "  [0.       0.       1.      ]\n",
      "  ...\n",
      "  [0.       0.       1.      ]\n",
      "  [0.       0.       1.      ]\n",
      "  [0.       0.       1.      ]]\n",
      "\n",
      " [[0.       0.       1.      ]\n",
      "  [0.35508  0.35508  0.28984 ]\n",
      "  [0.35508  0.35508  0.28984 ]\n",
      "  ...\n",
      "  [0.35508  0.35508  0.28984 ]\n",
      "  [0.35508  0.35508  0.28984 ]\n",
      "  [0.35508  0.35508  0.28984 ]]\n",
      "\n",
      " [[0.       0.       1.      ]\n",
      "  [0.35508  0.35508  0.28984 ]\n",
      "  [0.35508  0.35508  0.28984 ]\n",
      "  ...\n",
      "  [0.35508  0.35508  0.28984 ]\n",
      "  [0.35508  0.35508  0.28984 ]\n",
      "  [0.35508  0.35508  0.28984 ]]\n",
      "\n",
      " ...\n",
      "\n",
      " [[0.384287 0.384287 0.231426]\n",
      "  [0.       0.       1.      ]\n",
      "  [0.       0.       1.      ]\n",
      "  ...\n",
      "  [0.       0.       1.      ]\n",
      "  [0.       0.       1.      ]\n",
      "  [0.384287 0.384287 0.231426]]\n",
      "\n",
      " [[0.35508  0.35508  0.28984 ]\n",
      "  [0.       0.       1.      ]\n",
      "  [0.35508  0.35508  0.28984 ]\n",
      "  ...\n",
      "  [0.       0.       1.      ]\n",
      "  [0.35508  0.35508  0.28984 ]\n",
      "  [0.35508  0.35508  0.28984 ]]\n",
      "\n",
      " [[0.       0.       1.      ]\n",
      "  [0.340933 0.352462 0.306606]\n",
      "  [0.340933 0.352462 0.306606]\n",
      "  ...\n",
      "  [0.340933 0.352462 0.306606]\n",
      "  [0.340933 0.352462 0.306606]\n",
      "  [0.340933 0.352462 0.306606]]]\n"
     ],
     "output_type": "stream"
    }
   ],
   "source": [
    "q6 = blocks_decoder(nb_blocks, varp.sum(axis=-1), y_shift, keys, vals, 'gp')\n",
    "print(q6.shape)\n",
    "if nb_blocks < 5 or nb_blocks > 80:\n",
    "    print(q6)"
   ],
   "metadata": {
    "collapsed": false,
    "pycharm": {
     "name": "#%%\n",
     "is_executing": false
    }
   }
  },
  {
   "cell_type": "markdown",
   "source": [
    "### Decoding to GP: array-like lookup + block-wise + NumPy style"
   ],
   "metadata": {
    "collapsed": false
   }
  },
  {
   "cell_type": "code",
   "execution_count": 46,
   "outputs": [
    {
     "name": "stdout",
     "text": [
      "Decoding 120 blocks...\n"
     ],
     "output_type": "stream"
    }
   ],
   "source": [
    "dsd = Design()\n",
    "dmd = dsd.matrix\n",
    "dec = SingleBlockDecoder(dmd, keys, vals)\n",
    "\n",
    "y_shift = dmd.shape[0]  # 8\n",
    "vect_decoder = lambda x: single_block_decoder(x, keys, vals, 'gp')\n",
    "v2 = varp.sum(axis=-1).reshape((nb_blocks, 8))\n",
    "print('Decoding {} blocks...'.format(nb_blocks))"
   ],
   "metadata": {
    "collapsed": false,
    "pycharm": {
     "name": "#%%\n",
     "is_executing": false
    }
   }
  },
  {
   "cell_type": "code",
   "execution_count": 47,
   "outputs": [
    {
     "name": "stdout",
     "text": [
      "79.4 ms ± 6.44 ms per loop (mean ± std. dev. of 7 runs, 10 loops each)\n"
     ],
     "output_type": "stream"
    }
   ],
   "source": [
    "%%timeit\n",
    "q7 = np.apply_along_axis(vect_decoder, axis=-1, arr=v2)"
   ],
   "metadata": {
    "collapsed": false,
    "pycharm": {
     "name": "#%%\n",
     "is_executing": false
    }
   }
  },
  {
   "cell_type": "code",
   "execution_count": 48,
   "outputs": [
    {
     "name": "stdout",
     "text": [
      " \n",
      "*** Profile stats marshalled to file 'q7.cprun'. \n"
     ],
     "output_type": "stream"
    }
   ],
   "source": [
    "%%prun -s cumulative -s time -D q7.cprun -q\n",
    "q7 = np.apply_along_axis(vect_decoder, axis=-1, arr=v2)"
   ],
   "metadata": {
    "collapsed": false,
    "pycharm": {
     "name": "#%%\n",
     "is_executing": false
    }
   }
  },
  {
   "cell_type": "code",
   "execution_count": 49,
   "outputs": [
    {
     "name": "stdout",
     "text": [
      "^C\n"
     ],
     "output_type": "stream"
    },
    {
     "data": {
      "text/plain": "[]"
     },
     "metadata": {},
     "output_type": "execute_result",
     "execution_count": 49
    }
   ],
   "source": [
    "%sx snakeviz 'q7.cprun'"
   ],
   "metadata": {
    "collapsed": false,
    "pycharm": {
     "name": "#%%\n",
     "is_executing": false
    }
   }
  },
  {
   "cell_type": "code",
   "execution_count": 50,
   "outputs": [
    {
     "name": "stdout",
     "text": [
      "(120, 16, 3)\n",
      "[[[0.       0.       1.      ]\n",
      "  [0.       0.       1.      ]\n",
      "  [0.       0.       1.      ]\n",
      "  ...\n",
      "  [0.       0.       1.      ]\n",
      "  [0.       0.       1.      ]\n",
      "  [0.       0.       1.      ]]\n",
      "\n",
      " [[0.       0.       1.      ]\n",
      "  [0.35508  0.35508  0.28984 ]\n",
      "  [0.35508  0.35508  0.28984 ]\n",
      "  ...\n",
      "  [0.35508  0.35508  0.28984 ]\n",
      "  [0.35508  0.35508  0.28984 ]\n",
      "  [0.35508  0.35508  0.28984 ]]\n",
      "\n",
      " [[0.       0.       1.      ]\n",
      "  [0.35508  0.35508  0.28984 ]\n",
      "  [0.35508  0.35508  0.28984 ]\n",
      "  ...\n",
      "  [0.35508  0.35508  0.28984 ]\n",
      "  [0.35508  0.35508  0.28984 ]\n",
      "  [0.35508  0.35508  0.28984 ]]\n",
      "\n",
      " ...\n",
      "\n",
      " [[0.384287 0.384287 0.231426]\n",
      "  [0.       0.       1.      ]\n",
      "  [0.       0.       1.      ]\n",
      "  ...\n",
      "  [0.       0.       1.      ]\n",
      "  [0.       0.       1.      ]\n",
      "  [0.384287 0.384287 0.231426]]\n",
      "\n",
      " [[0.35508  0.35508  0.28984 ]\n",
      "  [0.       0.       1.      ]\n",
      "  [0.35508  0.35508  0.28984 ]\n",
      "  ...\n",
      "  [0.       0.       1.      ]\n",
      "  [0.35508  0.35508  0.28984 ]\n",
      "  [0.35508  0.35508  0.28984 ]]\n",
      "\n",
      " [[0.       0.       1.      ]\n",
      "  [0.340933 0.352462 0.306606]\n",
      "  [0.340933 0.352462 0.306606]\n",
      "  ...\n",
      "  [0.340933 0.352462 0.306606]\n",
      "  [0.340933 0.352462 0.306606]\n",
      "  [0.340933 0.352462 0.306606]]]\n"
     ],
     "output_type": "stream"
    }
   ],
   "source": [
    "q7 = np.apply_along_axis(vect_decoder, axis=-1, arr=v2)\n",
    "print(q7.shape)\n",
    "if nb_blocks < 5 or nb_blocks > 80:\n",
    "    print(q7)\n",
    "    "
   ],
   "metadata": {
    "collapsed": false,
    "pycharm": {
     "name": "#%%\n",
     "is_executing": false
    }
   }
  },
  {
   "cell_type": "markdown",
   "source": [
    "### Decoding to GP: dictinary lookup + population-wide + Numba-NumPy style"
   ],
   "metadata": {
    "collapsed": false
   }
  },
  {
   "cell_type": "code",
   "execution_count": 31,
   "outputs": [
    {
     "name": "stdout",
     "text": [
      "Decoding 2000 blocks...\n"
     ],
     "output_type": "stream"
    }
   ],
   "source": [
    "dsd = Design(blocks=nb_blocks)\n",
    "dmd = dsd.matrix\n",
    "# dec = Decoder(dmd, keys, vals)\n",
    "# dict trial\n",
    "dec = Decoder(dmd, lookup)\n",
    "\n",
    "print('Decoding {} blocks...'.format(nb_blocks))"
   ],
   "metadata": {
    "collapsed": false,
    "pycharm": {
     "name": "#%%\n",
     "is_executing": false
    }
   }
  },
  {
   "cell_type": "code",
   "execution_count": 32,
   "outputs": [
    {
     "name": "stdout",
     "text": [
      "18.7 s ± 183 ms per loop (mean ± std. dev. of 7 runs, 1 loop each)\n"
     ],
     "output_type": "stream"
    }
   ],
   "source": [
    "%%timeit\n",
    "q8 = dec.decode_genotypes_gp(varp.sum(axis=-1))"
   ],
   "metadata": {
    "collapsed": false,
    "pycharm": {
     "name": "#%%\n",
     "is_executing": false
    }
   }
  },
  {
   "cell_type": "code",
   "execution_count": 53,
   "outputs": [
    {
     "name": "stdout",
     "text": [
      " \n",
      "*** Profile stats marshalled to file 'q8.cprun'. \n"
     ],
     "output_type": "stream"
    }
   ],
   "source": [
    "%%prun -s cumulative -s time -D q8.cprun -q\n",
    "q8 = dec.decode_genotypes_gp(varp.sum(axis=-1))"
   ],
   "metadata": {
    "collapsed": false,
    "pycharm": {
     "name": "#%%\n",
     "is_executing": false
    }
   }
  },
  {
   "cell_type": "code",
   "execution_count": 54,
   "outputs": [
    {
     "name": "stdout",
     "text": [
      "^C\n"
     ],
     "output_type": "stream"
    },
    {
     "data": {
      "text/plain": "[]"
     },
     "metadata": {},
     "output_type": "execute_result",
     "execution_count": 54
    }
   ],
   "source": [
    "# %sx snakeviz 'q8.cprun'"
   ],
   "metadata": {
    "collapsed": false,
    "pycharm": {
     "name": "#%%\n",
     "is_executing": false
    }
   }
  },
  {
   "cell_type": "code",
   "execution_count": 55,
   "outputs": [
    {
     "name": "stdout",
     "text": [
      "(1920, 3)\n",
      "[[0.       0.       1.      ]\n",
      " [0.       0.       1.      ]\n",
      " [0.       0.       1.      ]\n",
      " ...\n",
      " [0.340933 0.352462 0.306606]\n",
      " [0.340933 0.352462 0.306606]\n",
      " [0.340933 0.352462 0.306606]]\n"
     ],
     "output_type": "stream"
    }
   ],
   "source": [
    "q8 = dec.decode_genotypes_gp(varp.sum(axis=-1))\n",
    "print(q8.shape)\n",
    "if nb_blocks < 5 or nb_blocks > 80:\n",
    "    print(q8)\n",
    "    "
   ],
   "metadata": {
    "collapsed": false,
    "pycharm": {
     "name": "#%%\n",
     "is_executing": false
    }
   }
  }
 ],
 "metadata": {
  "kernelspec": {
   "display_name": "Python 3",
   "language": "python",
   "name": "python3"
  },
  "language_info": {
   "codemirror_mode": {
    "name": "ipython",
    "version": 2
   },
   "file_extension": ".py",
   "mimetype": "text/x-python",
   "name": "python",
   "nbconvert_exporter": "python",
   "pygments_lexer": "ipython2",
   "version": "2.7.6"
  },
  "pycharm": {
   "stem_cell": {
    "cell_type": "raw",
    "source": [],
    "metadata": {
     "collapsed": false
    }
   }
  }
 },
 "nbformat": 4,
 "nbformat_minor": 0
}