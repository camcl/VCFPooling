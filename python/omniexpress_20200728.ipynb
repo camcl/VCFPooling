{
 "cells": [
  {
   "cell_type": "markdown",
   "metadata": {
    "collapsed": true,
    "pycharm": {
     "name": "#%% md\n"
    }
   },
   "source": [
    "# Pooling-imputation performance from real bead chip data with high density markers\n",
    "\n",
    "Performs imputation on data from the chromosome 20 of 1000GP on not pooled data.\n",
    "The 1KGP data spans from POS 60,343 to POS 62,965,354 i.e. a size of ca. 63Mb.\n",
    "\n",
    "The target and the reference markers from the intersection between the real bead chip Illumina Infinium OmniExpress - 24 Kit\n",
    " and the chr20 1000GP data. These are ca. 17,791 markers which corresponds to a density of approx. 1 SNP per 3,35 kb \n",
    " (bibliography Beagle07 mentions 1 SNP per 3 kb for low-density coverage).\n",
    " \n",
    "The samples are assigned to the reference panel or the study population in the same layout as imputing pooled samples\n",
    "  on high-density genotyped markers (see 20200709).\n",
    "\n",
    "Apply pooling simulation on this data, and imputation (run parallel execution): \n",
    "**pool and impute bead chip markers only, compute metrics and plot statistics** "
   ]
  },
  {
   "cell_type": "code",
   "execution_count": 1,
   "outputs": [],
   "source": [
    "import os \n",
    "\n",
    "try:\n",
    "    os.mkdir('/home/camille/PoolImpHuman/data/20200728')\n",
    "except FileExistsError:\n",
    "    pass\n",
    "os.chdir('/home/camille/PoolImpHuman/data/20200728')"
   ],
   "metadata": {
    "collapsed": false,
    "pycharm": {
     "name": "#%%\n",
     "is_executing": false
    }
   }
  },
  {
   "cell_type": "code",
   "execution_count": 2,
   "outputs": [
    {
     "name": "stdout",
     "text": [
      "Configure directory\n"
     ],
     "output_type": "stream"
    },
    {
     "data": {
      "text/plain": "[\"ln: failed to create symbolic link './reference.panel': File exists\"]"
     },
     "metadata": {},
     "output_type": "execute_result",
     "execution_count": 2
    }
   ],
   "source": [
    "print('Configure directory')\n",
    "%sx ln -s ~/1000Genomes/src/VCFPooling/python/omniexpress24chr20.ipynb ./\n",
    "%sx ln -s ~/1000Genomes/src/VCFPooling/python/omniexpress_20200728.ipynb ./\n",
    "%sx ln -s ../omniexpress24/InfiniumOmniExpress-chr20-CHROM-POS.txt ./\n",
    "%sx ln -s ~/1000Genomes/src/VCFPooling/python/parallel_pooling_20200624.py ./\n",
    "\n",
    "# Use same target population as with imputation from pooled data\n",
    "%sx ln -s ../20200709/study.population\n",
    "%sx ln -s ../20200709/reference.panel"
   ],
   "metadata": {
    "collapsed": false,
    "pycharm": {
     "name": "#%%\n",
     "is_executing": false
    }
   }
  },
  {
   "cell_type": "markdown",
   "source": [
    "### Prepare experimental VCF files (low-density coverage)"
   ],
   "metadata": {
    "collapsed": false,
    "pycharm": {
     "name": "#%% md\n"
    }
   }
  },
  {
   "cell_type": "code",
   "execution_count": 3,
   "outputs": [
    {
     "name": "stdout",
     "text": [
      "Create file\n"
     ],
     "output_type": "stream"
    },
    {
     "data": {
      "text/plain": "[]"
     },
     "metadata": {},
     "output_type": "execute_result",
     "execution_count": 3
    }
   ],
   "source": [
    "print('Create file')\n",
    "%sx bcftools view -Oz -o ALL.chr20.snps.gt.vcf.gz -R InfiniumOmniExpress-chr20-CHROM-POS.txt ../main/ALL.chr20.snps.gt.vcf.gz"
   ],
   "metadata": {
    "collapsed": false,
    "pycharm": {
     "name": "#%%\n",
     "is_executing": false
    }
   }
  },
  {
   "cell_type": "code",
   "execution_count": 4,
   "outputs": [
    {
     "name": "stdout",
     "text": [
      "Index file\n"
     ],
     "output_type": "stream"
    },
    {
     "data": {
      "text/plain": "[]"
     },
     "metadata": {},
     "output_type": "execute_result",
     "execution_count": 4
    }
   ],
   "source": [
    "print('Index file')\n",
    "%sx bcftools index ALL.chr20.snps.gt.vcf.gz"
   ],
   "metadata": {
    "collapsed": false,
    "pycharm": {
     "name": "#%%\n",
     "is_executing": false
    }
   }
  },
  {
   "cell_type": "code",
   "execution_count": 5,
   "outputs": [
    {
     "name": "stdout",
     "text": [
      "Check number of samples\n"
     ],
     "output_type": "stream"
    },
    {
     "data": {
      "text/plain": "['2504']"
     },
     "metadata": {},
     "output_type": "execute_result",
     "execution_count": 5
    }
   ],
   "source": [
    "print('Check number of samples')\n",
    "%sx bcftools query -l ALL.chr20.snps.gt.vcf.gz | wc -l"
   ],
   "metadata": {
    "collapsed": false,
    "pycharm": {
     "name": "#%%\n",
     "is_executing": false
    }
   }
  },
  {
   "cell_type": "code",
   "execution_count": 6,
   "outputs": [
    {
     "name": "stdout",
     "text": [
      "Check number of intersected markers\n"
     ],
     "output_type": "stream"
    },
    {
     "data": {
      "text/plain": "['17791']"
     },
     "metadata": {},
     "output_type": "execute_result",
     "execution_count": 6
    }
   ],
   "source": [
    "print('Check number of intersected markers')\n",
    "%sx bcftools view -H ALL.chr20.snps.gt.vcf.gz | wc -l"
   ],
   "metadata": {
    "collapsed": false,
    "pycharm": {
     "name": "#%%\n",
     "is_executing": false
    }
   }
  },
  {
   "cell_type": "code",
   "execution_count": 7,
   "outputs": [
    {
     "name": "stdout",
     "text": [
      "Create REF and IMP populations\n"
     ],
     "output_type": "stream"
    },
    {
     "data": {
      "text/plain": "[]"
     },
     "metadata": {},
     "output_type": "execute_result",
     "execution_count": 7
    }
   ],
   "source": [
    "print('Create REF and IMP populations')\n",
    "# IMP.chr20.pooled.snps.gl.vcf.gz not GL formatted but name should fit in the bash script for phasing + imputation\n",
    "%sx bcftools view -Oz -S study.population -o IMP.chr20.snps.gt.vcf.gz ALL.chr20.snps.gt.vcf.gz\n",
    "%sx bcftools index -f IMP.chr20.snps.gt.vcf.gz\n",
    "%sx bcftools view -Oz -S reference.panel -o REF.chr20.snps.gt.vcf.gz ALL.chr20.snps.gt.vcf.gz\n",
    "%sx bcftools index -f REF.chr20.snps.gt.vcf.gz"
   ],
   "metadata": {
    "collapsed": false,
    "pycharm": {
     "name": "#%%\n",
     "is_executing": false
    }
   }
  },
  {
   "cell_type": "code",
   "execution_count": 8,
   "outputs": [
    {
     "data": {
      "text/plain": "['total 32364',\n 'drwxrwxr-x  2 camille camille     4096 jul 28 12:13 .',\n 'drwxr-xr-x 30 camille camille     4096 jul 28 11:52 ..',\n '-rw-rw-r--  1 camille camille 15800341 jul 28 12:24 ALL.chr20.snps.gt.vcf.gz',\n '-rw-rw-r--  1 camille camille    32033 jul 28 12:24 ALL.chr20.snps.gt.vcf.gz.csi',\n 'lrwxrwxrwx  1 camille camille       59 jul 28 12:13 bcfchunkpara.sh -> /home/camille/PoolImpHuman/bin/bash-scripts/bcfchunkpara.sh',\n '-rw-rw-r--  1 camille camille  2298507 jul 28 12:25 IMP.chr20.snps.gt.vcf.gz',\n '-rw-rw-r--  1 camille camille    26842 jul 28 12:25 IMP.chr20.snps.gt.vcf.gz.csi',\n 'lrwxrwxrwx  1 camille camille       56 jul 28 11:52 InfiniumOmniExpress-chr20-CHROM-POS.txt -> ../omniexpress24/InfiniumOmniExpress-chr20-CHROM-POS.txt',\n 'lrwxrwxrwx  1 camille camille       74 jul 28 11:52 omniexpress_20200728.ipynb -> /home/camille/1000Genomes/src/VCFPooling/python/omniexpress_20200728.ipynb',\n 'lrwxrwxrwx  1 camille camille       72 jul 28 11:52 omniexpress24chr20.ipynb -> /home/camille/1000Genomes/src/VCFPooling/python/omniexpress24chr20.ipynb',\n 'lrwxrwxrwx  1 camille camille       76 jul 28 11:52 parallel_pooling_20200624.py -> /home/camille/1000Genomes/src/VCFPooling/python/parallel_pooling_20200624.py',\n '-rw-rw-r--  1 camille camille 14914715 jul 28 12:25 REF.chr20.snps.gt.vcf.gz',\n '-rw-rw-r--  1 camille camille    31745 jul 28 12:25 REF.chr20.snps.gt.vcf.gz.csi',\n 'lrwxrwxrwx  1 camille camille       27 jul 28 11:52 reference.panel -> ../20200709/reference.panel',\n 'lrwxrwxrwx  1 camille camille       28 jul 28 11:52 study.population -> ../20200709/study.population']"
     },
     "metadata": {},
     "output_type": "execute_result",
     "execution_count": 8
    }
   ],
   "source": [
    "%sx pwd\n",
    "%sx ls -la"
   ],
   "metadata": {
    "collapsed": false,
    "pycharm": {
     "name": "#%%\n",
     "is_executing": false
    }
   }
  },
  {
   "cell_type": "markdown",
   "source": [
    "### Run pooling"
   ],
   "metadata": {
    "collapsed": false,
    "pycharm": {
     "name": "#%% md\n"
    }
   }
  },
  {
   "cell_type": "code",
   "execution_count": 9,
   "outputs": [
    {
     "name": "stdout",
     "text": [
      "Clean data/tmp directory\n"
     ],
     "output_type": "stream"
    },
    {
     "data": {
      "text/plain": "[]"
     },
     "metadata": {},
     "output_type": "execute_result",
     "execution_count": 9
    }
   ],
   "source": [
    "print('Clean data/tmp directory')\n",
    "%sx rm ~/PoolImpHuman/data/tmp/*"
   ],
   "metadata": {
    "collapsed": false,
    "pycharm": {
     "name": "#%%\n",
     "is_executing": false
    }
   }
  },
  {
   "cell_type": "code",
   "execution_count": 10,
   "outputs": [
    {
     "name": "stdout",
     "text": [
      "Chunk the file to be imputed\n"
     ],
     "output_type": "stream"
    },
    {
     "data": {
      "text/plain": "['Counting lines in IMP.chr20.snps.gt.vcf.gz',\n 'Number of files to pack =  18',\n 'Worker 0 GO!',\n 'Worker 1 GO!',\n 'Worker 3 GO!',\n 'Worker 2 GO!',\n 'Worker 1: Packing and writing chunk 1',\n 'Starts at POS 2441080 and ends at POS 5523754',\n 'Worker 3: Packing and writing chunk 3',\n 'Starts at POS 8566072 and ends at POS 11464227',\n 'Worker 2: Packing and writing chunk 2',\n 'Starts at POS 5524247 and ends at POS 8565782',\n 'Worker 0: Packing and writing chunk 0',\n 'Starts at POS 63244 and ends at POS 2440845',\n \"    Worker 1: Chunk '1' OK!\",\n \"    Worker 3: Chunk '3' OK!\",\n \"    Worker 2: Chunk '2' OK!\",\n \"    Worker 0: Chunk '0' OK!\",\n 'Worker 1: Packing and writing chunk 5',\n 'Starts at POS 15056675 and ends at POS 17342346',\n 'Worker 3: Packing and writing chunk 7',\n 'Starts at POS 20169162 and ends at POS 24187784',\n 'Worker 2: Packing and writing chunk 6',\n 'Starts at POS 17342611 and ends at POS 20158093',\n \"    Worker 1: Chunk '5' OK!\",\n 'Worker 0: Packing and writing chunk 4',\n 'Starts at POS 11473176 and ends at POS 15054436',\n \"    Worker 3: Chunk '7' OK!\",\n \"    Worker 2: Chunk '6' OK!\",\n \"    Worker 0: Chunk '4' OK!\",\n 'Worker 1: Packing and writing chunk 9',\n 'Starts at POS 33566722 and ends at POS 38813273',\n 'Worker 3: Packing and writing chunk 11',\n 'Starts at POS 42421946 and ends at POS 45532122',\n 'Worker 2: Packing and writing chunk 10',\n 'Starts at POS 38820805 and ends at POS 42417870',\n 'Worker 0: Packing and writing chunk 8',\n 'Starts at POS 24196619 and ends at POS 33565480',\n \"    Worker 3: Chunk '11' OK!\",\n \"    Worker 1: Chunk '9' OK!\",\n \"    Worker 2: Chunk '10' OK!\",\n \"    Worker 0: Chunk '8' OK!\",\n 'Worker 3: Packing and writing chunk 15',\n 'Starts at POS 55029388 and ends at POS 57577567',\n 'Worker 1: Packing and writing chunk 13',\n 'Starts at POS 48770891 and ends at POS 51942899',\n 'Worker 2: Packing and writing chunk 14',\n 'Starts at POS 51948402 and ends at POS 55028167',\n 'Worker 0: Packing and writing chunk 12',\n 'Starts at POS 45538434 and ends at POS 48764295',\n \"    Worker 1: Chunk '13' OK!\",\n \"    Worker 3: Chunk '15' OK!\",\n '    Worker 3 ALL DONE!',\n \"    Worker 2: Chunk '14' OK!\",\n '    Worker 2 ALL DONE!',\n \"    Worker 0: Chunk '12' OK!\",\n 'Worker 1: Packing and writing chunk 17',\n 'Starts at POS 60292473 and ends at POS 62912463',\n 'Worker 0: Packing and writing chunk 16',\n 'Starts at POS 57584890 and ends at POS 60290492',\n \"    Worker 1: Chunk '17' OK!\",\n '    Worker 1 ALL DONE!',\n \"    Worker 0: Chunk '16' OK!\",\n '    Worker 0 ALL DONE!']"
     },
     "metadata": {},
     "output_type": "execute_result",
     "execution_count": 10
    }
   ],
   "source": [
    "print('Chunk the file to be imputed')\n",
    "%sx ln -s /home/camille/PoolImpHuman/bin/bash-scripts/bcfchunkpara.sh ./\n",
    "%sx bash bcfchunkpara.sh IMP.chr20.snps.gt.vcf.gz ~/PoolImpHuman/data/tmp 1000\n",
    "# NB: file_in parameter cannot have path prefix, it must be a file name only"
   ],
   "metadata": {
    "collapsed": false,
    "pycharm": {
     "name": "#%%\n",
     "is_executing": false
    }
   }
  },
  {
   "cell_type": "code",
   "execution_count": 2,
   "outputs": [
    {
     "name": "stdout",
     "text": [
      "Pool the chunks\n"
     ],
     "output_type": "stream"
    },
    {
     "data": {
      "text/plain": "['SNIC PROJ: /home/camille/PoolImpHuman/data',\n '',\n '*******************************************************************************',\n 'Number of cpu to be used = 4',\n 'Input file = /home/camille/PoolImpHuman/data/20200728/IMP.chr20.snps.gt.vcf.gz',\n 'Output file = /home/camille/PoolImpHuman/data/20200728/IMP.chr20.pooled.snps.gl.vcf.gz',\n '*******************************************************************************',\n '',\n '',\n '18 files found will be pooled.................................................',\n \"['/home/camille/PoolImpHuman/data/tmp/pack13.IMP.chr20.snps.gt.vcf.gz', '/home/camille/PoolImpHuman/data/tmp/pack1.IMP.chr20.snps.gt.vcf.gz', '/home/camille/PoolImpHuman/data/tmp/pack4.IMP.chr20.snps.gt.vcf.gz', '/home/camille/PoolImpHuman/data/tmp/pack11.IMP.chr20.snps.gt.vcf.gz', '/home/camille/PoolImpHuman/data/tmp/pack0.IMP.chr20.snps.gt.vcf.gz', '/home/camille/PoolImpHuman/data/tmp/pack8.IMP.chr20.snps.gt.vcf.gz', '/home/camille/PoolImpHuman/data/tmp/pack14.IMP.chr20.snps.gt.vcf.gz', '/home/camille/PoolImpHuman/data/tmp/pack15.IMP.chr20.snps.gt.vcf.gz', '/home/camille/PoolImpHuman/data/tmp/pack10.IMP.chr20.snps.gt.vcf.gz', '/home/camille/PoolImpHuman/data/tmp/pack9.IMP.chr20.snps.gt.vcf.gz', '/home/camille/PoolImpHuman/data/tmp/pack5.IMP.chr20.snps.gt.vcf.gz', '/home/camille/PoolImpHuman/data/tmp/pack12.IMP.chr20.snps.gt.vcf.gz', '/home/camille/PoolImpHuman/data/tmp/pack7.IMP.chr20.snps.gt.vcf.gz', '/home/camille/PoolImpHuman/data/tmp/pack3.IMP.chr20.snps.gt.vcf.gz', '/home/camille/PoolImpHuman/data/tmp/pack17.IMP.chr20.snps.gt.vcf.gz', '/home/camille/PoolImpHuman/data/tmp/pack16.IMP.chr20.snps.gt.vcf.gz', '/home/camille/PoolImpHuman/data/tmp/pack6.IMP.chr20.snps.gt.vcf.gz', '/home/camille/PoolImpHuman/data/tmp/pack2.IMP.chr20.snps.gt.vcf.gz']\",\n 'Pooling data in /home/camille/PoolImpHuman/data/tmp/pack14.IMP.chr20.snps.gt.vcf.gz',\n 'Pooling data in /home/camille/PoolImpHuman/data/tmp/pack0.IMP.chr20.snps.gt.vcf.gz',\n 'Pooling data in /home/camille/PoolImpHuman/data/tmp/pack13.IMP.chr20.snps.gt.vcf.gz',\n 'Pooling data in /home/camille/PoolImpHuman/data/tmp/pack4.IMP.chr20.snps.gt.vcf.gz',\n '1 variants processed in 000.01 sec..............................................',\n '1 variants processed in 000.01 sec..............................................',\n '1 variants processed in 000.02 sec..............................................',\n '1 variants processed in 000.02 sec..............................................',\n '',\n 'Writing metadata in /home/camille/PoolImpHuman/data/tmp/pooled.pack0.IMP.chr20.snps.gt.vcf',\n '',\n 'Writing data in /home/camille/PoolImpHuman/data/tmp/pooled.pack0.IMP.chr20.snps.gt.vcf',\n '',\n 'Writing metadata in /home/camille/PoolImpHuman/data/tmp/pooled.pack4.IMP.chr20.snps.gt.vcf',\n '',\n 'Writing data in /home/camille/PoolImpHuman/data/tmp/pooled.pack4.IMP.chr20.snps.gt.vcf',\n 'Writing data in /home/camille/PoolImpHuman/data/tmp/pooled.pack0.IMP.chr20.snps.gt.vcf: Done',\n 'Writing data in /home/camille/PoolImpHuman/data/tmp/pooled.pack4.IMP.chr20.snps.gt.vcf: Done',\n '',\n 'Writing metadata in /home/camille/PoolImpHuman/data/tmp/pooled.pack14.IMP.chr20.snps.gt.vcf',\n '',\n 'Writing data in /home/camille/PoolImpHuman/data/tmp/pooled.pack14.IMP.chr20.snps.gt.vcf',\n '',\n 'Writing metadata in /home/camille/PoolImpHuman/data/tmp/pooled.pack13.IMP.chr20.snps.gt.vcf',\n '',\n 'Writing data in /home/camille/PoolImpHuman/data/tmp/pooled.pack13.IMP.chr20.snps.gt.vcf',\n 'Writing data in /home/camille/PoolImpHuman/data/tmp/pooled.pack14.IMP.chr20.snps.gt.vcf: Done',\n 'Writing data in /home/camille/PoolImpHuman/data/tmp/pooled.pack13.IMP.chr20.snps.gt.vcf: Done',\n '/home/camille/PoolImpHuman/data/tmp/pooled.pack0.IMP.chr20.snps.gt.vcf.gz:',\n ' File created? -> True',\n '/home/camille/PoolImpHuman/data/tmp/pooled.pack4.IMP.chr20.snps.gt.vcf.gz:',\n ' File created? -> True',\n '/home/camille/PoolImpHuman/data/tmp/pooled.pack0.IMP.chr20.snps.gt.vcf.gz:',\n ' File indexed? -> True',\n 'Time for pooling 1000 variants = 14.138136565999957 sec',\n 'Pooling data in /home/camille/PoolImpHuman/data/tmp/pack8.IMP.chr20.snps.gt.vcf.gz',\n '1 variants processed in 000.02 sec..............................................',\n '/home/camille/PoolImpHuman/data/tmp/pooled.pack4.IMP.chr20.snps.gt.vcf.gz:',\n ' File indexed? -> True',\n 'Time for pooling 1000 variants = 14.182854122000208 sec',\n 'Pooling data in /home/camille/PoolImpHuman/data/tmp/pack11.IMP.chr20.snps.gt.vcf.gz',\n '/home/camille/PoolImpHuman/data/tmp/pooled.pack13.IMP.chr20.snps.gt.vcf.gz:',\n ' File created? -> True',\n '/home/camille/PoolImpHuman/data/tmp/pooled.pack14.IMP.chr20.snps.gt.vcf.gz:',\n ' File created? -> True',\n '1 variants processed in 000.01 sec..............................................',\n '/home/camille/PoolImpHuman/data/tmp/pooled.pack14.IMP.chr20.snps.gt.vcf.gz:',\n ' File indexed? -> True',\n 'Time for pooling 1000 variants = 14.25268486800087 sec',\n '/home/camille/PoolImpHuman/data/tmp/pooled.pack13.IMP.chr20.snps.gt.vcf.gz:',\n ' File indexed? -> True',\n 'Time for pooling 1000 variants = 14.260348238000006 sec',\n 'Pooling data in /home/camille/PoolImpHuman/data/tmp/pack15.IMP.chr20.snps.gt.vcf.gz',\n 'Pooling data in /home/camille/PoolImpHuman/data/tmp/pack1.IMP.chr20.snps.gt.vcf.gz',\n '1 variants processed in 000.01 sec..............................................',\n '1 variants processed in 000.01 sec..............................................',\n '',\n 'Writing metadata in /home/camille/PoolImpHuman/data/tmp/pooled.pack8.IMP.chr20.snps.gt.vcf',\n '',\n 'Writing data in /home/camille/PoolImpHuman/data/tmp/pooled.pack8.IMP.chr20.snps.gt.vcf',\n 'Writing data in /home/camille/PoolImpHuman/data/tmp/pooled.pack8.IMP.chr20.snps.gt.vcf: Done',\n '',\n 'Writing metadata in /home/camille/PoolImpHuman/data/tmp/pooled.pack11.IMP.chr20.snps.gt.vcf',\n '',\n 'Writing data in /home/camille/PoolImpHuman/data/tmp/pooled.pack11.IMP.chr20.snps.gt.vcf',\n 'Writing data in /home/camille/PoolImpHuman/data/tmp/pooled.pack11.IMP.chr20.snps.gt.vcf: Done',\n '/home/camille/PoolImpHuman/data/tmp/pooled.pack8.IMP.chr20.snps.gt.vcf.gz:',\n ' File created? -> True',\n '/home/camille/PoolImpHuman/data/tmp/pooled.pack11.IMP.chr20.snps.gt.vcf.gz:',\n ' File created? -> True',\n '/home/camille/PoolImpHuman/data/tmp/pooled.pack8.IMP.chr20.snps.gt.vcf.gz:',\n ' File indexed? -> True',\n 'Time for pooling 1000 variants = 14.398915323999972 sec',\n 'Pooling data in /home/camille/PoolImpHuman/data/tmp/pack10.IMP.chr20.snps.gt.vcf.gz',\n '/home/camille/PoolImpHuman/data/tmp/pooled.pack11.IMP.chr20.snps.gt.vcf.gz:',\n ' File indexed? -> True',\n '1 variants processed in 000.01 sec..............................................',\n 'Time for pooling 1000 variants = 14.365427724000256 sec',\n 'Pooling data in /home/camille/PoolImpHuman/data/tmp/pack5.IMP.chr20.snps.gt.vcf.gz',\n '1 variants processed in 000.02 sec..............................................',\n '',\n 'Writing metadata in /home/camille/PoolImpHuman/data/tmp/pooled.pack1.IMP.chr20.snps.gt.vcf',\n '',\n 'Writing data in /home/camille/PoolImpHuman/data/tmp/pooled.pack1.IMP.chr20.snps.gt.vcf',\n 'Writing data in /home/camille/PoolImpHuman/data/tmp/pooled.pack1.IMP.chr20.snps.gt.vcf: Done',\n '',\n 'Writing metadata in /home/camille/PoolImpHuman/data/tmp/pooled.pack15.IMP.chr20.snps.gt.vcf',\n '',\n 'Writing data in /home/camille/PoolImpHuman/data/tmp/pooled.pack15.IMP.chr20.snps.gt.vcf',\n 'Writing data in /home/camille/PoolImpHuman/data/tmp/pooled.pack15.IMP.chr20.snps.gt.vcf: Done',\n '/home/camille/PoolImpHuman/data/tmp/pooled.pack1.IMP.chr20.snps.gt.vcf.gz:',\n ' File created? -> True',\n '/home/camille/PoolImpHuman/data/tmp/pooled.pack1.IMP.chr20.snps.gt.vcf.gz:',\n ' File indexed? -> True',\n 'Time for pooling 1000 variants = 14.857884428000034 sec',\n 'Pooling data in /home/camille/PoolImpHuman/data/tmp/pack7.IMP.chr20.snps.gt.vcf.gz',\n '/home/camille/PoolImpHuman/data/tmp/pooled.pack15.IMP.chr20.snps.gt.vcf.gz:',\n ' File created? -> True',\n '1 variants processed in 000.02 sec..............................................',\n '/home/camille/PoolImpHuman/data/tmp/pooled.pack15.IMP.chr20.snps.gt.vcf.gz:',\n ' File indexed? -> True',\n 'Time for pooling 1000 variants = 14.94242106800084 sec',\n 'Pooling data in /home/camille/PoolImpHuman/data/tmp/pack17.IMP.chr20.snps.gt.vcf.gz',\n '1 variants processed in 000.02 sec..............................................',\n '',\n 'Writing metadata in /home/camille/PoolImpHuman/data/tmp/pooled.pack17.IMP.chr20.snps.gt.vcf',\n '',\n 'Writing data in /home/camille/PoolImpHuman/data/tmp/pooled.pack17.IMP.chr20.snps.gt.vcf',\n 'Writing data in /home/camille/PoolImpHuman/data/tmp/pooled.pack17.IMP.chr20.snps.gt.vcf: Done',\n '/home/camille/PoolImpHuman/data/tmp/pooled.pack17.IMP.chr20.snps.gt.vcf.gz:',\n ' File created? -> True',\n '/home/camille/PoolImpHuman/data/tmp/pooled.pack17.IMP.chr20.snps.gt.vcf.gz:',\n ' File indexed? -> True',\n 'Time for pooling 791 variants = 13.050763959001415 sec',\n 'Pooling data in /home/camille/PoolImpHuman/data/tmp/pack16.IMP.chr20.snps.gt.vcf.gz',\n '1 variants processed in 000.02 sec..............................................',\n '',\n 'Writing metadata in /home/camille/PoolImpHuman/data/tmp/pooled.pack5.IMP.chr20.snps.gt.vcf',\n '',\n 'Writing data in /home/camille/PoolImpHuman/data/tmp/pooled.pack5.IMP.chr20.snps.gt.vcf',\n 'Writing data in /home/camille/PoolImpHuman/data/tmp/pooled.pack5.IMP.chr20.snps.gt.vcf: Done',\n '',\n 'Writing metadata in /home/camille/PoolImpHuman/data/tmp/pooled.pack10.IMP.chr20.snps.gt.vcf',\n '',\n 'Writing data in /home/camille/PoolImpHuman/data/tmp/pooled.pack10.IMP.chr20.snps.gt.vcf',\n 'Writing data in /home/camille/PoolImpHuman/data/tmp/pooled.pack10.IMP.chr20.snps.gt.vcf: Done',\n '/home/camille/PoolImpHuman/data/tmp/pooled.pack5.IMP.chr20.snps.gt.vcf.gz:',\n ' File created? -> True',\n '',\n 'Writing metadata in /home/camille/PoolImpHuman/data/tmp/pooled.pack7.IMP.chr20.snps.gt.vcf',\n '',\n 'Writing data in /home/camille/PoolImpHuman/data/tmp/pooled.pack7.IMP.chr20.snps.gt.vcf',\n '/home/camille/PoolImpHuman/data/tmp/pooled.pack5.IMP.chr20.snps.gt.vcf.gz:',\n ' File indexed? -> True',\n 'Time for pooling 1000 variants = 16.000470965000204 sec',\n 'Writing data in /home/camille/PoolImpHuman/data/tmp/pooled.pack7.IMP.chr20.snps.gt.vcf: Done',\n '/home/camille/PoolImpHuman/data/tmp/pooled.pack10.IMP.chr20.snps.gt.vcf.gz:',\n ' File created? -> True',\n 'Pooling data in /home/camille/PoolImpHuman/data/tmp/pack12.IMP.chr20.snps.gt.vcf.gz',\n '1 variants processed in 000.01 sec..............................................',\n '/home/camille/PoolImpHuman/data/tmp/pooled.pack10.IMP.chr20.snps.gt.vcf.gz:',\n ' File indexed? -> True',\n 'Time for pooling 1000 variants = 16.119448965999254 sec',\n 'Pooling data in /home/camille/PoolImpHuman/data/tmp/pack9.IMP.chr20.snps.gt.vcf.gz',\n '1 variants processed in 000.02 sec..............................................',\n '/home/camille/PoolImpHuman/data/tmp/pooled.pack7.IMP.chr20.snps.gt.vcf.gz:',\n ' File created? -> True',\n '/home/camille/PoolImpHuman/data/tmp/pooled.pack7.IMP.chr20.snps.gt.vcf.gz:',\n ' File indexed? -> True',\n 'Time for pooling 1000 variants = 15.869695841000066 sec',\n 'Pooling data in /home/camille/PoolImpHuman/data/tmp/pack3.IMP.chr20.snps.gt.vcf.gz',\n '1 variants processed in 000.02 sec..............................................',\n '',\n 'Writing metadata in /home/camille/PoolImpHuman/data/tmp/pooled.pack16.IMP.chr20.snps.gt.vcf',\n '',\n 'Writing data in /home/camille/PoolImpHuman/data/tmp/pooled.pack16.IMP.chr20.snps.gt.vcf',\n 'Writing data in /home/camille/PoolImpHuman/data/tmp/pooled.pack16.IMP.chr20.snps.gt.vcf: Done',\n '/home/camille/PoolImpHuman/data/tmp/pooled.pack16.IMP.chr20.snps.gt.vcf.gz:',\n ' File created? -> True',\n '/home/camille/PoolImpHuman/data/tmp/pooled.pack16.IMP.chr20.snps.gt.vcf.gz:',\n ' File indexed? -> True',\n 'Time for pooling 1000 variants = 16.02106279200052 sec',\n 'Pooling data in /home/camille/PoolImpHuman/data/tmp/pack6.IMP.chr20.snps.gt.vcf.gz',\n '1 variants processed in 000.02 sec..............................................',\n '',\n 'Writing metadata in /home/camille/PoolImpHuman/data/tmp/pooled.pack12.IMP.chr20.snps.gt.vcf',\n '',\n 'Writing data in /home/camille/PoolImpHuman/data/tmp/pooled.pack12.IMP.chr20.snps.gt.vcf',\n 'Writing data in /home/camille/PoolImpHuman/data/tmp/pooled.pack12.IMP.chr20.snps.gt.vcf: Done',\n '/home/camille/PoolImpHuman/data/tmp/pooled.pack12.IMP.chr20.snps.gt.vcf.gz:',\n ' File created? -> True',\n '/home/camille/PoolImpHuman/data/tmp/pooled.pack12.IMP.chr20.snps.gt.vcf.gz:',\n ' File indexed? -> True',\n 'Time for pooling 1000 variants = 16.306242921999 sec',\n '',\n 'Writing metadata in /home/camille/PoolImpHuman/data/tmp/pooled.pack9.IMP.chr20.snps.gt.vcf',\n '',\n 'Writing data in /home/camille/PoolImpHuman/data/tmp/pooled.pack9.IMP.chr20.snps.gt.vcf',\n 'Writing data in /home/camille/PoolImpHuman/data/tmp/pooled.pack9.IMP.chr20.snps.gt.vcf: Done',\n '',\n 'Writing metadata in /home/camille/PoolImpHuman/data/tmp/pooled.pack3.IMP.chr20.snps.gt.vcf',\n '',\n 'Writing data in /home/camille/PoolImpHuman/data/tmp/pooled.pack3.IMP.chr20.snps.gt.vcf',\n 'Writing data in /home/camille/PoolImpHuman/data/tmp/pooled.pack3.IMP.chr20.snps.gt.vcf: Done',\n '/home/camille/PoolImpHuman/data/tmp/pooled.pack9.IMP.chr20.snps.gt.vcf.gz:',\n ' File created? -> True',\n '/home/camille/PoolImpHuman/data/tmp/pooled.pack9.IMP.chr20.snps.gt.vcf.gz:',\n ' File indexed? -> True',\n 'Time for pooling 1000 variants = 16.600847766998413 sec',\n '/home/camille/PoolImpHuman/data/tmp/pooled.pack3.IMP.chr20.snps.gt.vcf.gz:',\n ' File created? -> True',\n '/home/camille/PoolImpHuman/data/tmp/pooled.pack3.IMP.chr20.snps.gt.vcf.gz:',\n ' File indexed? -> True',\n 'Time for pooling 1000 variants = 16.522179375999258 sec',\n '',\n 'Writing metadata in /home/camille/PoolImpHuman/data/tmp/pooled.pack6.IMP.chr20.snps.gt.vcf',\n '',\n 'Writing data in /home/camille/PoolImpHuman/data/tmp/pooled.pack6.IMP.chr20.snps.gt.vcf',\n 'Writing data in /home/camille/PoolImpHuman/data/tmp/pooled.pack6.IMP.chr20.snps.gt.vcf: Done',\n '/home/camille/PoolImpHuman/data/tmp/pooled.pack6.IMP.chr20.snps.gt.vcf.gz:',\n ' File created? -> True',\n '/home/camille/PoolImpHuman/data/tmp/pooled.pack6.IMP.chr20.snps.gt.vcf.gz:',\n ' File indexed? -> True',\n 'Time for pooling 1000 variants = 9.258683468999152 sec',\n 'Pooling data in /home/camille/PoolImpHuman/data/tmp/pack2.IMP.chr20.snps.gt.vcf.gz',\n '1 variants processed in 000.01 sec..............................................',\n '',\n 'Writing metadata in /home/camille/PoolImpHuman/data/tmp/pooled.pack2.IMP.chr20.snps.gt.vcf',\n '',\n 'Writing data in /home/camille/PoolImpHuman/data/tmp/pooled.pack2.IMP.chr20.snps.gt.vcf',\n 'Writing data in /home/camille/PoolImpHuman/data/tmp/pooled.pack2.IMP.chr20.snps.gt.vcf: Done',\n '/home/camille/PoolImpHuman/data/tmp/pooled.pack2.IMP.chr20.snps.gt.vcf.gz:',\n ' File created? -> True',\n '/home/camille/PoolImpHuman/data/tmp/pooled.pack2.IMP.chr20.snps.gt.vcf.gz:',\n ' File indexed? -> True',\n 'Time for pooling 1000 variants = 7.0242506510003295 sec',\n '',\n 'Time elapsed -->  74.64497703799861',\n '/home/camille/PoolImpHuman/data/tmp/IMP.chr20.snps.gt.vcf:',\n ' File created? -> True',\n 'Writing to /tmp/bcftools-sort.FRtVv1',\n 'Merging 1 temporary files',\n 'Cleaning',\n 'Done',\n '/home/camille/PoolImpHuman/data/tmp/IMP.chr20.snps.gt.vcf:',\n ' File sorted? -> True',\n '/home/camille/PoolImpHuman/data/tmp/IMP.chr20.pooled.snps.gl.vcf.gz:',\n ' File created? -> True',\n '/home/camille/PoolImpHuman/data/tmp/IMP.chr20.pooled.snps.gl.vcf.gz:',\n ' File indexed? -> True',\n '',\n 'Time elapsed -->  81.6080096679998']"
     },
     "metadata": {},
     "output_type": "execute_result",
     "execution_count": 2
    }
   ],
   "source": [
    "print('Pool the chunks')\n",
    "%sx source ~/1000Genomes/venv3.6/bin/activate\n",
    "%sx python3 -u parallel_pooling_20200624.py /home/camille/PoolImpHuman/data/20200728/IMP.chr20.snps.gt.vcf.gz /home/camille/PoolImpHuman/data/20200728/IMP.chr20.pooled.snps.gl.vcf.gz 4"
   ],
   "metadata": {
    "collapsed": false,
    "pycharm": {
     "name": "#%%\n",
     "is_executing": false
    }
   }
  },
  {
   "cell_type": "markdown",
   "source": [
    "### Run imputation\n",
    "With Phaser, on Rackham. Use gcc compiled version, no `--march`\n",
    "Steps:\n",
    "\n",
    "1. Prepare phaser folders and scripts\n",
    "```bash\n",
    "cd phaser/\n",
    "mkdir omniexpressLD && cd omniexpressLD\n",
    "cp ../omniexpress/run_omniHD_snowy.s* ./\n",
    "mv run_omniHD_snowy.sh run_omniLD_snowy.sh\n",
    "mv run_omniHD_snowy.sbatch run_omniLD_snowy.sbatch\n",
    "```\n",
    "\n",
    "Modify contents of `.sh` and `.sbatch` scripts\n",
    "```bash\n",
    "nano run_omniLD_snowy.sh\n",
    "```\n",
    "set to \n",
    "```\n",
    "# all paths are relative phaser/   (assumed this script is executed from phaser/omniexpressLD)\n",
    "cd ..\n",
    "\n",
    "ne=11418\n",
    "#error=0.001\n",
    "error=0.00001\n",
    "mapfile=examples/5_snps_interpolated_HapMap2_map_20\n",
    "indir=omniexpressLD/\n",
    "sample=$SLURM_ARRAY_TASK_ID\n",
    "samples_file=IMP.chr20.pooled.snps.gl.vcf.gz\n",
    "ref_file=omniexpressLD/REF.chr20.snps.gt.vcf.gz\n",
    "results_directory=omniexpressLD/LDLD/\n",
    "\n",
    "```\n",
    "\n",
    "```bash\n",
    "nano run_omniLD_snowy.sbatch\n",
    "```\n",
    "\n",
    "set to\n",
    "\n",
    "```\n",
    "#!/bin/bash -l\n",
    "#SBATCH -A snic2019-8-216\n",
    "#SBATCH -p node\n",
    "#SBATCH -C mem128GB\n",
    "#SBATCH -n 16\n",
    "#SBATCH -t 2-00:00:00\n",
    "#SBATCH -J omni_LD\n",
    "### assumes current directory is /crex/proj/snic2019-8-216/private/phaser/omniexpressLD\n",
    "module load bioinfo-tools\n",
    "module load bcftools/1.9\n",
    "module load tabix/0.2.6\n",
    "bash run_omniLD_snowy.sh # should use 16 OMP threads\n",
    "```\n",
    "\n",
    "2. Transfer experimental VCF files from local\n",
    "```bash\n",
    "~/PoolImpHuman/data/20200728$ scp *.vcf.gz* camcl609@rackham.uppmax.uu.se:/crex/proj/snic2019-8-216/private/phaser/omniexpressLD\n",
    "```"
   ],
   "metadata": {
    "collapsed": false,
    "pycharm": {
     "name": "#%% md\n"
    }
   }
  },
  {
   "cell_type": "code",
   "execution_count": 12,
   "outputs": [
    {
     "name": "stdout",
     "text": [
      "Impute missing genotypes in the low-density coverage file\n"
     ],
     "output_type": "stream"
    },
    {
     "data": {
      "text/plain": "['Contigs in the reference file',\n '.................................................................................',\n 'Chromosome  20    Startpos = 63244    Endpos = 62912463',\n '',\n '',\n 'Check FORMAT field in files for imputation',\n '.................................................................................',\n 'FORMAT in reference panel:  GT',\n '[E::hts_open_format] Failed to open file IMP.chr20.pooled.snps.gl.vcf.gz',\n 'Failed to open IMP.chr20.pooled.snps.gl.vcf.gz: No such file or directory',\n 'FORMAT in target: ',\n '',\n '',\n 'Check number of samples and number of markers in files for imputation',\n '.................................................................................',\n 'reference:',\n '2264',\n '',\n 'target:',\n '[E::hts_open_format] Failed to open file IMP.chr20.pooled.snps.gl.vcf.gz',\n 'Failed to open IMP.chr20.pooled.snps.gl.vcf.gz: No such file or directory',\n '0',\n '',\n '',\n 'Phase reference and target with BEAGLE',\n '.................................................................................',\n 'Beagle .jar file used at: /home/camille/1000Genomes/src/beagle.11Mar19.69c.jar',\n '',\n 'FORMAT in the phased ref file: GT',\n 'Exception in thread \"main\" java.lang.IllegalArgumentException: File does not exist: IMP.chr20.pooled.snps.gl.vcf.gz',\n '\\tat blbutil.Validate.getFile(Validate.java:141)',\n '\\tat main.Par.<init>(Par.java:108)',\n '\\tat main.Main.parameters(Main.java:388)',\n '\\tat main.Main.main(Main.java:104)',\n '',\n 'Exception in thread \"main\" java.lang.IllegalArgumentException: File does not exist: IMP.chr20.pooled.unphased.vcf.gz',\n '\\tat blbutil.Validate.getFile(Validate.java:141)',\n '\\tat main.Par.<init>(Par.java:104)',\n '\\tat main.Main.parameters(Main.java:388)',\n '\\tat main.Main.main(Main.java:104)',\n '[E::hts_open_format] Failed to open file IMP.chr20.pooled.phased.vcf.gz',\n 'index: failed to open \"IMP.chr20.pooled.phased.vcf.gz\"',\n '[E::hts_open_format] Failed to open file IMP.chr20.pooled.phased.vcf.gz',\n 'Failed to open IMP.chr20.pooled.phased.vcf.gz: No such file or directory',\n 'FORMAT in the phased target file:',\n '',\n '',\n 'Deduplicate possibly duplicated markers',\n '.................................................................................',\n '[E::hts_open_format] Failed to open file IMP.chr20.pooled.phased.vcf.gz',\n 'Failed to open IMP.chr20.pooled.phased.vcf.gz: No such file or directory',\n '[E::hts_open_format] Failed to open file IMP.chr20.pooled.phased.dedup.vcf.gz',\n 'index: failed to open \"IMP.chr20.pooled.phased.dedup.vcf.gz\"',\n 'Lines   total/split/realigned/skipped:\\t17791/0/0/0',\n '',\n '',\n 'Unify reference and target markers with CONFORM-GT',\n '.................................................................................',\n 'conform-gt .jar file used at: /home/camille/1000Genomes/src/conform-gt.jar',\n '',\n 'Exception in thread \"main\" java.lang.IllegalArgumentException: File does not exist: IMP.chr20.pooled.phased.dedup.vcf.gz',\n '\\tat blbutil.Validate.getFile(Validate.java:140)',\n '\\tat conform.ConformPar.<init>(ConformPar.java:46)',\n '\\tat conform.ConformMain.parameters(ConformMain.java:559)',\n '\\tat conform.ConformMain.main(ConformMain.java:96)',\n '[E::hts_open_format] Failed to open file IMP.chr20.pooled.cfgt.vcf.gz',\n 'index: failed to open \"IMP.chr20.pooled.cfgt.vcf.gz\"',\n '',\n '',\n 'Impute target from reference with BEAGLE',\n '.................................................................................',\n 'Beagle .jar file used at: /home/camille/1000Genomes/src/beagle.11Mar19.69c.jar',\n '',\n 'Exception in thread \"main\" java.lang.IllegalArgumentException: File does not exist: IMP.chr20.pooled.cfgt.vcf.gz',\n '\\tat blbutil.Validate.getFile(Validate.java:141)',\n '\\tat main.Par.<init>(Par.java:104)',\n '\\tat main.Main.parameters(Main.java:388)',\n '\\tat main.Main.main(Main.java:104)',\n '[E::hts_open_format] Failed to open file IMP.chr20.pooled.imputed.vcf.gz',\n 'index: failed to open \"IMP.chr20.pooled.imputed.vcf.gz\"',\n '[E::hts_open_format] Failed to open file IMP.chr20.pooled.imputed.vcf.gz',\n 'Failed to open IMP.chr20.pooled.imputed.vcf.gz: No such file or directory',\n 'FORMAT in the imputed target file:',\n '',\n '',\n 'Cleaning directory from log files',\n '.................................................................................',\n \"rm: cannot remove './*.log': No such file or directory\",\n \"rm: cannot remove './*cfgt.vcf.gz*': No such file or directory\",\n 'Done.',\n '']"
     },
     "metadata": {},
     "output_type": "execute_result",
     "execution_count": 12
    }
   ],
   "source": [
    "print('Impute missing genotypes in the low-density coverage file')"
   ],
   "metadata": {
    "collapsed": false,
    "pycharm": {
     "name": "#%%\n",
     "is_executing": false
    }
   }
  },
  {
   "cell_type": "code",
   "execution_count": 13,
   "outputs": [
    {
     "name": "stdout",
     "text": [
      "Plotting results with bcftools stats\n"
     ],
     "output_type": "stream"
    },
    {
     "data": {
      "text/plain": "['Parsing bcftools stats output: filestats.vchk',\n 'Sanity check failed: was this file generated by bcftools stats? at /usr/bin/plot-vcfstats line 99.',\n '\\tmain::error(\"Sanity check failed: was this file generated by bcftools stats?\") called at /usr/bin/plot-vcfstats line 585',\n '\\tmain::parse_vcfstats1(HASH(0x5644e32cfb78), 0) called at /usr/bin/plot-vcfstats line 294',\n '\\tmain::parse_vcfstats(HASH(0x5644e32cfb78)) called at /usr/bin/plot-vcfstats line 47']"
     },
     "metadata": {},
     "output_type": "execute_result",
     "execution_count": 13
    }
   ],
   "source": [
    "print('Plotting results with bcftools stats')\n",
    "%sx deactivate\n",
    "# bcftools stats needs python 2.7\n",
    "%sx bcftools stats --af-bins 0.01,0.02,0.04,0.08,0.1,0.2,0.3,0.4,0.5,0.6,0.7,0.8,0.9,0.98 --collapse snps -S study.population IMP.chr20.pooled.imputed.vcf.gz IMP.chr20.snps.gt.vcf.gz > filestats.vchk\n",
    "%sx plot-vcfstats -p bcftoolstats -s filestats.vchk"
   ],
   "metadata": {
    "collapsed": false,
    "pycharm": {
     "name": "#%%\n",
     "is_executing": false
    }
   }
  },
  {
   "cell_type": "markdown",
   "source": [
    "### Compute results with customized metrics"
   ],
   "metadata": {
    "collapsed": false,
    "pycharm": {
     "name": "#%% md\n"
    }
   }
  },
  {
   "cell_type": "code",
   "execution_count": 14,
   "outputs": [
    {
     "data": {
      "text/plain": "[\"python3: can't open file '../poolSNPs/imputation_quality.py': [Errno 2] No such file or directory\"]"
     },
     "metadata": {},
     "output_type": "execute_result",
     "execution_count": 14
    }
   ],
   "source": [
    "%sx python3 -u ../poolSNPs/imputation_quality.py ./ IMP.chr20.snps.gt.vcf.gz IMP.chr20.pooled.imputed.vcf.gz bin/gt_to_gl.sh  "
   ],
   "metadata": {
    "collapsed": false,
    "pycharm": {
     "name": "#%%\n",
     "is_executing": false
    }
   }
  },
  {
   "cell_type": "code",
   "execution_count": 15,
   "outputs": [
    {
     "traceback": [
      "\u001b[0;31m---------------------------------------------------------------------------\u001b[0m",
      "\u001b[0;31mAssertionError\u001b[0m                            Traceback (most recent call last)",
      "\u001b[0;32m<ipython-input-15-daa5b92c3196>\u001b[0m in \u001b[0;36m<module>\u001b[0;34m\u001b[0m\n\u001b[1;32m      1\u001b[0m \u001b[0;31m# Verify files created at the different phasing and imputation steps\u001b[0m\u001b[0;34m\u001b[0m\u001b[0;34m\u001b[0m\u001b[0;34m\u001b[0m\u001b[0m\n\u001b[0;32m----> 2\u001b[0;31m \u001b[0;32massert\u001b[0m \u001b[0mos\u001b[0m\u001b[0;34m.\u001b[0m\u001b[0mpath\u001b[0m\u001b[0;34m.\u001b[0m\u001b[0mexists\u001b[0m\u001b[0;34m(\u001b[0m\u001b[0;34m'imputation_quality_gtgl.png'\u001b[0m\u001b[0;34m)\u001b[0m\u001b[0;34m\u001b[0m\u001b[0;34m\u001b[0m\u001b[0m\n\u001b[0m\u001b[1;32m      3\u001b[0m \u001b[0;34m\u001b[0m\u001b[0m\n\u001b[1;32m      4\u001b[0m \u001b[0;34m\u001b[0m\u001b[0m\n",
      "\u001b[0;31mAssertionError\u001b[0m: "
     ],
     "ename": "AssertionError",
     "evalue": "",
     "output_type": "error"
    }
   ],
   "source": [
    "# Verify files created at the different phasing and imputation steps\n",
    "assert os.path.exists('imputation_quality_gtgl.png')\n"
   ],
   "metadata": {
    "collapsed": false,
    "pycharm": {
     "name": "#%%\n",
     "is_executing": false
    }
   }
  },
  {
   "cell_type": "code",
   "execution_count": null,
   "outputs": [],
   "source": [
    "# # if bcftools is configured for python 2.7 usage \n",
    "# print('Plotting results with bcftools stats')\n",
    "# %sx deactivate\n",
    "# # bcftools stats needs python 2.7\n",
    "# %sx bcftools stats --af-bins 0.01,0.02,0.04,0.08,0.1,0.2,0.3,0.4,0.5,0.6,0.7,0.8,0.9,0.98 --collapse snps -S study.population IMP.chr20.pooled.imputed.vcf.gz IMP.chr20.snps.gt.vcf.gz > filestats.vchk\n",
    "# %sx plot-vcfstats -p bcftoolstats -s filestats.vchk\n"
   ],
   "metadata": {
    "collapsed": false,
    "pycharm": {
     "name": "#%%\n",
     "is_executing": false
    }
   }
  }
 ],
 "metadata": {
  "kernelspec": {
   "display_name": "Python 3",
   "language": "python",
   "name": "python3"
  },
  "language_info": {
   "codemirror_mode": {
    "name": "ipython",
    "version": 2
   },
   "file_extension": ".py",
   "mimetype": "text/x-python",
   "name": "python",
   "nbconvert_exporter": "python",
   "pygments_lexer": "ipython2",
   "version": "2.7.6"
  },
  "pycharm": {
   "stem_cell": {
    "cell_type": "raw",
    "source": [],
    "metadata": {
     "collapsed": false
    }
   }
  }
 },
 "nbformat": 4,
 "nbformat_minor": 0
}