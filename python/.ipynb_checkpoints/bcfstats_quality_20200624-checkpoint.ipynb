{
 "cells": [
  {
   "cell_type": "markdown",
   "metadata": {},
   "source": [
    "# Pooling-imputation performance from real bead chip data\n",
    "\n",
    "Process and plots results output from bcftools stats.\n",
    "Data set: pooled-imputed bead chip"
   ]
  },
  {
   "cell_type": "code",
   "execution_count": 1,
   "metadata": {
    "pycharm": {
     "is_executing": false,
     "name": "#%%\n"
    }
   },
   "outputs": [],
   "source": [
    "import os\n",
    "\n",
    "os.chdir('/home/camille/PoolImpHuman/data/omniexpress')\n",
    "filestats = os.path.join(os.getcwd(), 'filestats.vchk')"
   ]
  },
  {
   "cell_type": "code",
   "execution_count": 2,
   "metadata": {
    "pycharm": {
     "is_executing": false,
     "name": "#%%\n"
    }
   },
   "outputs": [
    {
     "name": "stdout",
     "output_type": "stream",
     "text": [
      "['/home/camille/PoolImpHuman/data/omniexpress', '/home/camille/1000Genomes', '/usr/lib/python36.zip', '/usr/lib/python3.6', '/usr/lib/python3.6/lib-dynload', '', '/home/camille/1000Genomes/venv3.6/lib/python3.6/site-packages', '/home/camille/1000Genomes/venv3.6/lib/python3.6/site-packages/setuptools-40.8.0-py3.6.egg', '/home/camille/1000Genomes/venv3.6/lib/python3.6/site-packages/pip-19.0.3-py3.6.egg', '/home/camille/1000Genomes/venv3.6/lib/python3.6/site-packages/IPython/extensions', '/home/camille/.ipython']\n",
      "\n",
      "\n",
      "\n",
      "/home/camille/PoolImpHuman/data/omniexpress/filestats.vchk\n",
      "RR Hom -> RR Hom : 8668\n",
      "RR Hom -> RA Het : 3140\n",
      "RR Hom -> AA Hom : 789\n",
      "RR Hom -> AA Het : 0\n",
      "RR Hom -> missing : 0\n",
      "RA Het -> RR Hom : 401\n",
      "RA Het -> RA Het : 760\n",
      "RA Het -> AA Hom : 371\n",
      "RA Het -> AA Het : 0\n",
      "RA Het -> missing : 0\n",
      "AA Hom -> RR Hom : 425\n",
      "AA Hom -> RA Het : 1275\n",
      "AA Hom -> AA Hom : 1962\n",
      "AA Hom -> AA Het : 0\n",
      "AA Hom -> missing : 0\n",
      "AA Het -> RR Hom : 0\n",
      "AA Het -> RA Het : 0\n",
      "AA Het -> AA Hom : 0\n",
      "AA Het -> AA Het : 0\n",
      "AA Het -> missing : 0\n",
      "missing -> RR Hom : 0\n",
      "missing -> RA Het : 0\n",
      "missing -> AA Hom : 0\n",
      "missing -> AA Het : 0\n",
      "missing -> missing : 0\n",
      "\n",
      "\n",
      "\n",
      "/home/camille/PoolImpHuman/data/omniexpress/filestats.vchk\n",
      "non-reference discordance rate : 70.163\n",
      "RR Hom matches : 8668\n",
      "RA Het matches : 760\n",
      "AA Hom matches : 1962\n",
      "RR Hom mismatches : 3929\n",
      "RA Het mismatches : 772\n",
      "AA Hom mismatches : 1700\n",
      "dosage r-squared : 0.317616\n"
     ]
    }
   ],
   "source": [
    "from scripts.VCFPooling.poolSNPs import BCFstatsUtils as bcfstats\n",
    "\n",
    "gcts = bcfstats.get_table_dict(filestats, \"GCTs\")\n",
    "gcss = bcfstats.get_table_dict(filestats, \"GCsS\")"
   ]
  },
  {
   "cell_type": "code",
   "execution_count": 3,
   "metadata": {
    "pycharm": {
     "is_executing": false,
     "name": "#%%\n"
    }
   },
   "outputs": [
    {
     "name": "stdout",
     "output_type": "stream",
     "text": [
      "('# GCsS', {'non-reference discordance rate': '70.163', 'RR Hom matches': '8668', 'RA Het matches': '760', 'AA Hom matches': '1962', 'RR Hom mismatches': '3929', 'RA Het mismatches': '772', 'AA Hom mismatches': '1700', 'dosage r-squared': '0.317616'})\n"
     ]
    }
   ],
   "source": [
    "for i in gcss.items():\n",
    "    print(i)\n"
   ]
  }
 ],
 "metadata": {
  "kernelspec": {
   "display_name": "Python 3",
   "language": "python",
   "name": "python3"
  },
  "language_info": {
   "codemirror_mode": {
    "name": "ipython",
    "version": 3
   },
   "file_extension": ".py",
   "mimetype": "text/x-python",
   "name": "python",
   "nbconvert_exporter": "python",
   "pygments_lexer": "ipython3",
   "version": "3.6.9"
  },
  "pycharm": {
   "stem_cell": {
    "cell_type": "raw",
    "metadata": {
     "collapsed": false
    },
    "source": []
   }
  }
 },
 "nbformat": 4,
 "nbformat_minor": 1
}
