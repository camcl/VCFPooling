{
 "cells": [
  {
   "cell_type": "markdown",
   "metadata": {
    "collapsed": true,
    "pycharm": {
     "name": "#%% md\n"
    }
   },
   "source": [
    "## Mini-study for the multi_decoder_gp() optimization"
   ]
  },
  {
   "cell_type": "code",
   "execution_count": 23,
   "outputs": [],
   "source": [
    "import numpy as np\n",
    "from numba import jit, float64\n",
    "from scripts.VCFPooling.poolSNPs import pooler\n",
    "from scripts.VCFPooling.poolSNPs import pydecoder\n",
    "import timeit\n",
    "\n",
    "path_keys = '/home/camille/PoolImpHuman/data/main'\n",
    "keys, vals = pooler.get_lookup_arrays(path_keys)\n",
    "\n",
    "dkeys = np.array([[2, 2, 0, 2, 2, 0, 1, 1],\n",
    "                      [0, 4, 0, 1, 3, 0, 0, 1],\n",
    "                      [1, 3, 0, 0, 4, 0, 1, 1],\n",
    "                      [1, 3, 0, 0, 4, 0, 0, 1]])\n",
    "\n",
    "dkey = dkeys[0]\n",
    "dummy = pooler.get_dummy_key(dkey)\n",
    "\n",
    "dummies = np.apply_along_axis(pooler.get_dummy_key, 0, dkeys)\n",
    "dummies = np.tile(dummies, 100)\n",
    "\n",
    "def minidecoder_digitize(dkey: np.ndarray, lookkeys: np.ndarray, lookvals: np.ndarray) -> np.ndarray:\n",
    "    \"\"\"gets GP from lookup table as arrays\"\"\"\n",
    "    gidx = np.digitize(dkey.dot(lookkeys.T), [np.sum(dkey)])  # np.sum(dkey) = 8\n",
    "    gp = gidx.dot(lookvals)\n",
    "    return gp\n",
    "\n",
    "@jit(nopython=True, forceobj=True, locals={'gidx': float64, 'gp': float64})\n",
    "def numba_minidecoder_digitize(dkey: np.ndarray, lookkeys: np.ndarray, lookvals: np.ndarray) -> np.ndarray:\n",
    "    \"\"\"gets GP from lookup table as arrays\"\"\"\n",
    "    gidx = np.digitize(dkey.dot(lookkeys.T), [np.sum(dkey)])  # np.sum(dkey) = 8\n",
    "    gp = gidx.dot(lookvals)\n",
    "    return gp\n",
    "\n",
    "def minidecoder_regdiv(dkey: np.ndarray, lookkeys: np.ndarray, lookvals: np.ndarray) -> np.ndarray:\n",
    "    \"\"\"gets GP from lookup table as arrays\"\"\"\n",
    "    gidx = dkey.dot(lookkeys.T) // np.sum(dkey)  # np.sum(dkey) = 8\n",
    "    gp = gidx.dot(lookvals)\n",
    "    return gp\n",
    "\n",
    "@jit(nopython=True, forceobj=True, locals={'gidx': float64, 'gp': float64})\n",
    "def numba_minidecoder_regdiv(dkey: np.ndarray, lookkeys: np.ndarray, lookvals: np.ndarray) -> np.ndarray:\n",
    "    \"\"\"gets GP from lookup table as arrays\"\"\"\n",
    "    gidx = dkey.dot(lookkeys.T) // np.sum(dkey)  # np.sum(dkey) = 8\n",
    "    gp = gidx.dot(lookvals)\n",
    "    return gp\n",
    "\n",
    "def minidecoder_floordiv(dkey: np.ndarray, lookkeys: np.ndarray, lookvals: np.ndarray) -> np.ndarray:\n",
    "    \"\"\"gets GP from lookup table as arrays\"\"\"\n",
    "    gidx = np.floor_divide(dummy.dot(keys.T), np.sum(dkey))  # np.sum(dkey) = 8\n",
    "    gp = gidx.dot(lookvals)\n",
    "    return gp\n",
    "\n",
    "@jit(nopython=True, forceobj=True, locals={'gidx': float64, 'gp': float64})\n",
    "def numba_minidecoder_floordiv(dkey: np.ndarray, lookkeys: np.ndarray, lookvals: np.ndarray) -> np.ndarray:\n",
    "    \"\"\"gets GP from lookup table as arrays\"\"\"\n",
    "    gidx = np.floor_divide(dummy.dot(keys.T), np.sum(dkey))  # np.sum(dkey) = 8\n",
    "    gp = gidx.dot(lookvals)\n",
    "    return gp\n",
    "\n",
    "@jit(nopython=True, forceobj=True, locals={'gidx': float64, 'gp': float64})\n",
    "def numba_apply_along_axis(*args):\n",
    "    np.apply_along_axis(*args)\n"
   ],
   "metadata": {
    "collapsed": false,
    "pycharm": {
     "name": "#%%\n",
     "is_executing": false
    }
   }
  },
  {
   "cell_type": "code",
   "execution_count": 24,
   "outputs": [
    {
     "name": "stdout",
     "text": [
      "np.digitize time --> \n",
      "5.5 ns ± 0.42 ns per loop (mean ± std. dev. of 7 runs, 100000000 loops each)\n"
     ],
     "output_type": "stream"
    }
   ],
   "source": [
    "print('np.digitize time --> ')\n",
    "%timeit 'coord = np.digitize(dummy.dot(keys.T), [len(dkey)])'"
   ],
   "metadata": {
    "collapsed": false,
    "pycharm": {
     "name": "#%%\n",
     "is_executing": false
    }
   }
  },
  {
   "cell_type": "code",
   "execution_count": 25,
   "outputs": [
    {
     "name": "stdout",
     "text": [
      "Regular div // time --> \n",
      "7.71 ns ± 2.74 ns per loop (mean ± std. dev. of 7 runs, 100000000 loops each)\n"
     ],
     "output_type": "stream"
    }
   ],
   "source": [
    "print('Regular div // time --> ')\n",
    "%timeit 'dummy.dot(keys.T) // len(dkey)'"
   ],
   "metadata": {
    "collapsed": false,
    "pycharm": {
     "name": "#%%\n",
     "is_executing": false
    }
   }
  },
  {
   "cell_type": "code",
   "execution_count": 26,
   "outputs": [
    {
     "name": "stdout",
     "text": [
      "np.floor_divide time --> \n",
      "6.43 ns ± 1.98 ns per loop (mean ± std. dev. of 7 runs, 100000000 loops each)\n"
     ],
     "output_type": "stream"
    }
   ],
   "source": [
    "print('np.floor_divide time --> ')\n",
    "%timeit 'np.floor_divide(dummy.dot(keys.T), len(dkey))'"
   ],
   "metadata": {
    "collapsed": false,
    "pycharm": {
     "name": "#%%\n",
     "is_executing": false
    }
   }
  },
  {
   "cell_type": "markdown",
   "source": [
    "### Mini-functions timing"
   ],
   "metadata": {
    "collapsed": false,
    "pycharm": {
     "name": "#%% md\n"
    }
   }
  },
  {
   "cell_type": "code",
   "execution_count": 27,
   "outputs": [
    {
     "name": "stdout",
     "text": [
      "minidecoder_digitize() time --> \n",
      "6.06 ns ± 1.69 ns per loop (mean ± std. dev. of 7 runs, 100000000 loops each)\n"
     ],
     "output_type": "stream"
    }
   ],
   "source": [
    "print('minidecoder_digitize() time --> ')\n",
    "%timeit 'minidecoder_digitize(dummy, keys, vals)'"
   ],
   "metadata": {
    "collapsed": false,
    "pycharm": {
     "name": "#%%\n",
     "is_executing": false
    }
   }
  },
  {
   "cell_type": "code",
   "execution_count": 28,
   "outputs": [
    {
     "name": "stdout",
     "text": [
      "numba_minidecoder_digitize() time --> \n",
      "6.41 ns ± 2.23 ns per loop (mean ± std. dev. of 7 runs, 100000000 loops each)\n"
     ],
     "output_type": "stream"
    }
   ],
   "source": [
    "print('numba_minidecoder_digitize() time --> ')\n",
    "%timeit 'numba_minidecoder_digitize(dummy, keys, vals)'"
   ],
   "metadata": {
    "collapsed": false,
    "pycharm": {
     "name": "#%%\n",
     "is_executing": false
    }
   }
  },
  {
   "cell_type": "code",
   "execution_count": 29,
   "outputs": [
    {
     "name": "stdout",
     "text": [
      "minidecoder_regdiv() time --> \n",
      "6.76 ns ± 1.77 ns per loop (mean ± std. dev. of 7 runs, 100000000 loops each)\n"
     ],
     "output_type": "stream"
    }
   ],
   "source": [
    "print('minidecoder_regdiv() time --> ')\n",
    "%timeit 'minidecoder_regdiv(dummy, keys, vals)'"
   ],
   "metadata": {
    "collapsed": false,
    "pycharm": {
     "name": "#%%\n",
     "is_executing": false
    }
   }
  },
  {
   "cell_type": "code",
   "execution_count": 30,
   "outputs": [
    {
     "name": "stdout",
     "text": [
      "numba_minidecoder_regdiv() time --> \n",
      "6.81 ns ± 1.86 ns per loop (mean ± std. dev. of 7 runs, 100000000 loops each)\n"
     ],
     "output_type": "stream"
    }
   ],
   "source": [
    "print('numba_minidecoder_regdiv() time --> ')\n",
    "%timeit 'numba_minidecoder_regdiv(dummy, keys, vals)'"
   ],
   "metadata": {
    "collapsed": false,
    "pycharm": {
     "name": "#%%\n",
     "is_executing": false
    }
   }
  },
  {
   "cell_type": "code",
   "execution_count": 31,
   "outputs": [
    {
     "name": "stdout",
     "text": [
      "minidecoder_floordiv() time --> \n",
      "7.67 ns ± 2.27 ns per loop (mean ± std. dev. of 7 runs, 100000000 loops each)\n"
     ],
     "output_type": "stream"
    }
   ],
   "source": [
    "print('minidecoder_floordiv() time --> ')\n",
    "%timeit 'minidecoder_floordiv(dummy, keys, vals)'"
   ],
   "metadata": {
    "collapsed": false,
    "pycharm": {
     "name": "#%%\n",
     "is_executing": false
    }
   }
  },
  {
   "cell_type": "code",
   "execution_count": 32,
   "outputs": [
    {
     "name": "stdout",
     "text": [
      "numba_minidecoder_floordiv() time --> \n",
      "6.04 ns ± 0.652 ns per loop (mean ± std. dev. of 7 runs, 100000000 loops each)\n"
     ],
     "output_type": "stream"
    }
   ],
   "source": [
    "print('numba_minidecoder_floordiv() time --> ')\n",
    "%timeit 'numba_minidecoder_floordiv(dummy, keys, vals)'"
   ],
   "metadata": {
    "collapsed": false,
    "pycharm": {
     "name": "#%%\n",
     "is_executing": false
    }
   }
  },
  {
   "cell_type": "markdown",
   "source": [
    "Numba does not provide much speed up here?"
   ],
   "metadata": {
    "collapsed": false,
    "pycharm": {
     "name": "#%% md\n"
    }
   }
  },
  {
   "cell_type": "markdown",
   "source": [
    "### `np.apply_along_axis` with mini-functions timing"
   ],
   "metadata": {
    "collapsed": false
   }
  },
  {
   "cell_type": "code",
   "execution_count": 33,
   "outputs": [
    {
     "name": "stdout",
     "text": [
      "minidecoder_digitize() time --> \n",
      "6.28 ns ± 0.898 ns per loop (mean ± std. dev. of 7 runs, 100000000 loops each)\n"
     ],
     "output_type": "stream"
    }
   ],
   "source": [
    "print('minidecoder_digitize() time --> ')\n",
    "%timeit 'np.apply_along_axis(minidecoder_digitize, dummies, 0, keys, vals)'"
   ],
   "metadata": {
    "collapsed": false,
    "pycharm": {
     "name": "#%%\n",
     "is_executing": false
    }
   }
  },
  {
   "cell_type": "code",
   "execution_count": 34,
   "outputs": [
    {
     "name": "stdout",
     "text": [
      "numba_minidecoder_digitize() time --> \n",
      "5.85 ns ± 0.231 ns per loop (mean ± std. dev. of 7 runs, 100000000 loops each)\n"
     ],
     "output_type": "stream"
    }
   ],
   "source": [
    "print('numba_minidecoder_digitize() time --> ')\n",
    "%timeit 'np.apply_along_axis(numba_minidecoder_digitize, dummies, 0, keys, vals)'"
   ],
   "metadata": {
    "collapsed": false,
    "pycharm": {
     "name": "#%%\n",
     "is_executing": false
    }
   }
  },
  {
   "cell_type": "code",
   "execution_count": 35,
   "outputs": [
    {
     "name": "stdout",
     "text": [
      "minidecoder_regdiv() time --> \n",
      "5.58 ns ± 0.236 ns per loop (mean ± std. dev. of 7 runs, 100000000 loops each)\n"
     ],
     "output_type": "stream"
    }
   ],
   "source": [
    "print('minidecoder_regdiv() time --> ')\n",
    "%timeit 'np.apply_along_axis(minidecoder_regdiv, dummies, 0, keys, vals)'"
   ],
   "metadata": {
    "collapsed": false,
    "pycharm": {
     "name": "#%%\n",
     "is_executing": false
    }
   }
  },
  {
   "cell_type": "code",
   "execution_count": 36,
   "outputs": [
    {
     "name": "stdout",
     "text": [
      "numba_minidecoder_regdiv() time --> \n",
      "5.45 ns ± 0.235 ns per loop (mean ± std. dev. of 7 runs, 100000000 loops each)\n"
     ],
     "output_type": "stream"
    }
   ],
   "source": [
    "print('numba_minidecoder_regdiv() time --> ')\n",
    "%timeit 'np.apply_along_axis(numba_minidecoder_regdiv, dummies, 0, keys, vals)'"
   ],
   "metadata": {
    "collapsed": false,
    "pycharm": {
     "name": "#%%\n",
     "is_executing": false
    }
   }
  },
  {
   "cell_type": "code",
   "execution_count": 37,
   "outputs": [
    {
     "name": "stdout",
     "text": [
      "minidecoder_floordiv() time --> \n",
      "5.62 ns ± 0.169 ns per loop (mean ± std. dev. of 7 runs, 100000000 loops each)\n"
     ],
     "output_type": "stream"
    }
   ],
   "source": [
    "print('minidecoder_floordiv() time --> ')\n",
    "%timeit 'np.apply_along_axis(minidecoder_regdiv, dummies, 0, keys, vals)'"
   ],
   "metadata": {
    "collapsed": false,
    "pycharm": {
     "name": "#%%\n",
     "is_executing": false
    }
   }
  },
  {
   "cell_type": "code",
   "execution_count": 38,
   "outputs": [
    {
     "name": "stdout",
     "text": [
      "numba_minidecoder_floordiv() time --> \n",
      "5.57 ns ± 0.218 ns per loop (mean ± std. dev. of 7 runs, 100000000 loops each)\n"
     ],
     "output_type": "stream"
    }
   ],
   "source": [
    "print('numba_minidecoder_floordiv() time --> ')\n",
    "%timeit 'np.apply_along_axis(numba_minidecoder_floordiv, dummies, 0, keys, vals)'"
   ],
   "metadata": {
    "collapsed": false,
    "pycharm": {
     "name": "#%%\n",
     "is_executing": false
    }
   }
  },
  {
   "cell_type": "markdown",
   "source": [
    "`np.apply_along axis()` is efficient, it does not take longer to perform the computation on 8 or 800 arrays.\n",
    "\n",
    "Numba does not seem to speed up anything here.\n",
    "\n",
    "`np.digitize`is an acceptable coding solution, `np.floor_div` might be slightly better?"
   ],
   "metadata": {
    "collapsed": false
   }
  },
  {
   "cell_type": "markdown",
   "source": [
    "### Numba on `np.apply_along_axis` with mini-functions timing"
   ],
   "metadata": {
    "collapsed": false
   }
  },
  {
   "cell_type": "code",
   "execution_count": 39,
   "outputs": [
    {
     "name": "stdout",
     "text": [
      "numba_minidecoder_digitize() time --> \n",
      "5.55 ns ± 0.334 ns per loop (mean ± std. dev. of 7 runs, 100000000 loops each)\n"
     ],
     "output_type": "stream"
    }
   ],
   "source": [
    "print('numba_minidecoder_digitize() time --> ')\n",
    "%timeit 'numba_apply_along_axis(numba_minidecoder_digitize, dummies, 0, keys, vals)'"
   ],
   "metadata": {
    "collapsed": false,
    "pycharm": {
     "name": "#%%\n",
     "is_executing": false
    }
   }
  },
  {
   "cell_type": "code",
   "execution_count": 40,
   "outputs": [
    {
     "name": "stdout",
     "text": [
      "numba_minidecoder_regdiv() time --> \n",
      "5.95 ns ± 0.495 ns per loop (mean ± std. dev. of 7 runs, 100000000 loops each)\n"
     ],
     "output_type": "stream"
    }
   ],
   "source": [
    "print('numba_minidecoder_regdiv() time --> ')\n",
    "%timeit 'numba_apply_along_axis(numba_minidecoder_regdiv, dummies, 0, keys, vals)'"
   ],
   "metadata": {
    "collapsed": false,
    "pycharm": {
     "name": "#%%\n",
     "is_executing": false
    }
   }
  },
  {
   "cell_type": "code",
   "execution_count": 41,
   "outputs": [
    {
     "name": "stdout",
     "text": [
      "numba_minidecoder_floordiv() time --> \n",
      "6.79 ns ± 0.846 ns per loop (mean ± std. dev. of 7 runs, 100000000 loops each)\n"
     ],
     "output_type": "stream"
    }
   ],
   "source": [
    "print('numba_minidecoder_floordiv() time --> ')\n",
    "%timeit 'numba_apply_along_axis(numba_minidecoder_floordiv, dummies, 0, keys, vals)'"
   ],
   "metadata": {
    "collapsed": false,
    "pycharm": {
     "name": "#%%\n",
     "is_executing": false
    }
   }
  },
  {
   "cell_type": "code",
   "execution_count": 42,
   "outputs": [
    {
     "name": "stdout",
     "text": [
      "minidecoder_digitize() time --> \n",
      "6.27 ns ± 1.34 ns per loop (mean ± std. dev. of 7 runs, 100000000 loops each)\n"
     ],
     "output_type": "stream"
    }
   ],
   "source": [
    "print('minidecoder_digitize() time --> ')\n",
    "%timeit 'numba_apply_along_axis(minidecoder_digitize, dummies, 0, keys, vals)'"
   ],
   "metadata": {
    "collapsed": false,
    "pycharm": {
     "name": "#%%\n",
     "is_executing": false
    }
   }
  },
  {
   "cell_type": "code",
   "execution_count": 43,
   "outputs": [
    {
     "name": "stdout",
     "text": [
      "minidecoder_regdiv() time --> \n",
      "6.85 ns ± 2.41 ns per loop (mean ± std. dev. of 7 runs, 100000000 loops each)\n"
     ],
     "output_type": "stream"
    }
   ],
   "source": [
    "print('minidecoder_regdiv() time --> ')\n",
    "%timeit 'numba_apply_along_axis(minidecoder_regdiv, dummies, 0, keys, vals)'"
   ],
   "metadata": {
    "collapsed": false,
    "pycharm": {
     "name": "#%%\n",
     "is_executing": false
    }
   }
  },
  {
   "cell_type": "code",
   "execution_count": 44,
   "outputs": [
    {
     "name": "stdout",
     "text": [
      "minidecoder_floordiv() time --> \n",
      "8.98 ns ± 1.8 ns per loop (mean ± std. dev. of 7 runs, 100000000 loops each)\n"
     ],
     "output_type": "stream"
    }
   ],
   "source": [
    "print('minidecoder_floordiv() time --> ')\n",
    "%timeit 'numba_apply_along_axis(minidecoder_floordiv, dummies, 0, keys, vals)'"
   ],
   "metadata": {
    "collapsed": false,
    "pycharm": {
     "name": "#%%\n",
     "is_executing": false
    }
   }
  },
  {
   "cell_type": "markdown",
   "source": [
    "It looks like `np.apply_along_axis`is not enhanced by Numba.\n"
   ],
   "metadata": {
    "collapsed": false
   }
  }
 ],
 "metadata": {
  "kernelspec": {
   "display_name": "Python 3",
   "language": "python",
   "name": "python3"
  },
  "language_info": {
   "codemirror_mode": {
    "name": "ipython",
    "version": 2
   },
   "file_extension": ".py",
   "mimetype": "text/x-python",
   "name": "python",
   "nbconvert_exporter": "python",
   "pygments_lexer": "ipython2",
   "version": "2.7.6"
  },
  "pycharm": {
   "stem_cell": {
    "cell_type": "raw",
    "source": [],
    "metadata": {
     "collapsed": false
    }
   }
  }
 },
 "nbformat": 4,
 "nbformat_minor": 0
}