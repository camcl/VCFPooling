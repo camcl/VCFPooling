{
 "cells": [
  {
   "cell_type": "markdown",
   "metadata": {
    "collapsed": true,
    "pycharm": {
     "name": "#%% md\n"
    }
   },
   "source": [
    "# Pooling-imputation performance from real bead chip data\n",
    "\n",
    "Performs pooling simulation and imputation on data from the chromosome 20 of 1000GP.\n",
    "Markers have been chosen as the intersection between the real bead chip Illumina Infinium OmniExpress\n",
    " (https://support.illumina.com/array/array_kits/humanomniexpress-24-beadchip-kit/downloads.html) \n",
    " and the chr20 1000GP data. The samples are randomly assigned to the reference panel or the study population.\n",
    "\n",
    "Extract markers coordinates of this bead chip, provided on the manufacturer website \n",
    "(https://support.illumina.com/content/dam/illumina-support/documents/downloads/productfiles/humanomniexpress-24/v1-3/infinium-omniexpress-24-v1-3-a1-physical-genetic-coordinates.zip)\n",
    "\n",
    "Subset markers from the 1000GP project based on this markers list\n",
    "\n",
    "Apply pooling simulation on this data, and imputation (run parallel execution): \n",
    "**pool and impute bead chip markers only, compute metrics and plot statistics** "
   ]
  },
  {
   "cell_type": "code",
   "execution_count": 1,
   "outputs": [],
   "source": [
    "import os\n",
    "\n",
    "os.chdir('/home/camille/PoolImpHuman/data/20200624')"
   ],
   "metadata": {
    "collapsed": false,
    "pycharm": {
     "name": "#%%\n",
     "is_executing": false
    }
   }
  },
  {
   "cell_type": "code",
   "execution_count": 2,
   "outputs": [
    {
     "name": "stdout",
     "text": [
      "Configure directory\n"
     ],
     "output_type": "stream"
    },
    {
     "data": {
      "text/plain": "[\"ln: failed to create symbolic link './beagle_impute_20200624.py': File exists\"]"
     },
     "metadata": {},
     "output_type": "execute_result",
     "execution_count": 2
    }
   ],
   "source": [
    "print('Configure directory')\n",
    "%sx ln -s ~/1000Genomes/scripts/VCFPooling/python/omniexpress24chr20.ipynb ./\n",
    "%sx ln -s ~/1000Genomes/scripts/VCFPooling/python/omniexpress_20200624.ipynb ./\n",
    "%sx ln -s ~/1000Genomes/scripts/VCFPooling/python/parallel_pooling_20200624.py ./\n",
    "%sx ln -s ~/1000Genomes/scripts/VCFPooling/python/beagle_impute_20200624.py ./"
   ],
   "metadata": {
    "collapsed": false,
    "pycharm": {
     "name": "#%%\n",
     "is_executing": false
    }
   }
  },
  {
   "cell_type": "markdown",
   "source": [
    "### Prepare experimental VCF file"
   ],
   "metadata": {
    "collapsed": false,
    "pycharm": {
     "name": "#%% md\n"
    }
   }
  },
  {
   "cell_type": "code",
   "execution_count": 3,
   "outputs": [
    {
     "name": "stdout",
     "text": [
      "Create file\n"
     ],
     "output_type": "stream"
    }
   ],
   "source": [
    "print('Create file')\n",
    "# %sx bcftools view -Oz -o ALL.chr20.snps.gt.vcf.gz -R InfiniumOmniExpress-chr20-CHROM-POS.txt ../main/ALL.chr20.snps.gt.vcf.gz"
   ],
   "metadata": {
    "collapsed": false,
    "pycharm": {
     "name": "#%%\n",
     "is_executing": false
    }
   }
  },
  {
   "cell_type": "code",
   "execution_count": 4,
   "outputs": [
    {
     "name": "stdout",
     "text": [
      "Index file\n"
     ],
     "output_type": "stream"
    }
   ],
   "source": [
    "print('Index file')\n",
    "# %sx bcftools index ALL.chr20.snps.gt.vcf.gz"
   ],
   "metadata": {
    "collapsed": false,
    "pycharm": {
     "name": "#%%\n",
     "is_executing": false
    }
   }
  },
  {
   "cell_type": "code",
   "execution_count": 2,
   "outputs": [
    {
     "name": "stdout",
     "text": [
      "Check number of samples\n"
     ],
     "output_type": "stream"
    },
    {
     "data": {
      "text/plain": "['2504']"
     },
     "metadata": {},
     "output_type": "execute_result",
     "execution_count": 2
    }
   ],
   "source": [
    "print('Check number of samples')\n",
    "%sx bcftools query -l ALL.chr20.snps.gt.vcf.gz | wc -l"
   ],
   "metadata": {
    "collapsed": false,
    "pycharm": {
     "name": "#%%\n",
     "is_executing": false
    }
   }
  },
  {
   "cell_type": "code",
   "execution_count": 6,
   "outputs": [
    {
     "name": "stdout",
     "text": [
      "Check number of intersected markers\n"
     ],
     "output_type": "stream"
    },
    {
     "data": {
      "text/plain": "['17791']"
     },
     "metadata": {},
     "output_type": "execute_result",
     "execution_count": 6
    }
   ],
   "source": [
    "print('Check number of intersected markers')\n",
    "%sx bcftools view -H ALL.chr20.snps.gt.vcf.gz | wc -l"
   ],
   "metadata": {
    "collapsed": false,
    "pycharm": {
     "name": "#%%\n",
     "is_executing": false
    }
   }
  },
  {
   "cell_type": "code",
   "execution_count": 7,
   "outputs": [
    {
     "name": "stdout",
     "text": [
      "Shuffle split into file for STU and PAN populations\n",
      "['/home/camille/PoolImpHuman/data/omniexpress', '/home/camille/1000Genomes', '/usr/lib/python36.zip', '/usr/lib/python3.6', '/usr/lib/python3.6/lib-dynload', '', '/home/camille/1000Genomes/venv3.6/lib/python3.6/site-packages', '/home/camille/1000Genomes/venv3.6/lib/python3.6/site-packages/setuptools-40.8.0-py3.6.egg', '/home/camille/1000Genomes/venv3.6/lib/python3.6/site-packages/pip-19.0.3-py3.6.egg', '/home/camille/1000Genomes/venv3.6/lib/python3.6/site-packages/IPython/extensions', '/home/camille/.ipython', '/usr/bin/pycharm/plugins/python/helpers/pydev', '/usr/bin/pycharm/plugins/python/helpers-pro/jupyter_debug']\n",
      "/home/camille/PoolImpHuman/data/omniexpress/REF.chr20.snps.gt.vcf.gz:\r\n",
      " File created? -> True\n",
      "/home/camille/PoolImpHuman/data/omniexpress/REF.chr20.snps.gt.vcf.gz:\r\n",
      " File indexed? -> True\n",
      "/home/camille/PoolImpHuman/data/omniexpress/IMP.chr20.snps.gt.vcf.gz:\r\n",
      " File created? -> True\n",
      "/home/camille/PoolImpHuman/data/omniexpress/IMP.chr20.snps.gt.vcf.gz:\r\n",
      " File indexed? -> True\n"
     ],
     "output_type": "stream"
    }
   ],
   "source": [
    "# print('Shuffle split into file for STU and PAN populations')\n",
    "# from scripts.VCFPooling.poolSNPs import poolvcf\n",
    "# from scripts.VCFPooling.poolSNPs.pooler import Design\n",
    "# \n",
    "# ds = Design()\n",
    "# dm = ds.matrix\n",
    "# \n",
    "# sfsp = poolvcf.ShuffleSplitVCF(dm, 'ALL.chr20.snps.gt.vcf.gz', stu_size=0.1, wd=os.getcwd())\n",
    "# sfsp.split_file('chr20.snps.gt.vcf.gz')\n",
    "# # Change files prefixes to not mess up all the settings\n",
    "# "
   ],
   "metadata": {
    "collapsed": false,
    "pycharm": {
     "name": "#%%\n",
     "is_executing": false
    }
   }
  },
  {
   "cell_type": "code",
   "execution_count": 9,
   "outputs": [
    {
     "name": "stdout",
     "text": [
      "Clean data/tmp directory\n"
     ],
     "output_type": "stream"
    },
    {
     "data": {
      "text/plain": "[]"
     },
     "metadata": {},
     "output_type": "execute_result",
     "execution_count": 9
    }
   ],
   "source": [
    "# print('Clean data/tmp directory')\n",
    "# %sx rm ~/PoolImpHuman/data/tmp/*\n",
    "# "
   ],
   "metadata": {
    "collapsed": false,
    "pycharm": {
     "name": "#%%\n",
     "is_executing": false
    }
   }
  },
  {
   "cell_type": "code",
   "execution_count": 10,
   "outputs": [
    {
     "name": "stdout",
     "text": [
      "Chunk the file to be imputed\n"
     ],
     "output_type": "stream"
    },
    {
     "data": {
      "text/plain": "['Counting lines in IMP.chr20.snps.gt.vcf.gz',\n 'Number of files to pack =  18',\n 'Worker 0 GO!',\n 'Worker 1 GO!',\n 'Worker 2 GO!',\n 'Worker 3 GO!',\n 'Worker 2: Packing and writing chunk 2',\n 'Starts at POS 5524247 and ends at POS 8565782',\n 'Worker 0: Packing and writing chunk 0',\n 'Starts at POS 63244 and ends at POS 2440845',\n 'Worker 1: Packing and writing chunk 1',\n 'Starts at POS 2441080 and ends at POS 5523754',\n 'Worker 3: Packing and writing chunk 3',\n 'Starts at POS 8566072 and ends at POS 11464227',\n \"    Worker 2: Chunk '2' OK!\",\n \"    Worker 0: Chunk '0' OK!\",\n \"    Worker 3: Chunk '3' OK!\",\n \"    Worker 1: Chunk '1' OK!\",\n 'Worker 2: Packing and writing chunk 6',\n 'Starts at POS 17342611 and ends at POS 20158093',\n 'Worker 3: Packing and writing chunk 7',\n 'Starts at POS 20169162 and ends at POS 24187784',\n 'Worker 0: Packing and writing chunk 4',\n 'Starts at POS 11473176 and ends at POS 15054436',\n 'Worker 1: Packing and writing chunk 5',\n 'Starts at POS 15056675 and ends at POS 17342346',\n \"    Worker 2: Chunk '6' OK!\",\n \"    Worker 3: Chunk '7' OK!\",\n \"    Worker 0: Chunk '4' OK!\",\n \"    Worker 1: Chunk '5' OK!\",\n 'Worker 2: Packing and writing chunk 10',\n 'Starts at POS 38820805 and ends at POS 42417870',\n 'Worker 3: Packing and writing chunk 11',\n 'Starts at POS 42421946 and ends at POS 45532122',\n 'Worker 0: Packing and writing chunk 8',\n 'Starts at POS 24196619 and ends at POS 33565480',\n 'Worker 1: Packing and writing chunk 9',\n 'Starts at POS 33566722 and ends at POS 38813273',\n \"    Worker 2: Chunk '10' OK!\",\n \"    Worker 3: Chunk '11' OK!\",\n \"    Worker 1: Chunk '9' OK!\",\n \"    Worker 0: Chunk '8' OK!\",\n 'Worker 2: Packing and writing chunk 14',\n 'Starts at POS 51948402 and ends at POS 55028167',\n 'Worker 3: Packing and writing chunk 15',\n 'Starts at POS 55029388 and ends at POS 57577567',\n 'Worker 1: Packing and writing chunk 13',\n 'Starts at POS 48770891 and ends at POS 51942899',\n \"    Worker 2: Chunk '14' OK!\",\n '    Worker 2 ALL DONE!',\n 'Worker 0: Packing and writing chunk 12',\n 'Starts at POS 45538434 and ends at POS 48764295',\n \"    Worker 3: Chunk '15' OK!\",\n '    Worker 3 ALL DONE!',\n \"    Worker 1: Chunk '13' OK!\",\n \"    Worker 0: Chunk '12' OK!\",\n 'Worker 1: Packing and writing chunk 17',\n 'Starts at POS 60292473 and ends at POS 62912463',\n 'Worker 0: Packing and writing chunk 16',\n 'Starts at POS 57584890 and ends at POS 60290492',\n \"    Worker 1: Chunk '17' OK!\",\n '    Worker 1 ALL DONE!',\n \"    Worker 0: Chunk '16' OK!\",\n '    Worker 0 ALL DONE!']"
     },
     "metadata": {},
     "output_type": "execute_result",
     "execution_count": 10
    }
   ],
   "source": [
    "# print('Chunk the file to be imputed')\n",
    "# %sx bash bcfchunkpara.sh IMP.chr20.snps.gt.vcf.gz ~/PoolImpHuman/data/tmp 1000\n",
    "# # NB: file_in parameter cannot have path prefix, it must be a file name only\n",
    "# "
   ],
   "metadata": {
    "collapsed": false,
    "pycharm": {
     "name": "#%%\n",
     "is_executing": false
    }
   }
  },
  {
   "cell_type": "code",
   "execution_count": 12,
   "outputs": [
    {
     "name": "stdout",
     "text": [
      "Pool the chunks\n"
     ],
     "output_type": "stream"
    },
    {
     "data": {
      "text/plain": "[\"['/home/camille/PoolImpHuman/data/omniexpress', '/home/camille/1000Genomes', '/home/camille/1000Genomes/scripts/VCFPooling/python', '/home/camille/1000Genomes', '/usr/lib/python36.zip', '/usr/lib/python3.6', '/usr/lib/python3.6/lib-dynload', '/home/camille/1000Genomes/venv3.6/lib/python3.6/site-packages', '/home/camille/1000Genomes/venv3.6/lib/python3.6/site-packages/setuptools-40.8.0-py3.6.egg', '/home/camille/1000Genomes/venv3.6/lib/python3.6/site-packages/pip-19.0.3-py3.6.egg']\",\n 'SNIC PROJ: /home/camille/PoolImpHuman/data',\n '',\n '*******************************************************************************',\n 'Number of cpu to be used = 4',\n 'Input file = /home/camille/PoolImpHuman/data/omniexpress/IMP.chr20.snps.gt.vcf.gz',\n 'Output file = /home/camille/PoolImpHuman/data/omniexpress/IMP.chr20.pooled.snps.gl.vcf.gz',\n '*******************************************************************************',\n '',\n '',\n '18 files found will be pooled.................................................',\n \"['/home/camille/PoolImpHuman/data/tmp/pack13.IMP.chr20.snps.gt.vcf.gz', '/home/camille/PoolImpHuman/data/tmp/pack1.IMP.chr20.snps.gt.vcf.gz', '/home/camille/PoolImpHuman/data/tmp/pack4.IMP.chr20.snps.gt.vcf.gz', '/home/camille/PoolImpHuman/data/tmp/pack11.IMP.chr20.snps.gt.vcf.gz', '/home/camille/PoolImpHuman/data/tmp/pack0.IMP.chr20.snps.gt.vcf.gz', '/home/camille/PoolImpHuman/data/tmp/pack8.IMP.chr20.snps.gt.vcf.gz', '/home/camille/PoolImpHuman/data/tmp/pack14.IMP.chr20.snps.gt.vcf.gz', '/home/camille/PoolImpHuman/data/tmp/pack15.IMP.chr20.snps.gt.vcf.gz', '/home/camille/PoolImpHuman/data/tmp/pack10.IMP.chr20.snps.gt.vcf.gz', '/home/camille/PoolImpHuman/data/tmp/pack9.IMP.chr20.snps.gt.vcf.gz', '/home/camille/PoolImpHuman/data/tmp/pack5.IMP.chr20.snps.gt.vcf.gz', '/home/camille/PoolImpHuman/data/tmp/pack12.IMP.chr20.snps.gt.vcf.gz', '/home/camille/PoolImpHuman/data/tmp/pack7.IMP.chr20.snps.gt.vcf.gz', '/home/camille/PoolImpHuman/data/tmp/pack3.IMP.chr20.snps.gt.vcf.gz', '/home/camille/PoolImpHuman/data/tmp/pack17.IMP.chr20.snps.gt.vcf.gz', '/home/camille/PoolImpHuman/data/tmp/pack16.IMP.chr20.snps.gt.vcf.gz', '/home/camille/PoolImpHuman/data/tmp/pack6.IMP.chr20.snps.gt.vcf.gz', '/home/camille/PoolImpHuman/data/tmp/pack2.IMP.chr20.snps.gt.vcf.gz']\",\n 'Pooling data in /home/camille/PoolImpHuman/data/tmp/pack13.IMP.chr20.snps.gt.vcf.gz',\n 'Pooling data in /home/camille/PoolImpHuman/data/tmp/pack4.IMP.chr20.snps.gt.vcf.gz',\n 'Pooling data in /home/camille/PoolImpHuman/data/tmp/pack14.IMP.chr20.snps.gt.vcf.gz',\n 'Pooling data in /home/camille/PoolImpHuman/data/tmp/pack0.IMP.chr20.snps.gt.vcf.gz',\n '1 variants processed in 000.02 sec..............................................',\n '1 variants processed in 000.02 sec..............................................',\n '1 variants processed in 000.02 sec..............................................',\n '1 variants processed in 000.02 sec..............................................',\n '',\n 'Writing metadata in /home/camille/PoolImpHuman/data/tmp/pooled.pack13.IMP.chr20.snps.gt.vcf',\n '',\n 'Writing data in /home/camille/PoolImpHuman/data/tmp/pooled.pack13.IMP.chr20.snps.gt.vcf',\n 'Writing data in /home/camille/PoolImpHuman/data/tmp/pooled.pack13.IMP.chr20.snps.gt.vcf: Done',\n '',\n 'Writing metadata in /home/camille/PoolImpHuman/data/tmp/pooled.pack0.IMP.chr20.snps.gt.vcf',\n '',\n 'Writing data in /home/camille/PoolImpHuman/data/tmp/pooled.pack0.IMP.chr20.snps.gt.vcf',\n 'Writing data in /home/camille/PoolImpHuman/data/tmp/pooled.pack0.IMP.chr20.snps.gt.vcf: Done',\n '/home/camille/PoolImpHuman/data/tmp/pooled.pack13.IMP.chr20.snps.gt.vcf.gz:',\n ' File created? -> True',\n '/home/camille/PoolImpHuman/data/tmp/pooled.pack13.IMP.chr20.snps.gt.vcf.gz:',\n ' File indexed? -> True',\n 'Time for pooling 1000 variants = 13.974875160998636 sec',\n 'Pooling data in /home/camille/PoolImpHuman/data/tmp/pack1.IMP.chr20.snps.gt.vcf.gz',\n '/home/camille/PoolImpHuman/data/tmp/pooled.pack0.IMP.chr20.snps.gt.vcf.gz:',\n ' File created? -> True',\n '1 variants processed in 000.01 sec..............................................',\n '/home/camille/PoolImpHuman/data/tmp/pooled.pack0.IMP.chr20.snps.gt.vcf.gz:',\n ' File indexed? -> True',\n 'Time for pooling 1000 variants = 14.03766768299829 sec',\n 'Pooling data in /home/camille/PoolImpHuman/data/tmp/pack8.IMP.chr20.snps.gt.vcf.gz',\n '1 variants processed in 000.01 sec..............................................',\n '',\n 'Writing metadata in /home/camille/PoolImpHuman/data/tmp/pooled.pack14.IMP.chr20.snps.gt.vcf',\n '',\n 'Writing data in /home/camille/PoolImpHuman/data/tmp/pooled.pack14.IMP.chr20.snps.gt.vcf',\n 'Writing data in /home/camille/PoolImpHuman/data/tmp/pooled.pack14.IMP.chr20.snps.gt.vcf: Done',\n '',\n 'Writing metadata in /home/camille/PoolImpHuman/data/tmp/pooled.pack4.IMP.chr20.snps.gt.vcf',\n '',\n 'Writing data in /home/camille/PoolImpHuman/data/tmp/pooled.pack4.IMP.chr20.snps.gt.vcf',\n 'Writing data in /home/camille/PoolImpHuman/data/tmp/pooled.pack4.IMP.chr20.snps.gt.vcf: Done',\n '/home/camille/PoolImpHuman/data/tmp/pooled.pack14.IMP.chr20.snps.gt.vcf.gz:',\n ' File created? -> True',\n '/home/camille/PoolImpHuman/data/tmp/pooled.pack14.IMP.chr20.snps.gt.vcf.gz:',\n ' File indexed? -> True',\n 'Time for pooling 1000 variants = 15.044829652997578 sec',\n 'Pooling data in /home/camille/PoolImpHuman/data/tmp/pack15.IMP.chr20.snps.gt.vcf.gz',\n '1 variants processed in 000.02 sec..............................................',\n '/home/camille/PoolImpHuman/data/tmp/pooled.pack4.IMP.chr20.snps.gt.vcf.gz:',\n ' File created? -> True',\n '/home/camille/PoolImpHuman/data/tmp/pooled.pack4.IMP.chr20.snps.gt.vcf.gz:',\n ' File indexed? -> True',\n 'Time for pooling 1000 variants = 15.170266577999428 sec',\n 'Pooling data in /home/camille/PoolImpHuman/data/tmp/pack11.IMP.chr20.snps.gt.vcf.gz',\n '1 variants processed in 000.02 sec..............................................',\n '',\n 'Writing metadata in /home/camille/PoolImpHuman/data/tmp/pooled.pack1.IMP.chr20.snps.gt.vcf',\n '',\n 'Writing data in /home/camille/PoolImpHuman/data/tmp/pooled.pack1.IMP.chr20.snps.gt.vcf',\n '',\n 'Writing metadata in /home/camille/PoolImpHuman/data/tmp/pooled.pack8.IMP.chr20.snps.gt.vcf',\n '',\n 'Writing data in /home/camille/PoolImpHuman/data/tmp/pooled.pack8.IMP.chr20.snps.gt.vcf',\n 'Writing data in /home/camille/PoolImpHuman/data/tmp/pooled.pack1.IMP.chr20.snps.gt.vcf: Done',\n 'Writing data in /home/camille/PoolImpHuman/data/tmp/pooled.pack8.IMP.chr20.snps.gt.vcf: Done',\n '/home/camille/PoolImpHuman/data/tmp/pooled.pack8.IMP.chr20.snps.gt.vcf.gz:',\n ' File created? -> True',\n '/home/camille/PoolImpHuman/data/tmp/pooled.pack8.IMP.chr20.snps.gt.vcf.gz:',\n ' File indexed? -> True',\n 'Time for pooling 1000 variants = 16.695157016001758 sec',\n 'Pooling data in /home/camille/PoolImpHuman/data/tmp/pack10.IMP.chr20.snps.gt.vcf.gz',\n '1 variants processed in 000.02 sec..............................................',\n '/home/camille/PoolImpHuman/data/tmp/pooled.pack1.IMP.chr20.snps.gt.vcf.gz:',\n ' File created? -> True',\n '/home/camille/PoolImpHuman/data/tmp/pooled.pack1.IMP.chr20.snps.gt.vcf.gz:',\n ' File indexed? -> True',\n 'Time for pooling 1000 variants = 16.898862022000685 sec',\n 'Pooling data in /home/camille/PoolImpHuman/data/tmp/pack5.IMP.chr20.snps.gt.vcf.gz',\n '1 variants processed in 000.08 sec..............................................',\n '',\n 'Writing metadata in /home/camille/PoolImpHuman/data/tmp/pooled.pack11.IMP.chr20.snps.gt.vcf',\n '',\n 'Writing data in /home/camille/PoolImpHuman/data/tmp/pooled.pack11.IMP.chr20.snps.gt.vcf',\n 'Writing data in /home/camille/PoolImpHuman/data/tmp/pooled.pack11.IMP.chr20.snps.gt.vcf: Done',\n '',\n 'Writing metadata in /home/camille/PoolImpHuman/data/tmp/pooled.pack15.IMP.chr20.snps.gt.vcf',\n '',\n 'Writing data in /home/camille/PoolImpHuman/data/tmp/pooled.pack15.IMP.chr20.snps.gt.vcf',\n 'Writing data in /home/camille/PoolImpHuman/data/tmp/pooled.pack15.IMP.chr20.snps.gt.vcf: Done',\n '/home/camille/PoolImpHuman/data/tmp/pooled.pack11.IMP.chr20.snps.gt.vcf.gz:',\n ' File created? -> True',\n '/home/camille/PoolImpHuman/data/tmp/pooled.pack11.IMP.chr20.snps.gt.vcf.gz:',\n ' File indexed? -> True',\n 'Time for pooling 1000 variants = 17.307239793000917 sec',\n 'Pooling data in /home/camille/PoolImpHuman/data/tmp/pack7.IMP.chr20.snps.gt.vcf.gz',\n '1 variants processed in 000.02 sec..............................................',\n '/home/camille/PoolImpHuman/data/tmp/pooled.pack15.IMP.chr20.snps.gt.vcf.gz:',\n ' File created? -> True',\n '/home/camille/PoolImpHuman/data/tmp/pooled.pack15.IMP.chr20.snps.gt.vcf.gz:',\n ' File indexed? -> True',\n 'Time for pooling 1000 variants = 17.825098654000612 sec',\n 'Pooling data in /home/camille/PoolImpHuman/data/tmp/pack17.IMP.chr20.snps.gt.vcf.gz',\n '1 variants processed in 000.05 sec..............................................',\n '',\n 'Writing metadata in /home/camille/PoolImpHuman/data/tmp/pooled.pack17.IMP.chr20.snps.gt.vcf',\n '',\n 'Writing data in /home/camille/PoolImpHuman/data/tmp/pooled.pack17.IMP.chr20.snps.gt.vcf',\n 'Writing data in /home/camille/PoolImpHuman/data/tmp/pooled.pack17.IMP.chr20.snps.gt.vcf: Done',\n '/home/camille/PoolImpHuman/data/tmp/pooled.pack17.IMP.chr20.snps.gt.vcf.gz:',\n ' File created? -> True',\n '/home/camille/PoolImpHuman/data/tmp/pooled.pack17.IMP.chr20.snps.gt.vcf.gz:',\n ' File indexed? -> True',\n 'Time for pooling 791 variants = 19.627445235997584 sec',\n 'Pooling data in /home/camille/PoolImpHuman/data/tmp/pack16.IMP.chr20.snps.gt.vcf.gz',\n '1 variants processed in 000.02 sec..............................................',\n '',\n 'Writing metadata in /home/camille/PoolImpHuman/data/tmp/pooled.pack5.IMP.chr20.snps.gt.vcf',\n '',\n 'Writing data in /home/camille/PoolImpHuman/data/tmp/pooled.pack5.IMP.chr20.snps.gt.vcf',\n 'Writing data in /home/camille/PoolImpHuman/data/tmp/pooled.pack5.IMP.chr20.snps.gt.vcf: Done',\n '/home/camille/PoolImpHuman/data/tmp/pooled.pack5.IMP.chr20.snps.gt.vcf.gz:',\n ' File created? -> True',\n '/home/camille/PoolImpHuman/data/tmp/pooled.pack5.IMP.chr20.snps.gt.vcf.gz:',\n ' File indexed? -> True',\n 'Time for pooling 1000 variants = 23.65231250099896 sec',\n 'Pooling data in /home/camille/PoolImpHuman/data/tmp/pack12.IMP.chr20.snps.gt.vcf.gz',\n '1 variants processed in 000.05 sec..............................................',\n '',\n 'Writing metadata in /home/camille/PoolImpHuman/data/tmp/pooled.pack10.IMP.chr20.snps.gt.vcf',\n '',\n 'Writing data in /home/camille/PoolImpHuman/data/tmp/pooled.pack10.IMP.chr20.snps.gt.vcf',\n 'Writing data in /home/camille/PoolImpHuman/data/tmp/pooled.pack10.IMP.chr20.snps.gt.vcf: Done',\n '/home/camille/PoolImpHuman/data/tmp/pooled.pack10.IMP.chr20.snps.gt.vcf.gz:',\n ' File created? -> True',\n '/home/camille/PoolImpHuman/data/tmp/pooled.pack10.IMP.chr20.snps.gt.vcf.gz:',\n ' File indexed? -> True',\n 'Time for pooling 1000 variants = 25.274082523999823 sec',\n 'Pooling data in /home/camille/PoolImpHuman/data/tmp/pack9.IMP.chr20.snps.gt.vcf.gz',\n '1 variants processed in 000.04 sec..............................................',\n '',\n 'Writing metadata in /home/camille/PoolImpHuman/data/tmp/pooled.pack7.IMP.chr20.snps.gt.vcf',\n '',\n 'Writing data in /home/camille/PoolImpHuman/data/tmp/pooled.pack7.IMP.chr20.snps.gt.vcf',\n 'Writing data in /home/camille/PoolImpHuman/data/tmp/pooled.pack7.IMP.chr20.snps.gt.vcf: Done',\n '/home/camille/PoolImpHuman/data/tmp/pooled.pack7.IMP.chr20.snps.gt.vcf.gz:',\n ' File created? -> True',\n '/home/camille/PoolImpHuman/data/tmp/pooled.pack7.IMP.chr20.snps.gt.vcf.gz:',\n ' File indexed? -> True',\n 'Time for pooling 1000 variants = 24.97594339400166 sec',\n 'Pooling data in /home/camille/PoolImpHuman/data/tmp/pack3.IMP.chr20.snps.gt.vcf.gz',\n '1 variants processed in 000.03 sec..............................................',\n '',\n 'Writing metadata in /home/camille/PoolImpHuman/data/tmp/pooled.pack16.IMP.chr20.snps.gt.vcf',\n '',\n 'Writing data in /home/camille/PoolImpHuman/data/tmp/pooled.pack16.IMP.chr20.snps.gt.vcf',\n 'Writing data in /home/camille/PoolImpHuman/data/tmp/pooled.pack16.IMP.chr20.snps.gt.vcf: Done',\n '/home/camille/PoolImpHuman/data/tmp/pooled.pack16.IMP.chr20.snps.gt.vcf.gz:',\n ' File created? -> True',\n '/home/camille/PoolImpHuman/data/tmp/pooled.pack16.IMP.chr20.snps.gt.vcf.gz:',\n ' File indexed? -> True',\n 'Time for pooling 1000 variants = 19.342323435001163 sec',\n 'Pooling data in /home/camille/PoolImpHuman/data/tmp/pack6.IMP.chr20.snps.gt.vcf.gz',\n '1 variants processed in 000.02 sec..............................................',\n '',\n 'Writing metadata in /home/camille/PoolImpHuman/data/tmp/pooled.pack12.IMP.chr20.snps.gt.vcf',\n '',\n 'Writing data in /home/camille/PoolImpHuman/data/tmp/pooled.pack12.IMP.chr20.snps.gt.vcf',\n 'Writing data in /home/camille/PoolImpHuman/data/tmp/pooled.pack12.IMP.chr20.snps.gt.vcf: Done',\n '/home/camille/PoolImpHuman/data/tmp/pooled.pack12.IMP.chr20.snps.gt.vcf.gz:',\n ' File created? -> True',\n '/home/camille/PoolImpHuman/data/tmp/pooled.pack12.IMP.chr20.snps.gt.vcf.gz:',\n ' File indexed? -> True',\n 'Time for pooling 1000 variants = 18.934355282999604 sec',\n '',\n 'Writing metadata in /home/camille/PoolImpHuman/data/tmp/pooled.pack9.IMP.chr20.snps.gt.vcf',\n '',\n 'Writing data in /home/camille/PoolImpHuman/data/tmp/pooled.pack9.IMP.chr20.snps.gt.vcf',\n 'Writing data in /home/camille/PoolImpHuman/data/tmp/pooled.pack9.IMP.chr20.snps.gt.vcf: Done',\n '/home/camille/PoolImpHuman/data/tmp/pooled.pack9.IMP.chr20.snps.gt.vcf.gz:',\n ' File created? -> True',\n '/home/camille/PoolImpHuman/data/tmp/pooled.pack9.IMP.chr20.snps.gt.vcf.gz:',\n ' File indexed? -> True',\n 'Time for pooling 1000 variants = 18.84573821199956 sec',\n '',\n 'Writing metadata in /home/camille/PoolImpHuman/data/tmp/pooled.pack3.IMP.chr20.snps.gt.vcf',\n '',\n 'Writing data in /home/camille/PoolImpHuman/data/tmp/pooled.pack3.IMP.chr20.snps.gt.vcf',\n 'Writing data in /home/camille/PoolImpHuman/data/tmp/pooled.pack3.IMP.chr20.snps.gt.vcf: Done',\n '/home/camille/PoolImpHuman/data/tmp/pooled.pack3.IMP.chr20.snps.gt.vcf.gz:',\n ' File created? -> True',\n '/home/camille/PoolImpHuman/data/tmp/pooled.pack3.IMP.chr20.snps.gt.vcf.gz:',\n ' File indexed? -> True',\n 'Time for pooling 1000 variants = 18.33282111099834 sec',\n '',\n 'Writing metadata in /home/camille/PoolImpHuman/data/tmp/pooled.pack6.IMP.chr20.snps.gt.vcf',\n '',\n 'Writing data in /home/camille/PoolImpHuman/data/tmp/pooled.pack6.IMP.chr20.snps.gt.vcf',\n 'Writing data in /home/camille/PoolImpHuman/data/tmp/pooled.pack6.IMP.chr20.snps.gt.vcf: Done',\n '/home/camille/PoolImpHuman/data/tmp/pooled.pack6.IMP.chr20.snps.gt.vcf.gz:',\n ' File created? -> True',\n '/home/camille/PoolImpHuman/data/tmp/pooled.pack6.IMP.chr20.snps.gt.vcf.gz:',\n ' File indexed? -> True',\n 'Time for pooling 1000 variants = 10.068073907001235 sec',\n 'Pooling data in /home/camille/PoolImpHuman/data/tmp/pack2.IMP.chr20.snps.gt.vcf.gz',\n '1 variants processed in 000.01 sec..............................................',\n '',\n 'Writing metadata in /home/camille/PoolImpHuman/data/tmp/pooled.pack2.IMP.chr20.snps.gt.vcf',\n '',\n 'Writing data in /home/camille/PoolImpHuman/data/tmp/pooled.pack2.IMP.chr20.snps.gt.vcf',\n 'Writing data in /home/camille/PoolImpHuman/data/tmp/pooled.pack2.IMP.chr20.snps.gt.vcf: Done',\n '/home/camille/PoolImpHuman/data/tmp/pooled.pack2.IMP.chr20.snps.gt.vcf.gz:',\n ' File created? -> True',\n '/home/camille/PoolImpHuman/data/tmp/pooled.pack2.IMP.chr20.snps.gt.vcf.gz:',\n ' File indexed? -> True',\n 'Time for pooling 1000 variants = 7.222617577001074 sec',\n '',\n 'Time elapsed -->  89.35386052499962',\n '/home/camille/PoolImpHuman/data/tmp/IMP.chr20.snps.gt.vcf:',\n ' File created? -> True',\n 'Writing to /tmp/bcftools-sort.Luj5e0',\n 'Merging 1 temporary files',\n 'Cleaning',\n 'Done',\n '/home/camille/PoolImpHuman/data/tmp/IMP.chr20.snps.gt.vcf:',\n ' File sorted? -> True',\n '/home/camille/PoolImpHuman/data/tmp/IMP.chr20.pooled.snps.gl.vcf.gz:',\n ' File created? -> True',\n '/home/camille/PoolImpHuman/data/tmp/IMP.chr20.pooled.snps.gl.vcf.gz:',\n ' File indexed? -> True',\n '',\n 'Time elapsed -->  96.12161777700021']"
     },
     "metadata": {},
     "output_type": "execute_result",
     "execution_count": 12
    }
   ],
   "source": [
    "# print('Pool the chunks')\n",
    "# %sx source ~/1000Genomes/venv3.6/bin/activate\n",
    "# %sx python3 -u parallel_pooling_20200624.py /home/camille/PoolImpHuman/data/omniexpress/IMP.chr20.snps.gt.vcf.gz /home/camille/PoolImpHuman/data/20200624/IMP.chr20.pooled.snps.gl.vcf.gz 4"
   ],
   "metadata": {
    "collapsed": false,
    "pycharm": {
     "name": "#%%\n",
     "is_executing": false
    }
   }
  },
  {
   "cell_type": "markdown",
   "source": [
    "```bash\n",
    "'Time elapsed -->  89.35386052499962',\n",
    " '/home/camille/PoolImpHuman/data/tmp/IMP.chr20.snps.gt.vcf:',\n",
    " ' File created? -> True',\n",
    " 'Writing to /tmp/bcftools-sort.Luj5e0',\n",
    " 'Merging 1 temporary files',\n",
    " 'Cleaning',\n",
    " 'Done',\n",
    " '/home/camille/PoolImpHuman/data/tmp/IMP.chr20.snps.gt.vcf:',\n",
    " ' File sorted? -> True',\n",
    " '/home/camille/PoolImpHuman/data/tmp/IMP.chr20.pooled.snps.gl.vcf.gz:',\n",
    " ' File created? -> True',\n",
    " '/home/camille/PoolImpHuman/data/tmp/IMP.chr20.pooled.snps.gl.vcf.gz:',\n",
    " ' File indexed? -> True',\n",
    " '',\n",
    " 'Time elapsed -->  96.12161777700021']\n",
    "```"
   ],
   "metadata": {
    "collapsed": false,
    "pycharm": {
     "name": "#%% md\n"
    }
   }
  },
  {
   "cell_type": "code",
   "execution_count": 2,
   "outputs": [
    {
     "name": "stdout",
     "text": [
      "Impute missing genotypes in the pooled file\n"
     ],
     "output_type": "stream"
    },
    {
     "data": {
      "text/plain": "[\"['/home/camille/PoolImpHuman/data/omniexpress', '/home/camille/1000Genomes', '/home/camille/1000Genomes/scripts/VCFPooling/python', '/home/camille/1000Genomes', '/usr/lib/python36.zip', '/usr/lib/python3.6', '/usr/lib/python3.6/lib-dynload', '/home/camille/1000Genomes/venv3.6/lib/python3.6/site-packages', '/home/camille/1000Genomes/venv3.6/lib/python3.6/site-packages/setuptools-40.8.0-py3.6.egg', '/home/camille/1000Genomes/venv3.6/lib/python3.6/site-packages/pip-19.0.3-py3.6.egg']\",\n '',\n '*******************************************************************************',\n 'Parameters configured:',\n 'working directory:  /home/camille/1000Genomes/data',\n 'number of markers to extract and process:  None',\n 'number of pools:  156',\n 'subsetting the main data set at 10%:  False',\n 'kind of genotype data:  GL',\n 'Path to GT files:  /home/camille/1000Genomes/data/gt',\n 'Path to GL files:  /home/camille/1000Genomes/data/gl',\n 'binarize MAFs:  False',\n 'values for missing GLs:  adaptive',\n '******************************************************************************',\n '',\n '',\n '*******************************************************************************',\n 'Number of cpu to be used = 2',\n 'Process files in /home/camille/PoolImpHuman/data/omniexpress',\n '*******************************************************************************',\n '',\n '',\n 'Start processing files for running BEAGLE......................................',\n '',\n '',\n 'BEAGLE ROUND#1................................................................',\n 'Directory:  /home/camille/PoolImpHuman/data/omniexpress',\n 'REF.chr20.beagle1.vcf.gz: the file does not exists',\n 'IMP.chr20.beagle1.vcf.gz: the file does not exists',\n 'beagle.11Mar19.69c.jar (version 4.1)',\n 'Copyright (C) 2014-2015 Brian L. Browning',\n 'Enter \"java -jar beagle.11Mar19.69c.jar\" for a summary of command line arguments.',\n 'beagle.11Mar19.69c.jar (version 4.1)',\n 'Copyright (C) 2014-2015 Brian L. Browning',\n 'Enter \"java -jar beagle.11Mar19.69c.jar\" for a summary of command line arguments.',\n 'Start time: 04:33 PM CEST on 24 Jun 2020',\n '',\n 'Command line: java -Xmx3976m -jar beagle.jar',\n '  gt=/home/camille/PoolImpHuman/data/omniexpress/REF.chr20.snps.gt.vcf.gz',\n '  impute=false',\n '  gprobs=true',\n '  out=REF.chr20.beagle1',\n '',\n 'No genetic map is specified: using 1 cM = 1 Mb',\n 'Start time: 04:33 PM CEST on 24 Jun 2020',\n '',\n 'Command line: java -Xmx3976m -jar beagle.jar',\n '  gt=/home/camille/PoolImpHuman/data/omniexpress/IMP.chr20.snps.gt.vcf.gz',\n '  impute=false',\n '  gprobs=true',\n '  out=IMP.chr20.beagle1',\n '',\n 'No genetic map is specified: using 1 cM = 1 Mb',\n '',\n 'reference samples:       0',\n 'target samples:        240',\n '',\n 'reference samples:       0',\n 'target samples:       2264',\n '',\n 'Window 1 [ 20:63244-62912463 ]',\n 'target markers:      17791',\n '',\n 'Window 1 [ 20:63244-62912463 ]',\n 'target markers:      17791',\n '',\n 'Number of markers:               17791',\n 'Total run time:                3 seconds',\n '',\n 'End time: 04:33 PM CEST on 24 Jun 2020',\n 'beagle.11Mar19.69c.jar (version 4.1) finished',\n '',\n 'Number of markers:               17791',\n 'Total run time:                9 seconds',\n '',\n 'End time: 04:33 PM CEST on 24 Jun 2020',\n 'beagle.11Mar19.69c.jar (version 4.1) finished',\n '/home/camille/PoolImpHuman/data/omniexpress/REF.chr20.beagle1.vcf.gz:',\n ' File indexed? -> True',\n '/home/camille/PoolImpHuman/data/omniexpress/IMP.chr20.beagle1.vcf.gz:',\n ' File indexed? -> True',\n 'temp.IMP.chr20.snps.gt.vcf.gz: the file does not exists',\n 'temp.REF.chr20.snps.gt.vcf.gz: the file does not exists',\n '',\n '',\n 'BEAGLE ROUND#1................................................................',\n 'Directory:  /home/camille/PoolImpHuman/data/omniexpress',\n 'IMP.chr20.pooled.beagle1.vcf.gz: the file does not exists',\n 'beagle.11Mar19.69c.jar (version 4.1)',\n 'Copyright (C) 2014-2015 Brian L. Browning',\n 'Enter \"java -jar beagle.11Mar19.69c.jar\" for a summary of command line arguments.',\n 'Start time: 04:33 PM CEST on 24 Jun 2020',\n '',\n 'Command line: java -Xmx3976m -jar beagle.jar',\n '  gtgl=IMP.chr20.pooled.snps.gl.vcf.gz',\n '  impute=false',\n '  gprobs=true',\n '  out=temp.b1',\n '',\n 'No genetic map is specified: using 1 cM = 1 Mb',\n '',\n 'reference samples:       0',\n 'target samples:        240',\n '',\n 'Window 1 [ 20:63244-62912463 ]',\n 'target markers:      17791',\n '',\n 'Starting burn-in iterations',\n '',\n 'Window=1 Iteration=1',\n 'Time for building model:         2 seconds',\n 'Time for sampling (singles):     4 seconds',\n 'DAG statistics',\n 'mean edges/level: 3      max edges/level: 10',\n 'mean edges/node:  1.985  mean count/edge: 160',\n '',\n 'Window=1 Iteration=2',\n 'Time for building model:         2 seconds',\n 'Time for sampling (singles):     4 seconds',\n 'DAG statistics',\n 'mean edges/level: 3      max edges/level: 12',\n 'mean edges/node:  1.983  mean count/edge: 160',\n '',\n 'Window=1 Iteration=3',\n 'Time for building model:         2 seconds',\n 'Time for sampling (singles):     4 seconds',\n 'DAG statistics',\n 'mean edges/level: 3      max edges/level: 12',\n 'mean edges/node:  1.975  mean count/edge: 160',\n '',\n 'Window=1 Iteration=4',\n 'Time for building model:         3 seconds',\n 'Time for sampling (singles):     4 seconds',\n 'DAG statistics',\n 'mean edges/level: 3      max edges/level: 12',\n 'mean edges/node:  1.965  mean count/edge: 160',\n '',\n 'Window=1 Iteration=5',\n 'Time for building model:         3 seconds',\n 'Time for sampling (singles):     4 seconds',\n 'DAG statistics',\n 'mean edges/level: 3      max edges/level: 13',\n 'mean edges/node:  1.952  mean count/edge: 160',\n '',\n 'Window=1 Iteration=6',\n 'Time for building model:         2 seconds',\n 'Time for sampling (singles):     4 seconds',\n 'DAG statistics',\n 'mean edges/level: 3      max edges/level: 12',\n 'mean edges/node:  1.945  mean count/edge: 160',\n '',\n 'Window=1 Iteration=7',\n 'Time for building model:         2 seconds',\n 'Time for sampling (singles):     4 seconds',\n 'DAG statistics',\n 'mean edges/level: 3      max edges/level: 11',\n 'mean edges/node:  1.936  mean count/edge: 160',\n '',\n 'Window=1 Iteration=8',\n 'Time for building model:         3 seconds',\n 'Time for sampling (singles):     4 seconds',\n 'DAG statistics',\n 'mean edges/level: 3      max edges/level: 11',\n 'mean edges/node:  1.926  mean count/edge: 160',\n '',\n 'Window=1 Iteration=9',\n 'Time for building model:         2 seconds',\n 'Time for sampling (singles):     4 seconds',\n 'DAG statistics',\n 'mean edges/level: 3      max edges/level: 11',\n 'mean edges/node:  1.917  mean count/edge: 160',\n '',\n 'Window=1 Iteration=10',\n 'Time for building model:         3 seconds',\n 'Time for sampling (singles):     4 seconds',\n 'DAG statistics',\n 'mean edges/level: 3      max edges/level: 11',\n 'mean edges/node:  1.907  mean count/edge: 160',\n '',\n 'Starting phasing iterations',\n '',\n 'Window=1 Iteration=11',\n 'Time for building model:         2 seconds',\n 'Time for sampling (singles):     43 seconds',\n 'DAG statistics',\n 'mean edges/level: 8      max edges/level: 24',\n 'mean edges/node:  1.417  mean count/edge: 60',\n '',\n 'Window=1 Iteration=12',\n 'Time for building model:         3 seconds',\n 'Time for sampling (singles):     40 seconds',\n 'DAG statistics',\n 'mean edges/level: 8      max edges/level: 22',\n 'mean edges/node:  1.343  mean count/edge: 60',\n '',\n 'Window=1 Iteration=13',\n 'Time for building model:         3 seconds',\n 'Time for sampling (singles):     37 seconds',\n 'DAG statistics',\n 'mean edges/level: 8      max edges/level: 22',\n 'mean edges/node:  1.284  mean count/edge: 60',\n '',\n 'Window=1 Iteration=14',\n 'Time for building model:         3 seconds',\n 'Time for sampling (singles):     38 seconds',\n 'DAG statistics',\n 'mean edges/level: 9      max edges/level: 22',\n 'mean edges/node:  1.241  mean count/edge: 53',\n '',\n 'Window=1 Iteration=15',\n 'Time for building model:         3 seconds',\n 'Time for sampling (singles):     37 seconds',\n 'DAG statistics',\n 'mean edges/level: 9      max edges/level: 26',\n 'mean edges/node:  1.207  mean count/edge: 53',\n '',\n 'Number of markers:               17791',\n 'Total time for building model: 36 seconds',\n 'Total time for sampling:       3 minutes 58 seconds',\n 'Total run time:                4 minutes 43 seconds',\n '',\n 'End time: 04:37 PM CEST on 24 Jun 2020',\n 'beagle.11Mar19.69c.jar (version 4.1) finished',\n 'beagle.11Mar19.69c.jar (version 4.1)',\n 'Copyright (C) 2014-2015 Brian L. Browning',\n 'Enter \"java -jar beagle.11Mar19.69c.jar\" for a summary of command line arguments.',\n 'Start time: 04:37 PM CEST on 24 Jun 2020',\n '',\n 'Command line: java -Xmx3976m -jar beagle.jar',\n '  gt=temp.b1.vcf.gz',\n '  impute=false',\n '  gprobs=true',\n '  out=IMP.chr20.pooled.beagle1',\n '',\n 'No genetic map is specified: using 1 cM = 1 Mb',\n '',\n 'reference samples:       0',\n 'target samples:        240',\n '',\n 'Window 1 [ 20:63244-62912463 ]',\n 'target markers:      17791',\n '',\n 'Starting burn-in iterations',\n '',\n 'Window=1 Iteration=1',\n 'Time for building model:         5 seconds',\n 'Time for sampling (singles):     2 seconds',\n 'DAG statistics',\n 'mean edges/level: 3      max edges/level: 13',\n 'mean edges/node:  1.550  mean count/edge: 160',\n '',\n 'Window=1 Iteration=2',\n 'Time for building model:         4 seconds',\n 'Time for sampling (singles):     2 seconds',\n 'DAG statistics',\n 'mean edges/level: 4      max edges/level: 20',\n 'mean edges/node:  1.431  mean count/edge: 120',\n '',\n 'Window=1 Iteration=3',\n 'Time for building model:         6 seconds',\n 'Time for sampling (singles):     2 seconds',\n 'DAG statistics',\n 'mean edges/level: 4      max edges/level: 20',\n 'mean edges/node:  1.341  mean count/edge: 120',\n '',\n 'Window=1 Iteration=4',\n 'Time for building model:         5 seconds',\n 'Time for sampling (singles):     2 seconds',\n 'DAG statistics',\n 'mean edges/level: 4      max edges/level: 19',\n 'mean edges/node:  1.323  mean count/edge: 120',\n '',\n 'Window=1 Iteration=5',\n 'Time for building model:         5 seconds',\n 'Time for sampling (singles):     1 second',\n 'DAG statistics',\n 'mean edges/level: 4      max edges/level: 17',\n 'mean edges/node:  1.319  mean count/edge: 120',\n '',\n 'Window=1 Iteration=6',\n 'Time for building model:         5 seconds',\n 'Time for sampling (singles):     1 second',\n 'DAG statistics',\n 'mean edges/level: 4      max edges/level: 20',\n 'mean edges/node:  1.313  mean count/edge: 120',\n '',\n 'Window=1 Iteration=7',\n 'Time for building model:         4 seconds',\n 'Time for sampling (singles):     1 second',\n 'DAG statistics',\n 'mean edges/level: 4      max edges/level: 18',\n 'mean edges/node:  1.307  mean count/edge: 120',\n '',\n 'Window=1 Iteration=8',\n 'Time for building model:         6 seconds',\n 'Time for sampling (singles):     1 second',\n 'DAG statistics',\n 'mean edges/level: 4      max edges/level: 20',\n 'mean edges/node:  1.307  mean count/edge: 120',\n '',\n 'Window=1 Iteration=9',\n 'Time for building model:         5 seconds',\n 'Time for sampling (singles):     1 second',\n 'DAG statistics',\n 'mean edges/level: 4      max edges/level: 18',\n 'mean edges/node:  1.299  mean count/edge: 120',\n '',\n 'Window=1 Iteration=10',\n 'Time for building model:         5 seconds',\n 'Time for sampling (singles):     1 second',\n 'DAG statistics',\n 'mean edges/level: 4      max edges/level: 18',\n 'mean edges/node:  1.300  mean count/edge: 120',\n '',\n 'Starting phasing iterations',\n '',\n 'Window=1 Iteration=11',\n 'Time for building model:         2 seconds',\n 'Time for sampling (singles):     33 seconds',\n 'DAG statistics',\n 'mean edges/level: 9      max edges/level: 25',\n 'mean edges/node:  1.179  mean count/edge: 53',\n '',\n 'Window=1 Iteration=12',\n 'Time for building model:         3 seconds',\n 'Time for sampling (singles):     35 seconds',\n 'DAG statistics',\n 'mean edges/level: 11     max edges/level: 26',\n 'mean edges/node:  1.172  mean count/edge: 44',\n '',\n 'Window=1 Iteration=13',\n 'Time for building model:         3 seconds',\n 'Time for sampling (singles):     36 seconds',\n 'DAG statistics',\n 'mean edges/level: 12     max edges/level: 30',\n 'mean edges/node:  1.168  mean count/edge: 40',\n '',\n 'Window=1 Iteration=14',\n 'Time for building model:         3 seconds',\n 'Time for sampling (singles):     42 seconds',\n 'DAG statistics',\n 'mean edges/level: 13     max edges/level: 30',\n 'mean edges/node:  1.157  mean count/edge: 37',\n '',\n 'Window=1 Iteration=15',\n 'Time for building model:         3 seconds',\n 'Time for sampling (singles):     43 seconds',\n 'DAG statistics',\n 'mean edges/level: 14     max edges/level: 32',\n 'mean edges/node:  1.151  mean count/edge: 34',\n '',\n 'Number of markers:               17791',\n 'Total time for building model: 1 minute 4 seconds',\n 'Total time for sampling:       3 minutes 26 seconds',\n 'Total run time:                4 minutes 35 seconds',\n '',\n 'End time: 04:42 PM CEST on 24 Jun 2020',\n 'beagle.11Mar19.69c.jar (version 4.1) finished',\n '/home/camille/PoolImpHuman/data/omniexpress/IMP.chr20.pooled.beagle1.vcf.gz:',\n ' File indexed? -> True',\n '',\n '',\n 'CONFORM-GT....................................................................',\n '/home/camille/PoolImpHuman/data/omniexpress',\n 'IMP.chr20.pooled.cfgt.vcf.gz: the file does not exists',\n '/home/camille/PoolImpHuman/data/omniexpress/IMP.chr20.pooled.cfgt.vcf.gz:',\n ' File indexed? -> True',\n '',\n '',\n 'BEAGLE (ROUND#2)..............................................................',\n 'IMP.chr20.pooled.beagle2.gl.vcf.gz: the file does not exists',\n 'beagle.11Mar19.69c.jar (version 4.1)',\n 'Copyright (C) 2014-2015 Brian L. Browning',\n 'Enter \"java -jar beagle.11Mar19.69c.jar\" for a summary of command line arguments.',\n 'Start time: 04:42 PM CEST on 24 Jun 2020',\n '',\n 'Command line: java -Xmx3976m -jar beagle.jar',\n '  gt=IMP.chr20.pooled.cfgt.vcf.gz',\n '  ref=/home/camille/PoolImpHuman/data/omniexpress/REF.chr20.beagle1.vcf.gz',\n '  impute=true',\n '  gprobs=true',\n '  out=IMP.chr20.pooled.beagle2.gl',\n '',\n 'No genetic map is specified: using 1 cM = 1 Mb',\n '',\n 'reference samples:    2264',\n 'target samples:        240',\n '',\n 'Window 1 [ 20:63244-62912463 ]',\n 'reference markers:   17791',\n 'target markers:      17791',\n '',\n 'Number of markers:               17791',\n 'Total run time:                3 seconds',\n '',\n 'End time: 04:43 PM CEST on 24 Jun 2020',\n 'beagle.11Mar19.69c.jar (version 4.1) finished',\n '/home/camille/PoolImpHuman/data/omniexpress/IMP.chr20.pooled.beagle2.gl.vcf.gz:',\n ' File indexed? -> True',\n '',\n '',\n 'REFORMATTING GP AND DS FIELDS.................................................',\n 'IMP.chr20.pooled.beagle2.gl.corr.vcf.gz: the file does not exists',\n '/home/camille/PoolImpHuman/data/omniexpress/IMP.chr20.pooled.beagle2.gl.corr.vcf.gz:',\n ' File indexed? -> True',\n '/home/camille/PoolImpHuman/data/omniexpress/IMP.chr20.pooled.imputed.gt.vcf.gz:',\n ' File indexed? -> True',\n '',\n '',\n 'CLEANING DIRECTORY /home/camille/PoolImpHuman/data/omniexpress................',\n '',\n '',\n 'CLEANING DIRECTORY /home/camille/PoolImpHuman/data/omniexpress................']"
     },
     "metadata": {},
     "output_type": "execute_result",
     "execution_count": 2
    }
   ],
   "source": [
    "# print('Impute missing genotypes in the pooled file')\n",
    "# %sx bash beagle_pipeline.sh\n",
    "# "
   ],
   "metadata": {
    "collapsed": false,
    "pycharm": {
     "name": "#%%\n",
     "is_executing": false
    }
   }
  },
  {
   "cell_type": "code",
   "execution_count": 3,
   "outputs": [
    {
     "name": "stdout",
     "text": [
      "Plotting results with bcftools stats\n"
     ],
     "output_type": "stream"
    },
    {
     "data": {
      "text/plain": "['Parsing bcftools stats output: filestats.vchk',\n 'Warning: Possible version mismatch, the definition line differs',\n '\\texpected: # PSC\\t[2]id\\t[3]sample\\t[4]nRefHom\\t[5]nNonRefHom\\t[6]nHets\\t[7]nTransitions\\t[8]nTransversions\\t[9]nIndels\\t[10]average depth\\t[11]nSingletons',\n '\\tfound:    # PSC\\t[2]id\\t[3]sample\\t[4]nRefHom\\t[5]nNonRefHom\\t[6]nHets\\t[7]nTransitions\\t[8]nTransversions\\t[9]nIndels\\t[10]average depth\\t[11]nSingletons\\t[12]nHapRef\\t[13]nHapAlt\\t[14]nMissing',\n 'Plotting graphs: python plot.py',\n 'plot.py:208: UserWarning: Attempted to set non-positive left xlim on a log-scaled axis.',\n 'Invalid limit will be ignored.',\n '  ax1.set_xlim(0,1.01)',\n 'plot.py:230: UserWarning: Attempted to set non-positive left xlim on a log-scaled axis.',\n 'Invalid limit will be ignored.',\n '  ax1.set_xlim(0,1.01)',\n 'Creating PDF: pdflatex summary.tex >plot-vcfstats.log 2>&1',\n 'Finished: bcftoolstats/summary.pdf']"
     },
     "metadata": {},
     "output_type": "execute_result",
     "execution_count": 3
    }
   ],
   "source": [
    "# print('Plotting results with bcftools stats')\n",
    "# %sx deactivate\n",
    "# # bcftools stats needs python 2.7\n",
    "# %sx bcftools stats --af-bins 0.01,0.02,0.04,0.08,0.1,0.2,0.3,0.4,0.5,0.6,0.7,0.8,0.9,0.98 --collapse snps -S study.population IMP.chr20.pooled.imputed.vcf.gz IMP.chr20.snps.gt.vcf.gz > filestats.vchk\n",
    "# %sx plot-vcfstats -p bcftoolstats -s filestats.vchk"
   ],
   "metadata": {
    "collapsed": false,
    "pycharm": {
     "name": "#%%\n",
     "is_executing": false
    }
   }
  },
  {
   "cell_type": "markdown",
   "source": [
    "### Compute results with customized metrics"
   ],
   "metadata": {
    "collapsed": false,
    "pycharm": {
     "name": "#%% md\n"
    }
   }
  },
  {
   "cell_type": "code",
   "execution_count": 8,
   "outputs": [],
   "source": [
    "import sys\n",
    "sys.path.insert(0, '/home/camille/1000Genomes/scripts/')\n",
    "\n",
    "%sx python3 -u /home/camille/1000Genomes/scripts/VCFPooling/poolSNPs/imputation_quality.py \"/home/camille/PoolImpHuman/data/20200624\" \"IMP.chr20.snps.gt.vcf.gz\" \"IMP.chr20.pooled.imputed.vcf.gz\"  "
   ],
   "metadata": {
    "collapsed": false,
    "pycharm": {
     "name": "#%%\n",
     "is_executing": false
    }
   }
  }
 ],
 "metadata": {
  "kernelspec": {
   "display_name": "Python 3",
   "language": "python",
   "name": "python3"
  },
  "language_info": {
   "codemirror_mode": {
    "name": "ipython",
    "version": 2
   },
   "file_extension": ".py",
   "mimetype": "text/x-python",
   "name": "python",
   "nbconvert_exporter": "python",
   "pygments_lexer": "ipython2",
   "version": "2.7.6"
  },
  "pycharm": {
   "stem_cell": {
    "cell_type": "raw",
    "source": [],
    "metadata": {
     "collapsed": false
    }
   }
  }
 },
 "nbformat": 4,
 "nbformat_minor": 0
}