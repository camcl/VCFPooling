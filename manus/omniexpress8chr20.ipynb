{
 "cells": [
  {
   "cell_type": "markdown",
   "metadata": {
    "collapsed": true,
    "pycharm": {
     "name": "#%% md\n"
    }
   },
   "source": [
    "# Choosing markers from real bead chip data\n",
    "\n",
    "Choose a real bead chip: Illumina Infinium OmniExpress2.5 - 8 Kit (https://support.illumina.com/downloads/infinium-omni2-5-8-v1-4-support-files.html). This array is provides high-density genotyped markers"
   ]
  },
  {
   "cell_type": "code",
   "execution_count": 1,
   "outputs": [],
   "source": [
    "import os\n",
    "\n",
    "os.chdir('/home/camille/PoolImpHuman/data/omniexpress8')"
   ],
   "metadata": {
    "collapsed": false,
    "pycharm": {
     "name": "#%%\n",
     "is_executing": false
    }
   }
  },
  {
   "cell_type": "markdown",
   "source": [
    "### EDA for the chip chosen"
   ],
   "metadata": {
    "collapsed": false,
    "pycharm": {
     "name": "#%% md\n"
    }
   }
  },
  {
   "cell_type": "code",
   "execution_count": 3,
   "outputs": [
    {
     "name": "stdout",
     "text": [
      "Number of markers (+1 for the header line) by counting IDs\n"
     ],
     "output_type": "stream"
    },
    {
     "data": {
      "text/plain": "['2382210']"
     },
     "metadata": {},
     "output_type": "execute_result",
     "execution_count": 3
    }
   ],
   "source": [
    "print('Number of markers (+1 for the header line) by counting IDs')\n",
    "%sx cut -f1 InfiniumOmni2-5-8v1-4_A1_Physical-and-Genetic-Coordinates.txt | wc -l"
   ],
   "metadata": {
    "collapsed": false,
    "pycharm": {
     "name": "#%%\n",
     "is_executing": false
    }
   }
  },
  {
   "cell_type": "code",
   "execution_count": 4,
   "outputs": [
    {
     "name": "stdout",
     "text": [
      "Number of markers (+1 for the header line) on chromosome 20 only\n"
     ],
     "output_type": "stream"
    },
    {
     "data": {
      "text/plain": "['56627']"
     },
     "metadata": {},
     "output_type": "execute_result",
     "execution_count": 4
    }
   ],
   "source": [
    "print('Number of markers (+1 for the header line) on chromosome 20 only')\n",
    "%sx cut -f2 InfiniumOmni2-5-8v1-4_A1_Physical-and-Genetic-Coordinates.txt | grep 20 | wc -l"
   ],
   "metadata": {
    "collapsed": false,
    "pycharm": {
     "name": "#%%\n",
     "is_executing": false
    }
   }
  },
  {
   "cell_type": "code",
   "execution_count": 6,
   "outputs": [
    {
     "name": "stdout",
     "text": [
      "Extract ID and CHROM columns for markers on chromosome 20\n"
     ],
     "output_type": "stream"
    },
    {
     "data": {
      "text/plain": "['56627']"
     },
     "metadata": {},
     "output_type": "execute_result",
     "execution_count": 6
    }
   ],
   "source": [
    "print('Extract ID and CHROM columns for markers on chromosome 20')\n",
    "%sx cut -f1,2 InfiniumOmni2-5-8v1-4_A1_Physical-and-Genetic-Coordinates.txt | awk '/20$/' | wc -l"
   ],
   "metadata": {
    "collapsed": false,
    "pycharm": {
     "name": "#%%\n",
     "is_executing": false
    }
   }
  },
  {
   "cell_type": "code",
   "execution_count": 5,
   "outputs": [
    {
     "name": "stdout",
     "text": [
      "Extract ID CHROM POS columns for markers on chromosome 20\n"
     ],
     "output_type": "stream"
    },
    {
     "data": {
      "text/plain": "['56627']"
     },
     "metadata": {},
     "output_type": "execute_result",
     "execution_count": 5
    }
   ],
   "source": [
    "print('Extract ID CHROM POS columns for markers on chromosome 20')\n",
    "%sx cut -f1,2,3 InfiniumOmni2-5-8v1-4_A1_Physical-and-Genetic-Coordinates.txt | awk '/\\t20\\t/' | wc -l"
   ],
   "metadata": {
    "collapsed": false,
    "pycharm": {
     "name": "#%%\n",
     "is_executing": false
    }
   }
  },
  {
   "cell_type": "code",
   "execution_count": 7,
   "outputs": [
    {
     "name": "stdout",
     "text": [
      "Extract POS column only for markers on chromosome 20\n"
     ],
     "output_type": "stream"
    },
    {
     "data": {
      "text/plain": "['56627']"
     },
     "metadata": {},
     "output_type": "execute_result",
     "execution_count": 7
    }
   ],
   "source": [
    "print('Extract POS column only for markers on chromosome 20')\n",
    "%sx cut -f1,2,3 InfiniumOmni2-5-8v1-4_A1_Physical-and-Genetic-Coordinates.txt | awk '/\\t20\\t/' | cut -f3 | wc -l"
   ],
   "metadata": {
    "collapsed": false,
    "pycharm": {
     "name": "#%%\n",
     "is_executing": false
    }
   }
  },
  {
   "cell_type": "code",
   "execution_count": 8,
   "outputs": [
    {
     "name": "stdout",
     "text": [
      "Create coordinate file processable by bcftools (markers positions should include at least #chromosome and #STARTPOS)\n"
     ],
     "output_type": "stream"
    },
    {
     "data": {
      "text/plain": "[]"
     },
     "metadata": {},
     "output_type": "execute_result",
     "execution_count": 8
    }
   ],
   "source": [
    "print('Create coordinate file processable by bcftools (markers positions should include at least #chromosome and #STARTPOS)')\n",
    "%sx cut -f1,2,3 InfiniumOmni2-5-8v1-4_A1_Physical-and-Genetic-Coordinates.txt | awk '/\\t20\\t/' | cut -f2,3 > InfiniumOmniExpress-chr20-CHROM-POS.txt"
   ],
   "metadata": {
    "collapsed": false,
    "pycharm": {
     "name": "#%%\n",
     "is_executing": false
    }
   }
  },
  {
   "cell_type": "code",
   "execution_count": 9,
   "outputs": [
    {
     "name": "stdout",
     "text": [
      "verify markers uniquesness\n"
     ],
     "output_type": "stream"
    },
    {
     "data": {
      "text/plain": "['56627']"
     },
     "metadata": {},
     "output_type": "execute_result",
     "execution_count": 9
    }
   ],
   "source": [
    "print('verify markers uniqueness')\n",
    "%sx uniq -u InfiniumOmniExpress-chr20-CHROM-POS.txt | wc -l"
   ],
   "metadata": {
    "collapsed": false,
    "pycharm": {
     "name": "#%%\n",
     "is_executing": false
    }
   }
  },
  {
   "cell_type": "code",
   "execution_count": 10,
   "outputs": [
    {
     "name": "stdout",
     "text": [
      "Number of Illumina OmniExpress markers present in the 1000GP data: intersection with 1000GP filtered SNPs\n"
     ],
     "output_type": "stream"
    },
    {
     "data": {
      "text/plain": "['52697']"
     },
     "metadata": {},
     "output_type": "execute_result",
     "execution_count": 10
    }
   ],
   "source": [
    "print('Number of Illumina OmniExpress markers present in the 1000GP data: intersection with 1000GP filtered SNPs')\n",
    "%sx bcftools view -H -R ~/PoolImpHuman/data/omniexpress8/InfiniumOmniExpress-chr20-CHROM-POS.txt ~/PoolImpHuman/data/main/ALL.chr20.snps.gt.vcf.gz | wc -l"
   ],
   "metadata": {
    "collapsed": false,
    "pycharm": {
     "name": "#%%\n",
     "is_executing": false
    }
   }
  },
  {
   "cell_type": "code",
   "execution_count": 10,
   "outputs": [
    {
     "name": "stdout",
     "text": [
      "Number of markers in the 1000GP filtered SNPs data\n"
     ],
     "output_type": "stream"
    },
    {
     "data": {
      "text/plain": "['1739315']"
     },
     "metadata": {},
     "output_type": "execute_result",
     "execution_count": 10
    }
   ],
   "source": [
    "print('Number of markers in the 1000GP filtered SNPs data')\n",
    "%sx bcftools query -f '%ID\\n' ~/PoolImpHuman/data/main/ALL.chr20.snps.gt.vcf.gz | wc -l"
   ],
   "metadata": {
    "collapsed": false,
    "pycharm": {
     "name": "#%%\n",
     "is_executing": false
    }
   }
  },
  {
   "cell_type": "code",
   "execution_count": 11,
   "outputs": [
    {
     "name": "stdout",
     "text": [
      "Extract positions only from the file for being read by Pandas\n"
     ],
     "output_type": "stream"
    },
    {
     "data": {
      "text/plain": "[]"
     },
     "metadata": {},
     "output_type": "execute_result",
     "execution_count": 11
    }
   ],
   "source": [
    "print('Extract positions only from the file for being read by Pandas')\n",
    "%sx bcftools query -f '%ID\\t%CHROM\\t%POS\\n' ~/PoolImpHuman/data/main/ALL.chr20.snps.gt.vcf.gz > ~/PoolImpHuman/data/omniexpress8/ALL.chr20.snps.gt.ID-CHROM-POSmarkers.txt"
   ],
   "metadata": {
    "collapsed": false,
    "pycharm": {
     "name": "#%%\n",
     "is_executing": false
    }
   }
  },
  {
   "cell_type": "code",
   "execution_count": 17,
   "outputs": [
    {
     "name": "stdout",
     "text": [
      "      ID1kgp  CHROM1kgp    POS     IDillu  CHROMillu\n",
      "0  rs6139074         20  63244  rs6139074         20\n",
      "1  rs1418258         20  63799  rs1418258         20\n",
      "2  rs6086616         20  68749  rs6086616         20\n",
      "3  rs6039403         20  69094  rs6039403         20\n",
      "4  rs6040395         20  71093  rs6040395         20\n",
      "\n",
      "Number of common markers = 17791\n"
     ],
     "output_type": "stream"
    }
   ],
   "source": [
    "'''\n",
    "Compare markers present in both 1KGP chr20 data set and OmniExpress Beadchip of Illumina for chr20\n",
    "'''\n",
    "\n",
    "import pandas as pd\n",
    "\n",
    "m1kgp = pd.read_csv('ALL.chr20.snps.gt.ID-CHROM-POSmarkers.txt', sep='\\t', header=None, names=['ID', 'CHROM', 'POS'])\n",
    "millumina = pd.read_csv('InfiniumOmniExpress-chr20-ID-CHROM-POS.txt', sep='\\t', header=None, names=['ID', 'CHROM', 'POS'])\n",
    "\n",
    "# minter = m1kgp.join(millumina, how=\"inner\", lsuffix='1kgp', rsuffix='illu')\n",
    "minter = m1kgp.merge(millumina, on='POS', how=\"inner\", suffixes=('1kgp', 'illu'))\n",
    "print(minter.head())\n",
    "\n",
    "print('\\nNumber of common markers = {}'.format(len(minter)))\n",
    "# intersection on ID --> 17778 SNPs only\n",
    "# there are duplicate IDs"
   ],
   "metadata": {
    "collapsed": false,
    "pycharm": {
     "name": "#%%\n",
     "is_executing": false
    }
   }
  },
  {
   "cell_type": "code",
   "execution_count": 1,
   "outputs": [
    {
     "name": "stdout",
     "text": [
      "Number of Illumina OmniExpress UNIQUE positions present in the 1000GP data and the OmniExpress bead chip\n"
     ],
     "output_type": "stream"
    },
    {
     "data": {
      "text/plain": "['52697']"
     },
     "metadata": {},
     "output_type": "execute_result",
     "execution_count": 1
    }
   ],
   "source": [
    "print('Number of Illumina OmniExpress UNIQUE positions present in the 1000GP data and the OmniExpress bead chip')\n",
    "%sx bcftools query -f '%POS\\n' -R ~/PoolImpHuman/data/omniexpress8/InfiniumOmniExpress-chr20-CHROM-POS.txt ~/PoolImpHuman/data/main/ALL.chr20.snps.gt.vcf.gz | uniq -u | wc -l"
   ],
   "metadata": {
    "collapsed": false,
    "pycharm": {
     "name": "#%%\n",
     "is_executing": false
    }
   }
  }
 ],
 "metadata": {
  "kernelspec": {
   "display_name": "Python 3",
   "language": "python",
   "name": "python3"
  },
  "language_info": {
   "codemirror_mode": {
    "name": "ipython",
    "version": 2
   },
   "file_extension": ".py",
   "mimetype": "text/x-python",
   "name": "python",
   "nbconvert_exporter": "python",
   "pygments_lexer": "ipython2",
   "version": "2.7.6"
  },
  "pycharm": {
   "stem_cell": {
    "cell_type": "raw",
    "source": [],
    "metadata": {
     "collapsed": false
    }
   }
  }
 },
 "nbformat": 4,
 "nbformat_minor": 0
}