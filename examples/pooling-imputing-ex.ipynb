{
 "cells": [
  {
   "cell_type": "code",
   "execution_count": null,
   "outputs": [],
   "source": [
    "import sys, os\n",
    "\n",
    "# force PYTHONPATH to look into the project directory for modules\n",
    "rootdir = os.path.dirname(os.path.dirname(os.getcwd()))\n",
    "sys.path.insert(0, rootdir)\n"
   ],
   "metadata": {
    "collapsed": false,
    "pycharm": {
     "name": "#%%\n"
    }
   }
  },
  {
   "cell_type": "markdown",
   "source": [
    "# Pooling-imputation performance from real bead chip data\n",
    "\n",
    "Performs pooling simulation and imputation on data from the chromosome 20 of 1000GP.\n",
    "The 1000 first markers have been selected and all unrelated individuals (2504 samples). \n",
    "These samples are randomly subdivided into a reference panel REF and a study population IMP to be pooled and imputed.\n",
    "Imputation is done with Beagle 4.1 and the default parameters.\n"
   ],
   "metadata": {
    "collapsed": false
   }
  },
  {
   "cell_type": "code",
   "execution_count": 27,
   "outputs": [
    {
     "name": "stdout",
     "text": [
      "Check number of samples\n"
     ],
     "output_type": "stream"
    },
    {
     "data": {
      "text/plain": "['2504']"
     },
     "metadata": {},
     "output_type": "execute_result",
     "execution_count": 27
    }
   ],
   "source": [
    "print('Check number of samples')\n",
    "%sx bcftools query -l ALL.chr20.snps.gt.vcf.gz | wc -l"
   ],
   "metadata": {
    "collapsed": false,
    "pycharm": {
     "name": "#%%\n",
     "is_executing": false
    }
   }
  },
  {
   "cell_type": "code",
   "execution_count": 28,
   "outputs": [
    {
     "name": "stdout",
     "text": [
      "Check number of intersected markers\n"
     ],
     "output_type": "stream"
    },
    {
     "data": {
      "text/plain": "['1000']"
     },
     "metadata": {},
     "output_type": "execute_result",
     "execution_count": 28
    }
   ],
   "source": [
    "print('Check number of intersected markers')\n",
    "%sx bcftools view -H ALL.chr20.snps.gt.vcf.gz | wc -l"
   ],
   "metadata": {
    "collapsed": false,
    "pycharm": {
     "name": "#%%\n",
     "is_executing": false
    }
   }
  },
  {
   "cell_type": "code",
   "execution_count": 29,
   "outputs": [
    {
     "name": "stdout",
     "text": [
      "Shuffle split into file for REF and IMP populations\n",
      "/home/camille/1000Genomes/src/VCFPooling/examples/REF.chr20.snps.gt.vcf.gz:\r\n",
      " File created? -> True\n",
      "/home/camille/1000Genomes/src/VCFPooling/examples/REF.chr20.snps.gt.vcf.gz:\r\n",
      " File indexed? -> True\n",
      "/home/camille/1000Genomes/src/VCFPooling/examples/IMP.chr20.snps.gt.vcf.gz:\r\n",
      " File created? -> True\n",
      "/home/camille/1000Genomes/src/VCFPooling/examples/IMP.chr20.snps.gt.vcf.gz:\r\n",
      " File indexed? -> True\n"
     ],
     "output_type": "stream"
    }
   ],
   "source": [
    "print('Shuffle split into file for REF and IMP populations')\n",
    "from VCFPooling.poolSNPs import poolvcf\n",
    "from VCFPooling.poolSNPs.pooler import Design\n",
    "\n",
    "ds = Design()\n",
    "dm = ds.matrix\n",
    "\n",
    "sfsp = poolvcf.ShuffleSplitVCF(dm, 'ALL.chr20.snps.gt.vcf.gz', stu_size=0.1, wd=os.getcwd())\n",
    "sfsp.split_file('chr20.snps.gt.vcf.gz')"
   ],
   "metadata": {
    "collapsed": false,
    "pycharm": {
     "name": "#%%\n",
     "is_executing": false
    }
   }
  },
  {
   "cell_type": "code",
   "execution_count": 30,
   "outputs": [
    {
     "name": "stdout",
     "text": [
      "Apply pooling on the study population\n"
     ],
     "output_type": "stream"
    },
    {
     "data": {
      "text/plain": "['model name\\t: Intel(R) Core(TM) i7-7600U CPU @ 2.80GHz']"
     },
     "metadata": {},
     "output_type": "execute_result",
     "execution_count": 30
    }
   ],
   "source": [
    "print('Apply pooling on the study population')\n",
    "# get processor characteristics on Linux-based OS\n",
    "%sx cat /proc/cpuinfo  | grep 'name'| uniq\n",
    "# model name\t: Intel(R) Core(TM) i7-7600U CPU @ 2.80GHz"
   ],
   "metadata": {
    "collapsed": false,
    "pycharm": {
     "name": "#%%\n",
     "is_executing": false
    }
   }
  },
  {
   "cell_type": "code",
   "execution_count": 31,
   "outputs": [
    {
     "data": {
      "text/plain": "['',\n '*******************************************************************************',\n 'Input file = IMP.chr20.snps.gt.vcf.gz',\n 'Output file = IMP.chr20.pooled.snps.gl.vcf.gz',\n '*******************************************************************************',\n '',\n 'Pooling data in /home/camille/1000Genomes/src/VCFPooling/examples/IMP.chr20.snps.gt.vcf.gz',\n '1 variants processed in 000.01 sec..............................................',\n '',\n 'Writing metadata in /home/camille/1000Genomes/src/VCFPooling/examples/IMP.chr20.pooled.snps.gl.vcf',\n '',\n 'Writing data in /home/camille/1000Genomes/src/VCFPooling/examples/IMP.chr20.pooled.snps.gl.vcf',\n 'Writing data in /home/camille/1000Genomes/src/VCFPooling/examples/IMP.chr20.pooled.snps.gl.vcf: Done',\n '/home/camille/1000Genomes/src/VCFPooling/examples/IMP.chr20.pooled.snps.gl.vcf.gz:',\n ' File created? -> True',\n '/home/camille/1000Genomes/src/VCFPooling/examples/IMP.chr20.pooled.snps.gl.vcf.gz:',\n ' File indexed? -> True',\n 'Time for pooling 1000 variants = 6.5996186080010375 sec',\n '',\n 'Time elapsed -->  6.607803601000342']"
     },
     "metadata": {},
     "output_type": "execute_result",
     "execution_count": 31
    }
   ],
   "source": [
    "#pooling simulation\n",
    "%sx python3 -u pooling-ex.py IMP.chr20.snps.gt.vcf.gz IMP.chr20.pooled.snps.gl.vcf.gz \n",
    "# Time for pooling 1000 variants = 6.537596869000481 sec"
   ],
   "metadata": {
    "collapsed": false,
    "pycharm": {
     "name": "#%%\n",
     "is_executing": false
    }
   }
  },
  {
   "cell_type": "code",
   "execution_count": 32,
   "outputs": [
    {
     "name": "stdout",
     "text": [
      "Impute missing genotypes in the pooled file\n"
     ],
     "output_type": "stream"
    },
    {
     "data": {
      "text/plain": "['bash: bin/beagle_pipeline.sh: No such file or directory']"
     },
     "metadata": {},
     "output_type": "execute_result",
     "execution_count": 32
    }
   ],
   "source": [
    "print('Impute missing genotypes in the pooled file')\n",
    "%sx bash bin/beagle_pipeline.sh"
   ],
   "metadata": {
    "collapsed": false,
    "pycharm": {
     "name": "#%%\n",
     "is_executing": false
    }
   }
  },
  {
   "cell_type": "code",
   "execution_count": 33,
   "outputs": [
    {
     "traceback": [
      "\u001b[0;31m---------------------------------------------------------------------------\u001b[0m",
      "\u001b[0;31mAssertionError\u001b[0m                            Traceback (most recent call last)",
      "\u001b[0;32m<ipython-input-33-3a45fd9560d4>\u001b[0m in \u001b[0;36m<module>\u001b[0;34m\u001b[0m\n\u001b[1;32m      1\u001b[0m \u001b[0;31m# Verify files created at the different phasing and imputation steps\u001b[0m\u001b[0;34m\u001b[0m\u001b[0;34m\u001b[0m\u001b[0;34m\u001b[0m\u001b[0m\n\u001b[0;32m----> 2\u001b[0;31m \u001b[0;32massert\u001b[0m \u001b[0mos\u001b[0m\u001b[0;34m.\u001b[0m\u001b[0mpath\u001b[0m\u001b[0;34m.\u001b[0m\u001b[0mexists\u001b[0m\u001b[0;34m(\u001b[0m\u001b[0;34m'IMP.chr20.pooled.unphased.vcf.gz'\u001b[0m\u001b[0;34m)\u001b[0m\u001b[0;34m\u001b[0m\u001b[0;34m\u001b[0m\u001b[0m\n\u001b[0m\u001b[1;32m      3\u001b[0m \u001b[0;32massert\u001b[0m \u001b[0mos\u001b[0m\u001b[0;34m.\u001b[0m\u001b[0mpath\u001b[0m\u001b[0;34m.\u001b[0m\u001b[0mexists\u001b[0m\u001b[0;34m(\u001b[0m\u001b[0;34m'IMP.chr20.pooled.phased.vcf.gz'\u001b[0m\u001b[0;34m)\u001b[0m\u001b[0;34m\u001b[0m\u001b[0;34m\u001b[0m\u001b[0m\n\u001b[1;32m      4\u001b[0m \u001b[0;32massert\u001b[0m \u001b[0mos\u001b[0m\u001b[0;34m.\u001b[0m\u001b[0mpath\u001b[0m\u001b[0;34m.\u001b[0m\u001b[0mexists\u001b[0m\u001b[0;34m(\u001b[0m\u001b[0;34m'IMP.chr20.pooled.phased.dedup.vcf.gz'\u001b[0m\u001b[0;34m)\u001b[0m\u001b[0;34m\u001b[0m\u001b[0;34m\u001b[0m\u001b[0m\n\u001b[1;32m      5\u001b[0m \u001b[0;32massert\u001b[0m \u001b[0mos\u001b[0m\u001b[0;34m.\u001b[0m\u001b[0mpath\u001b[0m\u001b[0;34m.\u001b[0m\u001b[0mexists\u001b[0m\u001b[0;34m(\u001b[0m\u001b[0;34m'IMP.chr20.pooled.imputed.vcf.gz'\u001b[0m\u001b[0;34m)\u001b[0m\u001b[0;34m\u001b[0m\u001b[0;34m\u001b[0m\u001b[0m\n",
      "\u001b[0;31mAssertionError\u001b[0m: "
     ],
     "ename": "AssertionError",
     "evalue": "",
     "output_type": "error"
    }
   ],
   "source": [
    "# Verify files created at the different phasing and imputation steps\n",
    "assert os.path.exists('IMP.chr20.pooled.unphased.vcf.gz')\n",
    "assert os.path.exists('IMP.chr20.pooled.phased.vcf.gz')\n",
    "assert os.path.exists('IMP.chr20.pooled.phased.dedup.vcf.gz')\n",
    "assert os.path.exists('IMP.chr20.pooled.imputed.vcf.gz')"
   ],
   "metadata": {
    "collapsed": false,
    "pycharm": {
     "name": "#%%\n",
     "is_executing": false
    }
   }
  },
  {
   "cell_type": "markdown",
   "source": [
    "### Compute results with customized metrics\n",
    "Show classification task-based metrics and classical genotype imputation metrics"
   ],
   "metadata": {
    "collapsed": false
   }
  },
  {
   "cell_type": "code",
   "execution_count": null,
   "outputs": [],
   "source": [
    "%sx python3 -u ../poolSNPs/imputation_quality.py ./ IMP.chr20.snps.gt.vcf.gz IMP.chr20.pooled.imputed.vcf.gz bin/gt_to_gl.sh  "
   ],
   "metadata": {
    "collapsed": false,
    "pycharm": {
     "name": "#%%\n",
     "is_executing": false
    }
   }
  },
  {
   "cell_type": "code",
   "execution_count": null,
   "outputs": [],
   "source": [
    "# Verify files created at the different phasing and imputation steps\n",
    "assert os.path.exists('imputation_quality_gtgl.png')\n"
   ],
   "metadata": {
    "collapsed": false,
    "pycharm": {
     "name": "#%%\n",
     "is_executing": false
    }
   }
  },
  {
   "cell_type": "code",
   "execution_count": null,
   "outputs": [],
   "source": [
    "# # if bcftools is configured for python 2.7 usage \n",
    "# print('Plotting results with bcftools stats')\n",
    "# %sx deactivate\n",
    "# # bcftools stats needs python 2.7\n",
    "# %sx bcftools stats --af-bins 0.01,0.02,0.04,0.08,0.1,0.2,0.3,0.4,0.5,0.6,0.7,0.8,0.9,0.98 --collapse snps -S study.population IMP.chr20.pooled.imputed.vcf.gz IMP.chr20.snps.gt.vcf.gz > filestats.vchk\n",
    "# %sx plot-vcfstats -p bcftoolstats -s filestats.vchk\n"
   ],
   "metadata": {
    "collapsed": false,
    "pycharm": {
     "name": "#%%\n",
     "is_executing": false
    }
   }
  }
 ],
 "metadata": {
  "kernelspec": {
   "display_name": "Python 3",
   "language": "python",
   "name": "python3"
  },
  "language_info": {
   "codemirror_mode": {
    "name": "ipython",
    "version": 2
   },
   "file_extension": ".py",
   "mimetype": "text/x-python",
   "name": "python",
   "nbconvert_exporter": "python",
   "pygments_lexer": "ipython2",
   "version": "2.7.6"
  },
  "pycharm": {
   "stem_cell": {
    "cell_type": "raw",
    "source": [],
    "metadata": {
     "collapsed": false
    }
   }
  }
 },
 "nbformat": 4,
 "nbformat_minor": 0
}